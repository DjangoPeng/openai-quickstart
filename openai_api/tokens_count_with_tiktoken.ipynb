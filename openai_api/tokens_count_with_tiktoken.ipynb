{
 "cells": [
  {
   "cell_type": "markdown",
   "id": "0890321e-de51-4dce-a632-5793d2179c3e",
   "metadata": {},
   "source": [
    "# tiktoken的基础使用"
   ]
  },
  {
   "cell_type": "code",
   "execution_count": 1,
   "id": "76a3af36-b113-4687-ae18-9002a7fffdc3",
   "metadata": {},
   "outputs": [
    {
     "name": "stdout",
     "output_type": "stream",
     "text": [
      "Looking in indexes: https://pypi.tuna.tsinghua.edu.cn/simple\n",
      "Requirement already satisfied: tiktoken in /usr/local/lib/python3.11/site-packages (0.4.0)\n",
      "Requirement already satisfied: regex>=2022.1.18 in /usr/local/lib/python3.11/site-packages (from tiktoken) (2023.6.3)\n",
      "Requirement already satisfied: requests>=2.26.0 in /usr/local/lib/python3.11/site-packages (from tiktoken) (2.31.0)\n",
      "Requirement already satisfied: charset-normalizer<4,>=2 in /usr/local/lib/python3.11/site-packages (from requests>=2.26.0->tiktoken) (3.2.0)\n",
      "Requirement already satisfied: idna<4,>=2.5 in /usr/local/lib/python3.11/site-packages (from requests>=2.26.0->tiktoken) (3.4)\n",
      "Requirement already satisfied: urllib3<3,>=1.21.1 in /usr/local/lib/python3.11/site-packages (from requests>=2.26.0->tiktoken) (2.0.3)\n",
      "Requirement already satisfied: certifi>=2017.4.17 in /usr/local/lib/python3.11/site-packages (from requests>=2.26.0->tiktoken) (2023.5.7)\n",
      "\n",
      "\u001b[1m[\u001b[0m\u001b[34;49mnotice\u001b[0m\u001b[1;39;49m]\u001b[0m\u001b[39;49m A new release of pip is available: \u001b[0m\u001b[31;49m23.0.1\u001b[0m\u001b[39;49m -> \u001b[0m\u001b[32;49m23.2.1\u001b[0m\n",
      "\u001b[1m[\u001b[0m\u001b[34;49mnotice\u001b[0m\u001b[1;39;49m]\u001b[0m\u001b[39;49m To update, run: \u001b[0m\u001b[32;49mpython3.11 -m pip install --upgrade pip\u001b[0m\n"
     ]
    }
   ],
   "source": [
    "#导入tiktoken\n",
    "!pip3 install tiktoken"
   ]
  },
  {
   "cell_type": "code",
   "execution_count": 4,
   "id": "bc92afbc-05eb-401c-916d-16578c35bd1f",
   "metadata": {},
   "outputs": [
    {
     "name": "stdout",
     "output_type": "stream",
     "text": [
      "<Encoding 'cl100k_base'>\n"
     ]
    }
   ],
   "source": [
    "#获取一个模型的编码方式\n",
    "import tiktoken\n",
    "\n",
    "encoding = tiktoken.encoding_for_model('gpt-3.5-turbo')\n",
    "print(encoding)"
   ]
  },
  {
   "cell_type": "code",
   "execution_count": 7,
   "id": "e6211ffb-2751-48d5-b612-cef0efbdad16",
   "metadata": {},
   "outputs": [
    {
     "name": "stdout",
     "output_type": "stream",
     "text": [
      "<Encoding 'cl100k_base'>\n"
     ]
    }
   ],
   "source": [
    "#创建一个分词器\n",
    "#给定编码创建\n",
    "encoder = tiktoken.get_encoding('cl100k_base')\n",
    "#自动加载给定模型名称的正确编码\n",
    "# encoder = tiktoken.encoding_for_model('gpt-3.5-turbo')\n",
    "print(encoder)"
   ]
  },
  {
   "cell_type": "code",
   "execution_count": 12,
   "id": "9fdc52c8-65b8-4b57-a8a0-912224177f8b",
   "metadata": {},
   "outputs": [],
   "source": [
    "#使用分词器处理文本\n",
    "tokens = encoder.encode(\"this is nice day\")"
   ]
  },
  {
   "cell_type": "code",
   "execution_count": 9,
   "id": "85956f51-7236-4e95-a3cf-911c6316ee70",
   "metadata": {},
   "outputs": [],
   "source": [
    "def num_tokens_from_string(string, encoding_name = 'cl100k_base')->int :\n",
    "    \"\"\"返回文本字符串中的token数量\"\"\"\n",
    "    encoding = tiktoken.get_encoding(encoding_name)\n",
    "    num_tokens = len(encoding.encode(string))\n",
    "    return num_tokens"
   ]
  },
  {
   "cell_type": "code",
   "execution_count": 11,
   "id": "46309f3c-26cc-4060-ad6e-c01e0d2f1aa3",
   "metadata": {},
   "outputs": [
    {
     "name": "stdout",
     "output_type": "stream",
     "text": [
      "使用函数输出字符串中的token数量:4\n"
     ]
    }
   ],
   "source": [
    "num = num_tokens_from_string(\"this is nice_day\")\n",
    "print(f\"使用函数输出字符串中的token数量:{num}\")"
   ]
  },
  {
   "cell_type": "code",
   "execution_count": 13,
   "id": "2de90c73-5492-43b2-a173-fc31671f831c",
   "metadata": {},
   "outputs": [
    {
     "data": {
      "text/plain": [
       "'this is nice day'"
      ]
     },
     "execution_count": 13,
     "metadata": {},
     "output_type": "execute_result"
    }
   ],
   "source": [
    "#将token转化为string文本\n",
    "encoding.decode(tokens)"
   ]
  },
  {
   "cell_type": "code",
   "execution_count": 14,
   "id": "5da6c651-0070-402d-af62-4dac536724b2",
   "metadata": {},
   "outputs": [
    {
     "data": {
      "text/plain": [
       "[b'this', b' is', b' nice', b' day']"
      ]
     },
     "execution_count": 14,
     "metadata": {},
     "output_type": "execute_result"
    }
   ],
   "source": [
    "#将tokens中每个token转化为单个字节\n",
    "[encoder.decode_single_token_bytes(token) for token in tokens]"
   ]
  },
  {
   "cell_type": "code",
   "execution_count": 16,
   "id": "491b4655-6fee-42b7-8efb-a9fec4c53ce9",
   "metadata": {},
   "outputs": [],
   "source": [
    "#根据不同的编码输出的token及转化为字符的比较\n",
    "def compare_diff_encoding_way_print(string) :\n",
    "    \"\"\"打印 三个字符串编码的比较结果\"\"\"\n",
    "    for encoding_name in [\"gpt2\", \"p50k_base\", \"cl100k_base\"]:\n",
    "        encoder = tiktoken.get_encoding(encoding_name)\n",
    "        tokens = encoder.encode(string)\n",
    "        num_tokens = len(tokens)\n",
    "        bytes_tokens = [encoder.decode_single_token_bytes(token) for token in tokens]\n",
    "        print(f\"当前编码为:{encoding_name}:\")\n",
    "        print(f\"token integers:{tokens}\")\n",
    "        print(f\"token bytes:{bytes_tokens}\")"
   ]
  },
  {
   "cell_type": "code",
   "execution_count": 17,
   "id": "8dc7ad90-8da1-493a-b68a-b648625ae745",
   "metadata": {},
   "outputs": [
    {
     "name": "stdout",
     "output_type": "stream",
     "text": [
      "当前编码为:gpt2:\n",
      "token integers:[5661, 318, 3621, 1110]\n",
      "token bytes:[b'this', b' is', b' nice', b' day']\n",
      "当前编码为:p50k_base:\n",
      "token integers:[5661, 318, 3621, 1110]\n",
      "token bytes:[b'this', b' is', b' nice', b' day']\n",
      "当前编码为:cl100k_base:\n",
      "token integers:[576, 374, 6555, 1938]\n",
      "token bytes:[b'this', b' is', b' nice', b' day']\n"
     ]
    }
   ],
   "source": [
    "compare_diff_encoding_way_print(\"this is nice day\")"
   ]
  },
  {
   "cell_type": "code",
   "execution_count": 18,
   "id": "ea0d103d-8c2c-4fb6-aaba-82a9f33fca11",
   "metadata": {},
   "outputs": [
    {
     "name": "stdout",
     "output_type": "stream",
     "text": [
      "当前编码为:gpt2:\n",
      "token integers:[22755, 239, 20998, 104, 161, 119, 244, 165, 243, 123, 33176, 111]\n",
      "token bytes:[b'\\xe6\\x88', b'\\x91', b'\\xe5\\x8f', b'\\xab', b'\\xe5', b'\\xbb', b'\\x96', b'\\xe9', b'\\x95', b'\\xbf', b'\\xe5\\xb9', b'\\xb3']\n",
      "当前编码为:p50k_base:\n",
      "token integers:[22755, 239, 20998, 104, 161, 119, 244, 165, 243, 123, 33176, 111]\n",
      "token bytes:[b'\\xe6\\x88', b'\\x91', b'\\xe5\\x8f', b'\\xab', b'\\xe5', b'\\xbb', b'\\x96', b'\\xe9', b'\\x95', b'\\xbf', b'\\xe5\\xb9', b'\\xb3']\n",
      "当前编码为:cl100k_base:\n",
      "token integers:[37046, 5877, 104, 25766, 244, 46961, 50211]\n",
      "token bytes:[b'\\xe6\\x88\\x91', b'\\xe5\\x8f', b'\\xab', b'\\xe5\\xbb', b'\\x96', b'\\xe9\\x95\\xbf', b'\\xe5\\xb9\\xb3']\n"
     ]
    }
   ],
   "source": [
    "compare_diff_encoding_way_print(\"我叫廖长平\")"
   ]
  },
  {
   "cell_type": "code",
   "execution_count": null,
   "id": "60876b9c-7deb-40a0-b95f-bce382034f84",
   "metadata": {},
   "outputs": [],
   "source": [
    "#从上面输出可以看出，cl100k_base编码方式输出的token数量会更少，更节省费用"
   ]
  },
  {
   "cell_type": "code",
   "execution_count": null,
   "id": "a07e0a72-a3ce-4d0f-a00b-f976ad100647",
   "metadata": {},
   "outputs": [],
   "source": []
  }
 ],
 "metadata": {
  "kernelspec": {
   "display_name": "Python 3 (ipykernel)",
   "language": "python",
   "name": "python3"
  },
  "language_info": {
   "codemirror_mode": {
    "name": "ipython",
    "version": 3
   },
   "file_extension": ".py",
   "mimetype": "text/x-python",
   "name": "python",
   "nbconvert_exporter": "python",
   "pygments_lexer": "ipython3",
   "version": "3.11.4"
  }
 },
 "nbformat": 4,
 "nbformat_minor": 5
}
