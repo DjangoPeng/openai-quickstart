{
 "cells": [
  {
   "cell_type": "markdown",
   "id": "bb04f1a2-1f87-42e6-a5ad-453eec40215f",
   "metadata": {},
   "source": [
    "# Models API\n",
    "使用 Models API 查看和访问 OpenAI 提供的预训练大语言模型\n",
    "\n",
    "https://platform.openai.com/docs/api-reference"
   ]
  },
  {
   "cell_type": "markdown",
   "id": "7466990e-c2ac-441c-a545-fdc122e752ca",
   "metadata": {},
   "source": [
    "## Models List\n",
    "\n",
    "列出当前可用的模型，并提供每个模型的基本信息，如所有者和可用性。\n",
    "\n",
    "`data`: 目前OpenAI提供的大语言模型列表，列表中的每一项都对应着一个模型实例。"
   ]
  },
  {
   "cell_type": "code",
   "execution_count": 2,
   "id": "f453ab0c-b262-4fa5-993e-b4b341e46a94",
   "metadata": {},
   "outputs": [],
   "source": [
    "import os\n",
    "import openai\n",
    "from dotenv import load_dotenv\n",
    "\n",
    "_ = load_dotenv('../tokens.env')\n",
    "openai.api_key = os.environ['OPENAI_API_KEY']\n",
    "\n",
    "models = openai.Model.list()"
   ]
  },
  {
   "cell_type": "markdown",
   "id": "88fae1bd-fe3d-4308-9e76-2b9bdac35f85",
   "metadata": {},
   "source": [
    "#### Prompt：获取所有模型名称 \n",
    "\n",
    "```\n",
    "下面的json数据存在models变量中，我希望遍历获取models中每一个\"id\"，并将结果存在model_list中，生成python代码：\n",
    "\n",
    "\"data\": [\n",
    "    {\n",
    "      \"created\": 1649358449,\n",
    "      \"id\": \"babbage\",\n",
    "      \"object\": \"model\",\n",
    "      \"owned_by\": \"openai\",\n",
    "      \"parent\": null,\n",
    "      \"permission\": [\n",
    "        {\n",
    "          \"allow_create_engine\": false,\n",
    "          \"allow_fine_tuning\": false,\n",
    "          \"allow_logprobs\": true,\n",
    "          \"allow_sampling\": true,\n",
    "          \"allow_search_indices\": false,\n",
    "          \"allow_view\": true,\n",
    "          \"created\": 1669085501,\n",
    "          \"group\": null,\n",
    "          \"id\": \"modelperm-49FUp5v084tBB49tC4z8LPH5\",\n",
    "          \"is_blocking\": false,\n",
    "          \"object\": \"model_permission\",\n",
    "          \"organization\": \"*\"\n",
    "        }\n",
    "      ],\n",
    "      \"root\": \"babbage\"\n",
    "    },\n",
    "    {\n",
    "      \"created\": 1669599635,\n",
    "      \"id\": \"text-davinci-003\",\n",
    "      \"object\": \"model\",\n",
    "      \"owned_by\": \"openai-internal\",\n",
    "      \"parent\": null,\n",
    "      \"permission\": [\n",
    "        {\n",
    "          \"allow_create_engine\": false,\n",
    "          \"allow_fine_tuning\": false,\n",
    "          \"allow_logprobs\": true,\n",
    "          \"allow_sampling\": true,\n",
    "          \"allow_search_indices\": false,\n",
    "          \"allow_view\": true,\n",
    "          \"created\": 1688551385,\n",
    "          \"group\": null,\n",
    "          \"id\": \"modelperm-jepinXYt59ncUQrjQEIUEDyC\",\n",
    "          \"is_blocking\": false,\n",
    "          \"object\": \"model_permission\",\n",
    "          \"organization\": \"*\"\n",
    "        }\n",
    "      ],\n",
    "      \"root\": \"text-davinci-003\"\n",
    "    },\n",
    "```\n"
   ]
  },
  {
   "cell_type": "code",
   "execution_count": 4,
   "id": "72513bee-c571-453d-80ba-76bbb5f206b5",
   "metadata": {},
   "outputs": [],
   "source": [
    "model_list = [model['id'] for model in models['data']]"
   ]
  },
  {
   "cell_type": "code",
   "execution_count": 6,
   "id": "c0eae95d-8ef2-4f16-a8fd-dfa5dcb53149",
   "metadata": {},
   "outputs": [
    {
     "name": "stdout",
     "output_type": "stream",
     "text": [
      "53\n",
      "['babbage', 'text-davinci-003', 'davinci', 'text-davinci-edit-001', 'babbage-code-search-code', 'text-similarity-babbage-001', 'code-davinci-edit-001', 'text-davinci-001', 'ada', 'babbage-code-search-text', 'babbage-similarity', 'gpt-3.5-turbo-16k-0613', 'code-search-babbage-text-001', 'text-curie-001', 'gpt-3.5-turbo-0301', 'gpt-3.5-turbo-16k', 'code-search-babbage-code-001', 'text-ada-001', 'text-similarity-ada-001', 'text-davinci-002', 'curie-instruct-beta', 'ada-code-search-code', 'ada-similarity', 'code-search-ada-text-001', 'text-search-ada-query-001', 'davinci-search-document', 'ada-code-search-text', 'text-search-ada-doc-001', 'davinci-instruct-beta', 'text-similarity-curie-001', 'code-search-ada-code-001', 'ada-search-query', 'text-search-davinci-query-001', 'curie-search-query', 'davinci-search-query', 'babbage-search-document', 'ada-search-document', 'text-search-curie-query-001', 'text-search-babbage-doc-001', 'whisper-1', 'curie-search-document', 'text-search-curie-doc-001', 'babbage-search-query', 'text-babbage-001', 'text-search-davinci-doc-001', 'text-search-babbage-query-001', 'curie-similarity', 'text-embedding-ada-002', 'curie', 'text-similarity-davinci-001', 'gpt-3.5-turbo-0613', 'davinci-similarity', 'gpt-3.5-turbo']\n"
     ]
    }
   ],
   "source": [
    "# soon some models will not be available.\n",
    "print(len(model_list))\n",
    "print(model_list)"
   ]
  },
  {
   "cell_type": "markdown",
   "id": "75d2a270-949c-4ad2-a568-e254e6231333",
   "metadata": {},
   "source": [
    "## Retrieve Model\n",
    "\n",
    "获取模型实例，提供有关模型的基本信息，例如所有者和权限设置。\n",
    "\n",
    "以`text-davinci-003`模型为例，解释说明各项参数：\n",
    "\n",
    "1. `created`: 这是模型创建的时间戳，单位为 Unix 时间戳（自1970年1月1日（00:00:00 GMT）以后的秒数）。\n",
    "2. `id`: 这是模型的唯一标识符。在这个例子中，模型的 ID 是 \"text-davinci-003\"。\n",
    "3. `object`: 这个字段表示的是当前对象的类型，在这个例子中，对象是 \"model\"，说明这个 JSON 对象是一个模型。\n",
    "4. `owned_by`: 这个字段表示的是模型的所有者，在这个例子中，模型的所有者是 \"openai-internal\"。\n",
    "5. `parent`: 这个字段表示的是模型的父模型。如果此字段为 null，那么说明这个模型没有父模型。\n",
    "6. `permission`: 这个字段是一个包含多个键-值对的对象，描述了该模型的访问和使用权限。例如：\n",
    "   - `allow_create_engine` 为 false，说明不允许创建引擎；\n",
    "   - `allow_fine_tuning` 为 false，说明不允许对模型进行微调；\n",
    "   - `allow_logprobs` 为 true，说明允许获取模型的 logprobs 输出；\n",
    "   - `allow_sampling` 为 true，说明允许进行采样；\n",
    "   - `allow_search_indices` 为 false，说明不允许搜索索引；\n",
    "   - `allow_view` 为 true，说明允许查看模型；\n",
    "   - `is_blocking` 为 false，说明此权限不是阻止操作的。\n",
    "8. `root`: 这个字段表示的是模型的根模型。在这个例子中，模型的根模型是 \"text-davinci-003\"。"
   ]
  },
  {
   "cell_type": "code",
   "execution_count": 2,
   "id": "6fd7eca9-ed5a-4bca-8f9c-a0bf36177d31",
   "metadata": {},
   "outputs": [
    {
     "data": {
      "text/plain": [
       "<Model model id=text-davinci-003 at 0x7f97d840c630> JSON: {\n",
       "  \"created\": 1669599635,\n",
       "  \"id\": \"text-davinci-003\",\n",
       "  \"object\": \"model\",\n",
       "  \"owned_by\": \"openai-internal\",\n",
       "  \"parent\": null,\n",
       "  \"permission\": [\n",
       "    {\n",
       "      \"allow_create_engine\": false,\n",
       "      \"allow_fine_tuning\": false,\n",
       "      \"allow_logprobs\": true,\n",
       "      \"allow_sampling\": true,\n",
       "      \"allow_search_indices\": false,\n",
       "      \"allow_view\": true,\n",
       "      \"created\": 1688551385,\n",
       "      \"group\": null,\n",
       "      \"id\": \"modelperm-jepinXYt59ncUQrjQEIUEDyC\",\n",
       "      \"is_blocking\": false,\n",
       "      \"object\": \"model_permission\",\n",
       "      \"organization\": \"*\"\n",
       "    }\n",
       "  ],\n",
       "  \"root\": \"text-davinci-003\"\n",
       "}"
      ]
     },
     "execution_count": 2,
     "metadata": {},
     "output_type": "execute_result"
    }
   ],
   "source": [
    "import os\n",
    "import openai\n",
    "openai.api_key = os.getenv(\"OPENAI_API_KEY\")\n",
    "openai.Model.retrieve(\"text-davinci-003\")\n"
   ]
  },
  {
   "cell_type": "code",
   "execution_count": null,
   "id": "2ea16de8-add9-4ad4-b5b9-ebb959d7ab7f",
   "metadata": {},
   "outputs": [],
   "source": []
  },
  {
   "cell_type": "code",
   "execution_count": null,
   "id": "fa107114-28cd-435a-a4b0-c9ceabddf415",
   "metadata": {},
   "outputs": [],
   "source": []
  },
  {
   "cell_type": "markdown",
   "id": "028f4f7e-3be1-44d7-bfcd-c65a13e85093",
   "metadata": {},
   "source": [
    "# 初探Completions API之文本内容补全\n",
    "\n",
    "使用 Completions API 实现各类文本生成任务\n",
    "\n",
    "主要请求参数说明：\n",
    "\n",
    "\n",
    "- **`model`** （string，必填）\n",
    "\n",
    "  要使用的模型的 ID。可以参考 **模型端点兼容性表**。\n",
    "\n",
    "- **`prompt`** （string or array，选填，Defaults to ）\n",
    "\n",
    "  生成补全的提示，编码为字符串、字符串数组、token数组或token数组数组。\n",
    "\n",
    "  注意，这是模型在训练过程中看到的文档分隔符，所以如果没有指定提示符，模型将像从新文档的开头一样生成。\n",
    "\n",
    "- **`stream`** （boolean，选填，默认 false）\n",
    "\n",
    "  当它设置为 true 时，API 会以 SSE（ Server Side Event ）方式返回内容，即会不断地输出内容直到完成响应，流通过 `data: [DONE]` 消息终止。\n",
    "\n",
    "- **`max_tokens`** （integer，选填，默认是 16）\n",
    "\n",
    "  补全时要生成的最大 token 数。\n",
    "\n",
    "  提示 `max_tokens` 的 token 计数不能超过模型的上下文长度。大多数模型的上下文长度为 2048 个token（最新模型除外，它支持 4096）\n",
    "\n",
    "- **`temperature`** （number，选填，默认是1）\n",
    "\n",
    "  使用哪个采样温度，在 **0和2之间**。\n",
    "\n",
    "  较高的值，如0.8会使输出更随机，而较低的值，如0.2会使其更加集中和确定性。\n",
    "\n",
    "  通常建议修改这个（`temperature` ）或 `top_p` 但两者不能同时存在，二选一。\n",
    "\n",
    "- **`n`** （integer，选填，默认为 1）\n",
    "\n",
    "  每个 `prompt` 生成的补全次数。\n",
    "\n",
    "  注意：由于此参数会生成许多补全，因此它会快速消耗token配额。小心使用，并确保对 `max_tokens` 和 `stop` 进行合理的设置。"
   ]
  },
  {
   "cell_type": "code",
   "execution_count": 1,
   "id": "8335d520-ca37-47a5-bccf-b5fb365bbe4e",
   "metadata": {},
   "outputs": [],
   "source": [
    "import os\n",
    "from dotenv import load_dotenv\n",
    "import openai\n",
    "\n",
    "_ = load_dotenv('../tokens.env')\n",
    "openai.api_key = os.environ['OPENAI_API_KEY']"
   ]
  },
  {
   "cell_type": "markdown",
   "id": "307afd09-38a9-4359-bfa0-6317495c0b48",
   "metadata": {},
   "source": [
    "## 1.Create simple English chat response."
   ]
  },
  {
   "cell_type": "code",
   "execution_count": 10,
   "id": "0526acb1-5741-48b6-ae64-917ad0d064b4",
   "metadata": {},
   "outputs": [],
   "source": [
    "model = \"text-davinci-003\"\n",
    "\n",
    "# model = \"gpt-3.5-turbo\"\n",
    "# return error: this is a chat model for chat completion\n",
    "\n",
    "data = openai.Completion.create(\n",
    "    model=model,\n",
    "    prompt=\"Is learning Python useful?\",\n",
    "    max_tokens=16,\n",
    "    temperature=0\n",
    ")"
   ]
  },
  {
   "cell_type": "code",
   "execution_count": 5,
   "id": "af7a8d1f-c2f7-421d-bd0d-0890d06a0c34",
   "metadata": {},
   "outputs": [
    {
     "name": "stdout",
     "output_type": "stream",
     "text": [
      "{\n",
      "  \"id\": \"cmpl-7g7YyO4huIyQW1DJtz0D2J3qSpVrj\",\n",
      "  \"object\": \"text_completion\",\n",
      "  \"created\": 1690273204,\n",
      "  \"model\": \"text-davinci-003\",\n",
      "  \"choices\": [\n",
      "    {\n",
      "      \"text\": \"\\n\\nYes, I'm feeling fine. Thanks for asking.\",\n",
      "      \"index\": 0,\n",
      "      \"logprobs\": null,\n",
      "      \"finish_reason\": \"stop\"\n",
      "    }\n",
      "  ],\n",
      "  \"usage\": {\n",
      "    \"prompt_tokens\": 11,\n",
      "    \"completion_tokens\": 13,\n",
      "    \"total_tokens\": 24\n",
      "  }\n",
      "}\n"
     ]
    }
   ],
   "source": [
    "print(data)"
   ]
  },
  {
   "cell_type": "code",
   "execution_count": 11,
   "id": "63cddd0f-a8f3-4f62-891a-8146306a5d95",
   "metadata": {},
   "outputs": [
    {
     "name": "stdout",
     "output_type": "stream",
     "text": [
      "\n",
      "\n",
      "Yes, learning Python is very useful. Python is a powerful and versatile\n"
     ]
    }
   ],
   "source": [
    "import json\n",
    "\n",
    "# Extract the 'text' field from the first element in the 'choices' array\n",
    "text = data['choices'][0]['text']\n",
    "print(text)"
   ]
  },
  {
   "cell_type": "markdown",
   "id": "5c79be11-b2b4-4580-ad10-b7111cb950ea",
   "metadata": {},
   "source": [
    "## 2.Create simple Chinese chat response."
   ]
  },
  {
   "cell_type": "code",
   "execution_count": 12,
   "id": "3e3a4018-7c72-49a1-942b-167c3941fb96",
   "metadata": {},
   "outputs": [],
   "source": [
    "# 这就是有点像对话，价值确实不大\n",
    "data = openai.Completion.create(\n",
    "    model=model,\n",
    "    prompt=\"讲一个给程序员听得笑话\",\n",
    "    max_tokens=1000,\n",
    "    temperature=0\n",
    ")"
   ]
  },
  {
   "cell_type": "code",
   "execution_count": 13,
   "id": "f04959ba-5781-4e9e-bdfb-a55f0698acd9",
   "metadata": {},
   "outputs": [
    {
     "name": "stdout",
     "output_type": "stream",
     "text": [
      "\n",
      "\n",
      "Q：为什么程序员总是把灯打开？\n",
      "A：因为他们需要更多的bug。\n"
     ]
    }
   ],
   "source": [
    "text = data['choices'][0]['text']\n",
    "print(text)"
   ]
  },
  {
   "cell_type": "markdown",
   "id": "cd669a78-125f-478f-b3d9-677f137d9398",
   "metadata": {},
   "source": [
    "# 聊天机器人初探（Chat Completions API）\n",
    "\n",
    "使用 Chat Completions API 实现对话任务\n",
    "\n",
    "聊天补全(Chat Completions API)以消息列表作为输入，并返回模型生成的消息作为输出。尽管聊天格式旨在使多轮对话变得简单，但它同样适用于没有任何对话的单轮任务。\n",
    "\n",
    "主要请求参数说明：\n",
    "\n",
    "\n",
    "- **`model` （string，必填）**\n",
    "\n",
    "  要使用的模型ID。有关哪些模型适用于Chat API的详细信息\n",
    "\n",
    "- **`messages` （array，必填）**\n",
    "\n",
    "  迄今为止描述对话的消息列表\n",
    "    - **`role` （string，必填）**\n",
    "\n",
    "  发送此消息的角色。`system` 、`user` 或 `assistant` 之一（一般用 user 发送用户问题，system 发送给模型提示信息）\n",
    "\n",
    "    - **`content` （string，必填）**\n",
    "    \n",
    "      消息的内容\n",
    "    \n",
    "    - **`name` （string，选填）**\n",
    "    \n",
    "      此消息的发送者姓名。可以包含 a-z、A-Z、0-9 和下划线，最大长度为 64 个字符\n",
    "\n",
    "- **`stream` （boolean，选填，是否按流的方式发送内容）**\n",
    "\n",
    "  当它设置为 true 时，API 会以 SSE（ Server Side Event ）方式返回内容。SSE 本质上是一个长链接，会持续不断地输出内容直到完成响应。如果不是做实时聊天，默认false即可。\n",
    "\n",
    "- **`max_tokens` （integer，选填）**\n",
    "\n",
    "  在聊天补全中生成的最大 **tokens** 数。\n",
    "\n",
    "  输入token和生成的token的总长度受模型上下文长度的限制。\n",
    "\n",
    "- **`temperature` （number，选填，默认是 1）**\n",
    "\n",
    "  采样温度，在 0和 2 之间。\n",
    "\n",
    "  较高的值，如0.8会使输出更随机，而较低的值，如0.2会使其更加集中和确定性。\n",
    "\n",
    "  通常建议修改这个（`temperature` ）或者 `top_p` ，但两者不能同时存在，二选一。\n"
   ]
  },
  {
   "cell_type": "markdown",
   "id": "d00108e4-b98e-4d55-a1e2-78845b321fec",
   "metadata": {},
   "source": [
    "## 开启聊天模式\n",
    "\n",
    "使用 `messages` 记录迄今为止对话的消息列表"
   ]
  },
  {
   "cell_type": "code",
   "execution_count": 16,
   "id": "172f2eb6-2d2b-4d10-9887-5e4af011c77f",
   "metadata": {},
   "outputs": [],
   "source": [
    "import openai\n",
    "\n",
    "messages=[\n",
    "    {\n",
    "        \"role\": \"user\", \n",
    "        \"content\": \"Guten Morgen, ich brauche eine Fahrkarte nach Rostock? wo kann ich kaufen?\"\n",
    "    }\n",
    "]\n",
    "\n",
    "data = openai.ChatCompletion.create(\n",
    "    model=\"gpt-3.5-turbo\",\n",
    "    messages = messages\n",
    ")"
   ]
  },
  {
   "cell_type": "code",
   "execution_count": 22,
   "id": "158a8a3b-0a73-4157-9025-8282527fd692",
   "metadata": {
    "scrolled": true
   },
   "outputs": [
    {
     "name": "stdout",
     "output_type": "stream",
     "text": [
      "Guten Morgen! Sie können Fahrkarten nach Rostock an verschiedenen Orten kaufen. Eine Möglichkeit ist es, an einem Fahrkartenautomaten am Bahnhof eine Fahrkarte zu erwerben. Alternativ können Sie auch an einem Ticketschalter im Bahnhof oder in einem Reisebüro nachfragen. Eine weitere Option ist es, Fahrkarten online über die Website einer Bahngesellschaft zu kaufen.\n"
     ]
    }
   ],
   "source": [
    "print(data[\"choices\"][0][\"message\"][\"content\"])"
   ]
  },
  {
   "cell_type": "markdown",
   "id": "1fd2a778-d1d7-453a-aee5-5ef56eb9e591",
   "metadata": {},
   "source": [
    "#### Prompt：解析返回结果，获取生成文本，并维护聊天记录\n",
    "\n",
    "```\n",
    "我希望维护一个保存聊天记录的 messages 变量，如下所示：\n",
    "\n",
    "messages=[\n",
    "    {\n",
    "        \"role\": \"user\", \n",
    "        \"content\": \"Hello!\"\n",
    "    },\n",
    "    {\n",
    "        \"content\": \"Hi! How can I assist you today?\",\n",
    "        \"role\": \"assistant\"\n",
    "    },\n",
    "]\n",
    "\n",
    "下面是 openai chat completion api 的返回结果 ，将生成的 message 追加到 messages 结尾:\n",
    "\n",
    "{\n",
    "  \"choices\": [\n",
    "    {\n",
    "      \"finish_reason\": \"stop\",\n",
    "      \"index\": 0,\n",
    "      \"message\": {\n",
    "        \"content\": \"Hi! How can I assist you today?\",\n",
    "        \"role\": \"assistant\"\n",
    "      }\n",
    "    }\n",
    "  ],\n",
    "  \"created\": 1690106747,\n",
    "  \"id\": \"chatcmpl-7fQGBBKSXTye4HsKcKMWKFVW63qTT\",\n",
    "  \"model\": \"gpt-3.5-turbo-0613\",\n",
    "  \"object\": \"chat.completion\",\n",
    "  \"usage\": {\n",
    "    \"completion_tokens\": 9,\n",
    "    \"prompt_tokens\": 9,\n",
    "    \"total_tokens\": 18\n",
    "  }\n",
    "}\n",
    "```"
   ]
  },
  {
   "cell_type": "code",
   "execution_count": 40,
   "id": "d872f47e-b768-4d3e-850f-c2034e2e2263",
   "metadata": {},
   "outputs": [
    {
     "name": "stdout",
     "output_type": "stream",
     "text": [
      "{\n",
      "  \"content\": \"Hello! How can I assist you today?\",\n",
      "  \"role\": \"assistant\"\n",
      "}\n"
     ]
    }
   ],
   "source": [
    "# 从返回的数据中获取生成的消息\n",
    "new_message = data[\"choices\"][0][\"message\"]\n",
    "\n",
    "# 打印 new_message\n",
    "print(new_message)"
   ]
  },
  {
   "cell_type": "code",
   "execution_count": 41,
   "id": "ee8c6048-2fed-4a81-90cc-45f526630aad",
   "metadata": {},
   "outputs": [
    {
     "name": "stdout",
     "output_type": "stream",
     "text": [
      "[{'role': 'user', 'content': 'Hello!'}, <OpenAIObject at 0x7f27448a91c0> JSON: {\n",
      "  \"content\": \"Hello! How can I assist you today?\",\n",
      "  \"role\": \"assistant\"\n",
      "}]\n"
     ]
    }
   ],
   "source": [
    "# 将消息追加到 messages 列表中\n",
    "messages.append(new_message)\n",
    "print(messages)"
   ]
  },
  {
   "cell_type": "code",
   "execution_count": 42,
   "id": "1f88a3a6-c6ad-47a2-a187-40f4e921b54f",
   "metadata": {},
   "outputs": [
    {
     "data": {
      "text/plain": [
       "openai.openai_object.OpenAIObject"
      ]
     },
     "execution_count": 42,
     "metadata": {},
     "output_type": "execute_result"
    }
   ],
   "source": [
    "type(new_message)"
   ]
  },
  {
   "cell_type": "code",
   "execution_count": 43,
   "id": "626586e5-55c0-4b1c-8dc4-175edab9b7c4",
   "metadata": {},
   "outputs": [
    {
     "data": {
      "text/plain": [
       "<OpenAIObject at 0x7f27448a91c0> JSON: {\n",
       "  \"content\": \"Hello! How can I assist you today?\",\n",
       "  \"role\": \"assistant\"\n",
       "}"
      ]
     },
     "execution_count": 43,
     "metadata": {},
     "output_type": "execute_result"
    }
   ],
   "source": [
    "messages.pop()"
   ]
  },
  {
   "cell_type": "code",
   "execution_count": 44,
   "id": "bbf5b445-f0b2-422c-befd-2738982903d4",
   "metadata": {},
   "outputs": [
    {
     "name": "stdout",
     "output_type": "stream",
     "text": [
      "[{'role': 'user', 'content': 'Hello!'}]\n"
     ]
    }
   ],
   "source": [
    "print(messages)"
   ]
  },
  {
   "cell_type": "markdown",
   "id": "5a9d6f7b-09fd-4bed-bcde-2ab50d3d415c",
   "metadata": {},
   "source": [
    "#### Prompt: OpenAIObject -> Dict\n",
    "\n",
    "```\n",
    "打印 messages 列表后发现数据类型不对，messages 输出如下：\n",
    "\n",
    "print(messages)\n",
    "\n",
    "[{'role': 'user', 'content': 'Hello!'}, <OpenAIObject at 0x7f27582c13f0> JSON: {\n",
    "  \"content\": \"Hello! How can I assist you today?\",\n",
    "  \"role\": \"assistant\"\n",
    "}]\n",
    "\n",
    "将OpenAIObject 转换为一个如下数据类型格式：\n",
    "\n",
    "    {\n",
    "        \"role\": \"user\", \n",
    "        \"content\": \"Hello!\"\n",
    "    }\n",
    "```"
   ]
  },
  {
   "cell_type": "code",
   "execution_count": 45,
   "id": "8d9052f8-88ef-4b71-8fa8-42bff7304537",
   "metadata": {},
   "outputs": [
    {
     "data": {
      "text/plain": [
       "dict"
      ]
     },
     "execution_count": 45,
     "metadata": {},
     "output_type": "execute_result"
    }
   ],
   "source": [
    "new_message = data['choices'][0]['message']\n",
    "new_message_dict = {\"role\": new_message.role, \"content\": new_message.content}\n",
    "type(new_message_dict)"
   ]
  },
  {
   "cell_type": "code",
   "execution_count": 46,
   "id": "699416f3-ee26-432a-8ad5-27b151f24846",
   "metadata": {},
   "outputs": [
    {
     "name": "stdout",
     "output_type": "stream",
     "text": [
      "{'role': 'assistant', 'content': 'Hello! How can I assist you today?'}\n"
     ]
    }
   ],
   "source": [
    "print(new_message_dict)"
   ]
  },
  {
   "cell_type": "code",
   "execution_count": 47,
   "id": "7a11a2c6-3f2b-4c35-b987-f396f839da7c",
   "metadata": {},
   "outputs": [],
   "source": [
    "# 将消息追加到 messages 列表中\n",
    "messages.append(new_message_dict)"
   ]
  },
  {
   "cell_type": "code",
   "execution_count": 48,
   "id": "532671cb-6ceb-472f-98c8-c86a38c08bc6",
   "metadata": {},
   "outputs": [
    {
     "name": "stdout",
     "output_type": "stream",
     "text": [
      "[{'role': 'user', 'content': 'Hello!'}, {'role': 'assistant', 'content': 'Hello! How can I assist you today?'}]\n"
     ]
    }
   ],
   "source": [
    "print(messages)"
   ]
  },
  {
   "cell_type": "markdown",
   "id": "f7a5d741-5b2e-4f1a-8a74-e3b559874079",
   "metadata": {},
   "source": [
    "#### 新一轮对话"
   ]
  },
  {
   "cell_type": "code",
   "execution_count": 49,
   "id": "ad2e089b-ba80-477b-92d1-c183f11082c8",
   "metadata": {},
   "outputs": [],
   "source": [
    "new_chat = {\n",
    "    \"role\": \"user\",\n",
    "    \"content\": \"1.讲一个程序员才听得懂的冷笑话；2.今天是几号？3.明天星期几？\"\n",
    "}"
   ]
  },
  {
   "cell_type": "code",
   "execution_count": 50,
   "id": "780f361d-b9e1-4343-8851-089d4c0aecde",
   "metadata": {},
   "outputs": [],
   "source": [
    "messages.append(new_chat)"
   ]
  },
  {
   "cell_type": "code",
   "execution_count": 51,
   "id": "32b195bb-52ca-4b7f-a1f6-5b183ffbd58f",
   "metadata": {},
   "outputs": [
    {
     "name": "stdout",
     "output_type": "stream",
     "text": [
      "[{'role': 'user', 'content': 'Hello!'}, {'role': 'assistant', 'content': 'Hello! How can I assist you today?'}, {'role': 'user', 'content': '1.讲一个程序员才听得懂的冷笑话；2.今天是几号？3.明天星期几？'}]\n"
     ]
    }
   ],
   "source": [
    "print(messages)"
   ]
  },
  {
   "cell_type": "code",
   "execution_count": 53,
   "id": "54b0532a-0099-40e3-8a3d-9dc72d6eccbd",
   "metadata": {},
   "outputs": [],
   "source": [
    "data = openai.ChatCompletion.create(\n",
    "  model=\"gpt-3.5-turbo\",\n",
    "  messages=messages\n",
    ")\n"
   ]
  },
  {
   "cell_type": "code",
   "execution_count": 54,
   "id": "edad9b8d-2b46-4cd4-ba03-51c96cc4c175",
   "metadata": {
    "collapsed": true,
    "jupyter": {
     "outputs_hidden": true
    }
   },
   "outputs": [
    {
     "name": "stdout",
     "output_type": "stream",
     "text": [
      "{\n",
      "  \"content\": \"1. \\u51b7\\u7b11\\u8bdd\\uff1a\\u4e3a\\u4ec0\\u4e48\\u7a0b\\u5e8f\\u5458\\u603b\\u662f\\u559c\\u6b22\\u5750\\u5728\\u7535\\u8111\\u65c1\\u8fb9\\uff1f\\u56e0\\u4e3a\\u4ed6\\u4eec\\u89c9\\u5f97\\u90a3\\u662f\\u4ed6\\u4eec\\u7684\\u7535\\u8111\\u6905\\uff01\\uff08\\u7a0b\\u5e8f\\u5458\\u5e38\\u5e38\\u5c06\\u81ea\\u5df1\\u7684\\u6905\\u5b50\\u89c6\\u4f5c\\u91cd\\u8981\\u5de5\\u5177\\uff0c\\u56e0\\u6b64\\u4f1a\\u4ea7\\u751f\\u8fd9\\u79cd\\u7b11\\u8bdd\\uff09\\n\\n2. \\u4eca\\u5929\\u65e5\\u671f\\uff1a\\u5f88\\u62b1\\u6b49\\uff0c\\u4f5c\\u4e3a\\u4e00\\u4e2aAI\\u52a9\\u624b\\uff0c\\u6211\\u65e0\\u6cd5\\u83b7\\u53d6\\u5b9e\\u65f6\\u65e5\\u671f\\u3002\\u8bf7\\u60a8\\u67e5\\u770b\\u60a8\\u7684\\u7535\\u8111\\u3001\\u624b\\u673a\\u6216\\u5176\\u4ed6\\u8bbe\\u5907\\u4e0a\\u7684\\u65e5\\u671f\\u3002\\n\\n3. \\u660e\\u5929\\u661f\\u671f\\u51e0\\uff1a\\u540c\\u6837\\u62b1\\u6b49\\uff0c\\u6211\\u65e0\\u6cd5\\u63d0\\u4f9b\\u5177\\u4f53\\u7684\\u660e\\u5929\\u661f\\u671f\\u51e0\\u3002\\u60a8\\u53ef\\u4ee5\\u67e5\\u770b\\u60a8\\u7684\\u65e5\\u5386\\u6216\\u4f7f\\u7528\\u7535\\u5b50\\u8bbe\\u5907\\u4e0a\\u7684\\u65e5\\u671f\\u529f\\u80fd\\u6765\\u83b7\\u53d6\\u660e\\u5929\\u7684\\u661f\\u671f\\u51e0\\u3002\",\n",
      "  \"role\": \"assistant\"\n",
      "}\n"
     ]
    }
   ],
   "source": [
    "new_message = data['choices'][0]['message']\n",
    "# 打印 messages 列表\n",
    "print(new_message)"
   ]
  },
  {
   "cell_type": "markdown",
   "id": "62cb1494-45b9-4365-80de-247cb977c397",
   "metadata": {},
   "source": [
    "#### Prompt: 解析中文结果\n",
    "\n",
    "```\n",
    "新一轮对话的返回结果没有解析成中文，内容如下：\n",
    "\n",
    "# 打印 new_message\n",
    "print(new_message)\n",
    "\n",
    "{\n",
    "  \"content\": \"1. \\u51b7\\u7b11\\u8bdd\\uff1a\\u4e3a\\u4ec0\\u4e48\\u7a0b\\u5e8f\\u5458\\u603b\\u662f\\u559c\\u6b22\\u5750\\u5728\\u7535\\u8111\\u65c1\\u8fb9\\uff1f\\u56e0\\u4e3a\\u4ed6\\u4eec\\u89c9\\u5f97\\u90a3\\u662f\\u4ed6\\u4eec\\u7684\\u7535\\u8111\\u6905\\uff01\\uff08\\u7a0b\\u5e8f\\u5458\\u5e38\\u5e38\\u5c06\\u81ea\\u5df1\\u7684\\u6905\\u5b50\\u89c6\\u4f5c\\u91cd\\u8981\\u5de5\\u5177\\uff0c\\u56e0\\u6b64\\u4f1a\\u4ea7\\u751f\\u8fd9\\u79cd\\u7b11\\u8bdd\\uff09\\n\\n2. \\u4eca\\u5929\\u65e5\\u671f\\uff1a\\u5f88\\u62b1\\u6b49\\uff0c\\u4f5c\\u4e3a\\u4e00\\u4e2aAI\\u52a9\\u624b\\uff0c\\u6211\\u65e0\\u6cd5\\u83b7\\u53d6\\u5b9e\\u65f6\\u65e5\\u671f\\u3002\\u8bf7\\u60a8\\u67e5\\u770b\\u60a8\\u7684\\u7535\\u8111\\u3001\\u624b\\u673a\\u6216\\u5176\\u4ed6\\u8bbe\\u5907\\u4e0a\\u7684\\u65e5\\u671f\\u3002\\n\\n3. \\u660e\\u5929\\u661f\\u671f\\u51e0\\uff1a\\u540c\\u6837\\u62b1\\u6b49\\uff0c\\u6211\\u65e0\\u6cd5\\u63d0\\u4f9b\\u5177\\u4f53\\u7684\\u660e\\u5929\\u661f\\u671f\\u51e0\\u3002\\u60a8\\u53ef\\u4ee5\\u67e5\\u770b\\u60a8\\u7684\\u65e5\\u5386\\u6216\\u4f7f\\u7528\\u7535\\u5b50\\u8bbe\\u5907\\u4e0a\\u7684\\u65e5\\u671f\\u529f\\u80fd\\u6765\\u83b7\\u53d6\\u660e\\u5929\\u7684\\u661f\\u671f\\u51e0\\u3002\",\n",
    "  \"role\": \"assistant\"\n",
    "}\n",
    "```"
   ]
  },
  {
   "cell_type": "code",
   "execution_count": 55,
   "id": "bedc91c2-4216-4686-b66c-df012a9778c8",
   "metadata": {},
   "outputs": [
    {
     "name": "stdout",
     "output_type": "stream",
     "text": [
      "1. 冷笑话：为什么程序员总是喜欢坐在电脑旁边？因为他们觉得那是他们的电脑椅！（程序员常常将自己的椅子视作重要工具，因此会产生这种笑话）\n",
      "\n",
      "2. 今天日期：很抱歉，作为一个AI助手，我无法获取实时日期。请您查看您的电脑、手机或其他设备上的日期。\n",
      "\n",
      "3. 明天星期几：同样抱歉，我无法提供具体的明天星期几。您可以查看您的日历或使用电子设备上的日期功能来获取明天的星期几。\n"
     ]
    }
   ],
   "source": [
    "# GPT-4: 从你提供的信息中看，这段文本是经过Unicode编码的中文。\n",
    "# 你可以使用Python的print()函数将其打印出来，以获取原始的中文字符串：\n",
    "print(new_message[\"content\"])"
   ]
  },
  {
   "cell_type": "markdown",
   "id": "877f2ff6-8bac-43a9-a827-e472c5698ed4",
   "metadata": {},
   "source": []
  },
  {
   "cell_type": "code",
   "execution_count": null,
   "id": "903ec93e-fba9-403e-bfe4-b749f91abb0c",
   "metadata": {},
   "outputs": [],
   "source": []
  },
  {
   "cell_type": "markdown",
   "id": "7f417580-7810-4f0e-ad5c-6d2e0f9e7f42",
   "metadata": {},
   "source": [
    "## 使用多种身份聊天对话\n",
    "\n",
    "目前`role`参数支持3类身份： `system`, `user` `assistant`:\n",
    "\n",
    "\n",
    "![](images/chat_completion_api.png)\n",
    "\n"
   ]
  },
  {
   "cell_type": "code",
   "execution_count": null,
   "id": "45b19ef7-104f-4bfb-83e3-e188e619b85f",
   "metadata": {},
   "outputs": [],
   "source": [
    "import openai\n",
    "\n",
    "data = openai.ChatCompletion.create(\n",
    "  model=\"gpt-3.5-turbo\",\n",
    "  messages=[\n",
    "        {\"role\": \"system\", \"content\": \"You are a helpful assistant.\"},\n",
    "        {\"role\": \"user\", \"content\": \"Who won the world series in 2020?\"},\n",
    "        {\"role\": \"assistant\", \"content\": \"The Los Angeles Dodgers won the World Series in 2020.\"},\n",
    "        {\"role\": \"user\", \"content\": \"Where was it played?\"}\n",
    "    ]\n",
    ")"
   ]
  },
  {
   "cell_type": "code",
   "execution_count": 32,
   "id": "e97b0145-af2f-47bb-865f-9b2a8f4e6353",
   "metadata": {},
   "outputs": [
    {
     "name": "stdout",
     "output_type": "stream",
     "text": [
      "The World Series in 2020 was played at Globe Life Field in Arlington, Texas.\n"
     ]
    }
   ],
   "source": [
    "text = data[\"choices\"][0][\"message\"][\"content\"]\n",
    "print(text)"
   ]
  },
  {
   "cell_type": "code",
   "execution_count": null,
   "id": "191062d1-61a6-4429-b2f8-978cb7769c9e",
   "metadata": {},
   "outputs": [],
   "source": []
  },
  {
   "cell_type": "code",
   "execution_count": null,
   "id": "a138da7f-b5b3-40a1-b30b-4e6b0c8e249f",
   "metadata": {},
   "outputs": [],
   "source": []
  },
  {
   "cell_type": "code",
   "execution_count": null,
   "id": "f531bc4d-3eeb-49f7-b717-0986f2b4af2c",
   "metadata": {},
   "outputs": [],
   "source": []
  }
 ],
 "metadata": {
  "kernelspec": {
   "display_name": "Python 3 (ipykernel)",
   "language": "python",
   "name": "python3"
  },
  "language_info": {
   "codemirror_mode": {
    "name": "ipython",
    "version": 3
   },
   "file_extension": ".py",
   "mimetype": "text/x-python",
   "name": "python",
   "nbconvert_exporter": "python",
   "pygments_lexer": "ipython3",
   "version": "3.11.2"
  }
 },
 "nbformat": 4,
 "nbformat_minor": 5
}
