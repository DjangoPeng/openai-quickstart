{
 "cells": [
  {
   "cell_type": "markdown",
   "id": "0f3e2d5a-c2ff-4faf-b153-d1751c25fae0",
   "metadata": {},
   "source": [
    "## 使用 GPT-4 构造数据\n",
    "\n",
    "ChatGPT 分享链接: https://chat.openai.com/c/e8e6ecda-4291-44fc-9920-5776e41acf20\n",
    "\n",
    "\n",
    "使用 ChatGPT 的 Prompt 示例：\n",
    "\n",
    "```\n",
    "假设你是一位博学的妈妈，你有一个五岁的宝宝，你经常要回答一些宝宝的问题，请模拟 10 条对话，宝宝问一句，妈妈答一句。分别以 [宝宝] 和 [妈妈] 开头，每次对话的两句不加空行，对话结束后加两行空行\n",
    "```\n",
    "\n",
    "GPT-3.5 回复结果：\n",
    "\n",
    "```\n",
    "[宝宝]：妈妈，为什么天空是蓝色的？\n",
    "[妈妈]：天空是蓝色的因为光在大气中散射时，蓝色光散射得最多，所以我们看到的是蓝天。\n",
    "\n",
    "[宝宝]：哦，那晚上天空是黑色的是因为没有光吗？\n",
    "[妈妈]：对的，晚上太阳不再照亮天空，所以我们看到黑色的夜空，但还有很多星星点缀着。\n",
    "\n",
    "[宝宝]：星星是什么？\n",
    "[妈妈]：星星是遥远的太阳，它们发出的光照亮了夜晚的天空。它们就像天上的小灯泡一样。\n",
    "\n",
    "[宝宝]：为什么月亮不是太阳呢？\n",
    "[妈妈]：因为月亮是地球的卫星，它围绕地球旋转，而太阳是一个恒星，位于太阳系的中心。\n",
    "\n",
    "[宝宝]：妈妈，月亮为什么会有不同的形状？\n",
    "[妈妈]：月亮有不同的形状是因为我们看到的部分是太阳照亮的部分，月球围绕地球运动，所以我们每天都能看到不同的形状。\n",
    "\n",
    "[宝宝]：为什么我们要吃蔬菜？\n",
    "[妈妈]：吃蔬菜是因为它们对我们的身体很好。蔬菜里有各种维生素和矿物质，能让我们保持健康，而且它们很好吃！\n",
    "\n",
    "[宝宝]：为什么树叶会变颜色？\n",
    "[妈妈]：树叶变颜色是因为在秋天，树木停止制造绿色叶子的色素，而橙色和红色的色素开始显现，所以我们看到了五彩斑斓的叶子。\n",
    "\n",
    "[宝宝]：妈妈，为什么鱼生活在水里？\n",
    "[妈妈]：鱼生活在水里因为它们需要水来呼吸和生存。水中有氧气，对鱼来说就像我们呼吸空气一样重要。\n",
    "\n",
    "[宝宝]：妈妈，我们为什么要刷牙？\n",
    "[妈妈]：我们要刷牙是因为每天吃东西后，嘴里会留下细菌，刷牙可以帮助我们保持口腔卫生，防止蛀牙和口臭。\n",
    "\n",
    "[宝宝]：为什么水是透明的？\n",
    "[妈妈]：水是透明的因为它不会阻挡光线，光线可以穿透水分子，所以我们可以看到水的下面。\n",
    "```\n",
    "\n",
    "\n",
    "## 注意，我这里自己在原数据中又每个对话前面加了一个空行，这样就可以使用 CharacterTextSplitter 来进行文本分割了\n",
    "## chatgpt 的回答对加空行的指令执行得不好\n",
    "## 使用 Document Transformers 模块来处理原始数据\n",
    "\n",
    "\n",
    "将 ChatGPT 生成的结果保存到 [chidlren_whys_data.txt](children_whys_data.txt) 文件中"
   ]
  },
  {
   "cell_type": "code",
   "execution_count": 2,
   "id": "efcee928-b9f4-4e4a-b9fb-f6cbee21b642",
   "metadata": {},
   "outputs": [],
   "source": [
    "with open(\"children_whys_data.txt\") as f:\n",
    "    children_whys_data = f.read()"
   ]
  },
  {
   "cell_type": "markdown",
   "id": "a9119556-d2e3-4edf-be16-15837da156f1",
   "metadata": {},
   "source": [
    "### 使用 CharacterTextSplitter 来进行文本分割\n",
    "\n",
    "- 基于单字符来进行文本分割（separator）\n",
    "- 基于字符数来决定文本块长度（chunk_size）\n",
    "\n",
    "参考示例：\n",
    "\n",
    "```python\n",
    "from langchain.text_splitter import CharacterTextSplitter\n",
    "text_splitter = CharacterTextSplitter(        \n",
    "    separator = \"\\n\",\n",
    "    chunk_size = 1000,\n",
    "    chunk_overlap  = 200,\n",
    "    length_function = len,\n",
    "    is_separator_regex = False,\n",
    ")\n",
    "```\n"
   ]
  },
  {
   "cell_type": "code",
   "execution_count": 3,
   "id": "dbe535b8-2bd8-4c31-91d7-eba8aa61b3ef",
   "metadata": {
    "ExecuteTime": {
     "end_time": "2023-09-17T13:50:20.013683Z",
     "start_time": "2023-09-17T13:50:20.009963Z"
    }
   },
   "outputs": [],
   "source": [
    "from langchain.text_splitter import CharacterTextSplitter"
   ]
  },
  {
   "cell_type": "markdown",
   "id": "add7a830",
   "metadata": {},
   "source": []
  },
  {
   "cell_type": "code",
   "execution_count": 4,
   "id": "fda0902b",
   "metadata": {
    "ExecuteTime": {
     "end_time": "2023-09-17T13:49:53.076153Z",
     "start_time": "2023-09-17T13:49:53.069569Z"
    }
   },
   "outputs": [
    {
     "name": "stdout",
     "output_type": "stream",
     "text": [
      "3.10.3\n"
     ]
    }
   ],
   "source": [
    "from platform import python_version\n",
    "print(python_version())"
   ]
  },
  {
   "cell_type": "code",
   "execution_count": 5,
   "id": "126984ee",
   "metadata": {
    "ExecuteTime": {
     "end_time": "2023-09-17T13:50:15.143806Z",
     "start_time": "2023-09-17T13:50:15.141258Z"
    }
   },
   "outputs": [],
   "source": [
    "text_splitter = CharacterTextSplitter(\n",
    "    separator = r'\\n\\n',\n",
    "    chunk_size = 100,\n",
    "    chunk_overlap  = 0,\n",
    "    length_function = len,\n",
    "    is_separator_regex = True,\n",
    ")"
   ]
  },
  {
   "cell_type": "code",
   "execution_count": 6,
   "id": "fb6568b0",
   "metadata": {},
   "outputs": [],
   "source": [
    "docs = text_splitter.create_documents([children_whys_data])"
   ]
  },
  {
   "cell_type": "code",
   "execution_count": 7,
   "id": "3956ec36-706e-4f43-88fc-d704f2984290",
   "metadata": {},
   "outputs": [
    {
     "data": {
      "text/plain": [
       "Document(page_content='[宝宝]：哦，那晚上天空是黑色的是因为没有光吗？\\n[妈妈]：对的，晚上太阳不再照亮天空，所以我们看到黑色的夜空，但还有很多星星点缀着。', metadata={})"
      ]
     },
     "execution_count": 7,
     "metadata": {},
     "output_type": "execute_result"
    }
   ],
   "source": [
    "docs[1]"
   ]
  },
  {
   "cell_type": "code",
   "execution_count": 8,
   "id": "73b2d47a-27ae-4cd4-a72a-3809b4c22bff",
   "metadata": {},
   "outputs": [
    {
     "data": {
      "text/plain": [
       "87"
      ]
     },
     "execution_count": 8,
     "metadata": {},
     "output_type": "execute_result"
    }
   ],
   "source": [
    "len(docs)"
   ]
  },
  {
   "cell_type": "markdown",
   "id": "e4617858-ad9c-42eb-a4c3-6bfb7108cdd2",
   "metadata": {},
   "source": [
    "### 使用 Faiss 作为向量数据库，持久化亲子问答对（QA-Pair）"
   ]
  },
  {
   "cell_type": "code",
   "execution_count": 14,
   "id": "508c2ab2-e187-424f-a43c-ca3d3b1a0550",
   "metadata": {},
   "outputs": [],
   "source": [
    "from langchain.embeddings.openai import OpenAIEmbeddings\n",
    "from langchain.text_splitter import CharacterTextSplitter\n",
    "from langchain.vectorstores import FAISS\n",
    "\n",
    "db = FAISS.from_documents(docs, OpenAIEmbeddings())"
   ]
  },
  {
   "cell_type": "code",
   "execution_count": 15,
   "id": "250e0873-95e2-4372-98a5-68c0feb304bb",
   "metadata": {},
   "outputs": [],
   "source": [
    "query = \"为什么只有白天能看到太阳\""
   ]
  },
  {
   "cell_type": "code",
   "execution_count": 16,
   "id": "0d18fcc6-c2be-434b-b8de-9648ac6f83f4",
   "metadata": {},
   "outputs": [],
   "source": [
    "answer_list = db.similarity_search(query)"
   ]
  },
  {
   "cell_type": "code",
   "execution_count": 17,
   "id": "e689667e-7a45-40d6-9eae-4e52cbc7daab",
   "metadata": {},
   "outputs": [
    {
     "name": "stdout",
     "output_type": "stream",
     "text": [
      "[宝宝]：妈妈，为什么月亮只在晚上出来？\n",
      "[妈妈]：月亮只在晚上出来是因为它的亮度不足以在白天看到，所以我们通常在夜里太阳落下才能看到它。\n",
      "\n",
      "[宝宝]：妈妈，为什么月亮会有阴晴圆缺？\n",
      "[妈妈]：月亮有阴晴圆缺是因为我们看到的是月球不同位置的光照面，有时候太阳照在月球正面，有时候只照在一部分上面。\n",
      "\n",
      "[宝宝]：妈妈，为什么月亮会有阴晴圆缺？\n",
      "[妈妈]：月亮有阴晴圆缺是因为我们看到的是月球不同位置的光照面，有时候太阳照在月球正面，有时候只照在一部分上面。\n",
      "\n",
      "[宝宝]：妈妈，为什么夜晚会有月亮？\n",
      "[妈妈]：夜晚有月亮是因为月球绕地球旋转，它的光亮一部分被反射到地球上，所以我们在夜晚能看到它。\n",
      "\n"
     ]
    }
   ],
   "source": [
    "for ans in answer_list:\n",
    "    print(ans.page_content + \"\\n\")"
   ]
  },
  {
   "cell_type": "code",
   "execution_count": 18,
   "id": "a6cc47bf-1566-472f-84d2-a46bd634907c",
   "metadata": {},
   "outputs": [],
   "source": [
    "db.save_local(\"children_whys\")"
   ]
  },
  {
   "cell_type": "markdown",
   "id": "0d5323e5-03fa-4c1c-b896-3ccc28af1857",
   "metadata": {},
   "source": [
    "### 使用 retriever 从向量数据库中获取结果\n",
    "\n",
    "#### 使用参数 `k` 指定返回结果数量\n"
   ]
  },
  {
   "cell_type": "code",
   "execution_count": 19,
   "id": "17f051c9-8676-48d1-a9a4-e69b52630faf",
   "metadata": {},
   "outputs": [],
   "source": [
    "topK_retriever = db.as_retriever(search_kwargs={\"k\": 3})"
   ]
  },
  {
   "cell_type": "code",
   "execution_count": 20,
   "id": "e33024db-ca7b-4d68-9b0e-c31c15ded57d",
   "metadata": {},
   "outputs": [
    {
     "data": {
      "text/plain": [
       "VectorStoreRetriever(tags=['FAISS'], metadata=None, vectorstore=<langchain.vectorstores.faiss.FAISS object at 0x117a27c10>, search_type='similarity', search_kwargs={'k': 3})"
      ]
     },
     "execution_count": 20,
     "metadata": {},
     "output_type": "execute_result"
    }
   ],
   "source": [
    "topK_retriever"
   ]
  },
  {
   "cell_type": "code",
   "execution_count": 21,
   "id": "7efb1414-859f-4818-bacd-e1e2edf34b95",
   "metadata": {},
   "outputs": [
    {
     "name": "stdout",
     "output_type": "stream",
     "text": [
      "[宝宝]：妈妈，为什么月亮只在晚上出来？\n",
      "[妈妈]：月亮只在晚上出来是因为它的亮度不足以在白天看到，所以我们通常在夜里太阳落下才能看到它。\n",
      "\n",
      "[宝宝]：妈妈，为什么月亮会有阴晴圆缺？\n",
      "[妈妈]：月亮有阴晴圆缺是因为我们看到的是月球不同位置的光照面，有时候太阳照在月球正面，有时候只照在一部分上面。\n",
      "\n",
      "[宝宝]：妈妈，为什么月亮会有阴晴圆缺？\n",
      "[妈妈]：月亮有阴晴圆缺是因为我们看到的是月球不同位置的光照面，有时候太阳照在月球正面，有时候只照在一部分上面。\n",
      "\n"
     ]
    }
   ],
   "source": [
    "docs = topK_retriever.get_relevant_documents(query)\n",
    "for doc in docs:\n",
    "    print(doc.page_content + \"\\n\")"
   ]
  },
  {
   "cell_type": "code",
   "execution_count": 22,
   "id": "a3c4b62d-6f8f-461b-a4fb-41c8a404b831",
   "metadata": {},
   "outputs": [],
   "source": [
    "docs = topK_retriever.get_relevant_documents(\"彩虹是怎么产生的\")"
   ]
  },
  {
   "cell_type": "code",
   "execution_count": 23,
   "id": "04cca3d7-23d9-491f-8350-faeb19861dec",
   "metadata": {},
   "outputs": [
    {
     "name": "stdout",
     "output_type": "stream",
     "text": [
      "[宝宝]：妈妈，为什么雨后会有彩虹？\n",
      "[妈妈]：雨后会有彩虹是因为雨滴在空中散射太阳光，形成了彩虹。雨后太阳出现，彩虹才能出现在天空中。\n",
      "\n",
      "[宝宝]：妈妈，什么是彩虹？\n",
      "[妈妈]：彩虹是太阳光经过雨滴折射和反射形成的，所以我们看到了不同颜色的光组成的弧形。\n",
      "\n",
      "[宝宝]：妈妈，什么是彩虹？\n",
      "[妈妈]：彩虹是太阳光经过雨滴折射和反射形成的，所以我们看到了不同颜色的光组成的弧形。\n",
      "\n"
     ]
    }
   ],
   "source": [
    "for doc in docs:\n",
    "    print(doc.page_content + \"\\n\")"
   ]
  },
  {
   "cell_type": "markdown",
   "id": "b335c9e5-bc01-4a47-916c-03bec0e7a839",
   "metadata": {},
   "source": [
    "#### 使用 similarity_score_threshold 设置阈值，提升结果的相关性质量"
   ]
  },
  {
   "cell_type": "code",
   "execution_count": 24,
   "id": "b1298956-6cf3-4a68-a3c2-a3149f64f156",
   "metadata": {},
   "outputs": [],
   "source": [
    "retriever = db.as_retriever(\n",
    "    search_type=\"similarity_score_threshold\",\n",
    "    search_kwargs={\"score_threshold\": 0.8}\n",
    ")"
   ]
  },
  {
   "cell_type": "code",
   "execution_count": 25,
   "id": "d61167de-72ed-4618-a2e1-5df04784a3bc",
   "metadata": {},
   "outputs": [
    {
     "name": "stdout",
     "output_type": "stream",
     "text": [
      "[宝宝]：妈妈，为什么月亮只在晚上出来？\n",
      "[妈妈]：月亮只在晚上出来是因为它的亮度不足以在白天看到，所以我们通常在夜里太阳落下才能看到它。\n",
      "\n"
     ]
    }
   ],
   "source": [
    "docs = retriever.get_relevant_documents(query)\n",
    "for doc in docs:\n",
    "    print(doc.page_content + \"\\n\")"
   ]
  },
  {
   "cell_type": "code",
   "execution_count": null,
   "id": "548d1b52-6fa2-46d6-9218-908db572f380",
   "metadata": {},
   "outputs": [],
   "source": []
  },
  {
   "cell_type": "markdown",
   "id": "c31344ce-f952-4604-b700-fdbb34da1e28",
   "metadata": {},
   "source": [
    "### 提取向量数据库中的`[妈妈]：`"
   ]
  },
  {
   "cell_type": "code",
   "execution_count": 26,
   "id": "25768463-da65-4762-978d-51c0c3a9c24b",
   "metadata": {},
   "outputs": [],
   "source": [
    "docs = retriever.get_relevant_documents(query)"
   ]
  },
  {
   "cell_type": "code",
   "execution_count": 27,
   "id": "4838d3da-dca3-4c31-80da-cec75760a833",
   "metadata": {},
   "outputs": [
    {
     "data": {
      "text/plain": [
       "'[宝宝]：妈妈，为什么月亮只在晚上出来？\\n[妈妈]：月亮只在晚上出来是因为它的亮度不足以在白天看到，所以我们通常在夜里太阳落下才能看到它。'"
      ]
     },
     "execution_count": 27,
     "metadata": {},
     "output_type": "execute_result"
    }
   ],
   "source": [
    "docs[0].page_content"
   ]
  },
  {
   "cell_type": "code",
   "execution_count": 28,
   "id": "1ba30232-f468-4102-b70c-02c8b74da43d",
   "metadata": {},
   "outputs": [
    {
     "data": {
      "text/plain": [
       "['[宝宝]：妈妈，为什么月亮只在晚上出来？\\n', '月亮只在晚上出来是因为它的亮度不足以在白天看到，所以我们通常在夜里太阳落下才能看到它。']"
      ]
     },
     "execution_count": 28,
     "metadata": {},
     "output_type": "execute_result"
    }
   ],
   "source": [
    "docs[0].page_content.split(\"[妈妈]：\")"
   ]
  },
  {
   "cell_type": "code",
   "execution_count": 29,
   "id": "bda8eb0c-eb1f-47b2-91ab-4c94ff71c3db",
   "metadata": {},
   "outputs": [],
   "source": [
    "ans = docs[0].page_content.split(\"[妈妈]：\")[-1]"
   ]
  },
  {
   "cell_type": "code",
   "execution_count": 30,
   "id": "917a3b6c-3149-42e2-b7b6-abebd94b7f72",
   "metadata": {},
   "outputs": [
    {
     "data": {
      "text/plain": [
       "'月亮只在晚上出来是因为它的亮度不足以在白天看到，所以我们通常在夜里太阳落下才能看到它。'"
      ]
     },
     "execution_count": 30,
     "metadata": {},
     "output_type": "execute_result"
    }
   ],
   "source": [
    "ans"
   ]
  },
  {
   "cell_type": "markdown",
   "id": "b36b61a5-156d-4546-bbd1-8a983e94676b",
   "metadata": {},
   "source": [
    "#### 尝试各种问题"
   ]
  },
  {
   "cell_type": "code",
   "execution_count": 31,
   "id": "c311a656-e571-45d6-8690-88e4be2c2a65",
   "metadata": {},
   "outputs": [],
   "source": [
    "from typing import List\n",
    "\n",
    "def mom_answers(query: str, score_threshold: float=0.8) -> List[str]:\n",
    "    retriever = db.as_retriever(search_type=\"similarity_score_threshold\", search_kwargs={\"score_threshold\": score_threshold})    \n",
    "    docs = retriever.get_relevant_documents(query)\n",
    "    ans_list = [doc.page_content.split(\"[妈妈]：\")[-1] for doc in docs]\n",
    "\n",
    "    return ans_list"
   ]
  },
  {
   "cell_type": "code",
   "execution_count": 34,
   "id": "2f4c6c08-b97c-4727-9aa1-a474d85a11e4",
   "metadata": {},
   "outputs": [
    {
     "name": "stdout",
     "output_type": "stream",
     "text": [
      "['月亮有阴晴圆缺是因为我们看到的是月球不同位置的光照面，有时候太阳照在月球正面，有时候只照在一部分上面。', '月亮有阴晴圆缺是因为我们看到的是月球不同位置的光照面，有时候太阳照在月球正面，有时候只照在一部分上面。', '夜晚有月亮是因为月球绕地球旋转，它的光亮一部分被反射到地球上，所以我们在夜晚能看到它。']\n"
     ]
    }
   ],
   "source": [
    "query = \"月亮什么时候圆\"\n",
    "\n",
    "print(mom_answers(query))"
   ]
  },
  {
   "cell_type": "code",
   "execution_count": 35,
   "id": "11e3d8b6-839f-4b2f-b519-841e0271f95b",
   "metadata": {},
   "outputs": [
    {
     "name": "stdout",
     "output_type": "stream",
     "text": [
      "['月亮有阴晴圆缺是因为我们看到的是月球不同位置的光照面，有时候太阳照在月球正面，有时候只照在一部分上面。', '月亮有阴晴圆缺是因为我们看到的是月球不同位置的光照面，有时候太阳照在月球正面，有时候只照在一部分上面。', '夜晚有月亮是因为月球绕地球旋转，它的光亮一部分被反射到地球上，所以我们在夜晚能看到它。', '因为月亮是地球的卫星，它围绕地球旋转，而太阳是一个恒星，位于太阳系的中心。']\n"
     ]
    }
   ],
   "source": [
    "print(mom_answers(query, 0.75))"
   ]
  },
  {
   "cell_type": "code",
   "execution_count": 39,
   "id": "fc5b030a-ae6f-4d42-9577-1420c78aecb1",
   "metadata": {},
   "outputs": [
    {
     "name": "stdout",
     "output_type": "stream",
     "text": [
      "score:0.8 ans: []\n",
      "\n",
      "score:0.75 ans: []\n",
      "\n",
      "score:0.5 ans: ['我们穿衣服是为了保暖，保护身体免受寒冷和天气的影响。不同季节需要穿不同的衣物。', '有人打呼噜是因为当他们睡觉时，喉咙和气道的肌肉松弛，空气通过时会产生声音。', '吃蔬菜是因为它们对我们的身体很好。蔬菜里有各种维生素和矿物质，能让我们保持健康，而且它们很好吃！', '对的，晚上太阳不再照亮天空，所以我们看到黑色的夜空，但还有很多星星点缀着。']\n",
      "\n"
     ]
    }
   ],
   "source": [
    "query = \"小朋友生病了一定要去医院吗\"\n",
    "\n",
    "print(f\"score:0.8 ans: {sales(query)}\\n\")\n",
    "print(f\"score:0.75 ans: {sales(query, 0.75)}\\n\")\n",
    "print(f\"score:0.5 ans: {sales(query, 0.5)}\\n\")"
   ]
  },
  {
   "cell_type": "markdown",
   "id": "9e26e6d7-259b-4ecf-9c72-027befba4e3b",
   "metadata": {},
   "source": [
    "#### 当向量数据库中没有合适答案时，使用大语言模型能力"
   ]
  },
  {
   "cell_type": "code",
   "execution_count": 40,
   "id": "9142feb4-980a-4142-b367-1401021dceef",
   "metadata": {},
   "outputs": [],
   "source": [
    "from langchain.chains import RetrievalQA\n",
    "from langchain.chat_models import ChatOpenAI\n",
    "\n",
    "llm = ChatOpenAI(model_name=\"gpt-3.5-turbo\", temperature=0)\n",
    "qa_chain = RetrievalQA.from_chain_type(llm,\n",
    "                                       retriever=db.as_retriever(search_type=\"similarity_score_threshold\",\n",
    "                                                                 search_kwargs={\"score_threshold\": 0.8}))"
   ]
  },
  {
   "cell_type": "code",
   "execution_count": 41,
   "id": "d281b560-54bb-4a25-a1dc-b23874361654",
   "metadata": {},
   "outputs": [
    {
     "data": {
      "text/plain": [
       "{'query': '小朋友生病了一定要去医院吗',\n",
       " 'result': '如果小朋友生病了，最好去医院就诊。医院有专业的医生和设备，可以对病情进行准确的诊断和治疗。但是，如果病情不严重，可以先尝试在家休息和进行简单的自我护理。如果病情加重或持续不好，建议尽快就医。'}"
      ]
     },
     "execution_count": 41,
     "metadata": {},
     "output_type": "execute_result"
    }
   ],
   "source": [
    "qa_chain({\"query\": query})"
   ]
  },
  {
   "cell_type": "code",
   "execution_count": 42,
   "id": "c6a30dcc-fa6b-4282-935c-b07902746e19",
   "metadata": {},
   "outputs": [
    {
     "data": {
      "text/plain": [
       "{'query': '彩虹什么时候出现',\n",
       " 'result': '彩虹通常在雨后太阳出现的时候出现在天空中。当太阳的光线经过雨滴时，光线会被雨滴散射和折射，形成彩虹的光谱。所以，只有在雨后太阳出现的时候，我们才能看到彩虹。'}"
      ]
     },
     "execution_count": 42,
     "metadata": {},
     "output_type": "execute_result"
    }
   ],
   "source": [
    "qa_chain({\"query\": \"彩虹什么时候出现\"})"
   ]
  },
  {
   "cell_type": "code",
   "execution_count": 43,
   "id": "9da44bd6-02ef-4fb6-8e9e-7c99aeba483a",
   "metadata": {},
   "outputs": [
    {
     "name": "stdout",
     "output_type": "stream",
     "text": [
      "['雨后会有彩虹是因为雨滴在空中散射太阳光，形成了彩虹。雨后太阳出现，彩虹才能出现在天空中。']\n"
     ]
    }
   ],
   "source": [
    "print(mom_answers(\"彩虹什么时候出现\"))"
   ]
  },
  {
   "cell_type": "markdown",
   "id": "0a0647e8-5b41-4c93-87c2-3240ec558717",
   "metadata": {},
   "source": [
    "## 加载 FAISS 向量数据库已有结果"
   ]
  },
  {
   "cell_type": "code",
   "execution_count": 44,
   "id": "913edd04-37ea-4c3f-9346-086aeb0ab447",
   "metadata": {},
   "outputs": [],
   "source": [
    "from langchain.embeddings.openai import OpenAIEmbeddings\n",
    "from langchain.vectorstores import FAISS\n",
    "\n",
    "db = FAISS.load_local(\"children_whys\", OpenAIEmbeddings())"
   ]
  },
  {
   "cell_type": "code",
   "execution_count": 45,
   "id": "77d8eee4-6383-4b4a-9737-95ea9fc53b87",
   "metadata": {},
   "outputs": [],
   "source": [
    "from langchain.chains import RetrievalQA\n",
    "from langchain.chat_models import ChatOpenAI\n",
    "\n",
    "llm = ChatOpenAI(model_name=\"gpt-3.5-turbo\", temperature=0)\n",
    "qa_chain = RetrievalQA.from_chain_type(llm,\n",
    "                                       retriever=db.as_retriever(search_type=\"similarity_score_threshold\",\n",
    "                                                                 search_kwargs={\"score_threshold\": 0.8}))"
   ]
  },
  {
   "cell_type": "code",
   "execution_count": 46,
   "id": "5dfac197-cadb-47d7-8cbe-1b07a83fc8e1",
   "metadata": {},
   "outputs": [
    {
     "data": {
      "text/plain": [
       "{'query': '妈妈，嫦娥和后羿的传说是什么',\n",
       " 'result': '嫦娥和后羿是中国传说中的两个角色。嫦娥是一个美丽的仙女，据说她嫁给了后羿，一个英勇的射手。传说中，后羿曾经射下了九个太阳，拯救了人们免受炎热的侵扰。作为奖励，他得到了一瓶长生不老的仙药。然而，后羿的妻子嫦娥偷偷喝下了这瓶仙药，变成了一个仙女，并飞到了月亮上。这就是嫦娥和后羿的传说。'}"
      ]
     },
     "execution_count": 46,
     "metadata": {},
     "output_type": "execute_result"
    }
   ],
   "source": [
    "qa_chain({\"query\": \"妈妈，嫦娥和后羿的传说是什么\"})"
   ]
  },
  {
   "cell_type": "code",
   "execution_count": 49,
   "id": "fc393afc-06d3-4483-bd24-efe000ef5f2a",
   "metadata": {},
   "outputs": [],
   "source": [
    "# 输出内部 Chain 的日志\n",
    "qa_chain.combine_documents_chain.verbose = False"
   ]
  },
  {
   "cell_type": "code",
   "execution_count": 50,
   "id": "013c313a-5e7c-48d1-8ed4-eee96e50a99c",
   "metadata": {},
   "outputs": [
    {
     "data": {
      "text/plain": [
       "{'query': '妈妈，嫦娥和后羿的传说是什么',\n",
       " 'result': '嫦娥和后羿是中国传说中的两个角色。嫦娥是一个美丽的仙女，据说她嫁给了后羿，一个英勇的射手。传说中，后羿曾经射下了九个太阳，拯救了人们免受炎热的侵扰。作为奖励，他得到了一瓶长生不老的仙药。然而，后羿的妻子嫦娥偷偷喝下了这瓶仙药，变成了一个仙女，并飞到了月亮上。这就是嫦娥和后羿的传说。'}"
      ]
     },
     "execution_count": 50,
     "metadata": {},
     "output_type": "execute_result"
    }
   ],
   "source": [
    "qa_chain({\"query\": \"妈妈，嫦娥和后羿的传说是什么\"})"
   ]
  },
  {
   "cell_type": "code",
   "execution_count": 51,
   "id": "e5fb0943-ffe9-4270-8dbe-f5f5314e6042",
   "metadata": {},
   "outputs": [],
   "source": [
    "# 返回向量数据库的检索结果\n",
    "qa_chain.return_source_documents = True"
   ]
  },
  {
   "cell_type": "code",
   "execution_count": 53,
   "id": "fbc1741e-d34f-4df5-874b-02b78e8cd67a",
   "metadata": {},
   "outputs": [],
   "source": [
    "result = qa_chain({\"query\": \"妈妈，你什么都知道吗\"})"
   ]
  },
  {
   "cell_type": "code",
   "execution_count": 55,
   "id": "fac8309c-033c-4144-ada0-08e74fa9bf2d",
   "metadata": {},
   "outputs": [
    {
     "data": {
      "text/plain": [
       "{'query': '妈妈，你什么都知道吗',\n",
       " 'result': '妈妈可能不知道所有的事情，但她会尽力回答你的问题。有些问题可能超出她的知识范围，她可能会告诉你她不知道。',\n",
       " 'source_documents': []}"
      ]
     },
     "execution_count": 55,
     "metadata": {},
     "output_type": "execute_result"
    }
   ],
   "source": [
    "result"
   ]
  }
 ],
 "metadata": {
  "kernelspec": {
   "display_name": "Python 3 (ipykernel)",
   "language": "python",
   "name": "python3"
  },
  "language_info": {
   "codemirror_mode": {
    "name": "ipython",
    "version": 3
   },
   "file_extension": ".py",
   "mimetype": "text/x-python",
   "name": "python",
   "nbconvert_exporter": "python",
   "pygments_lexer": "ipython3",
   "version": "3.10.3"
  }
 },
 "nbformat": 4,
 "nbformat_minor": 5
}
