{
 "cells": [
  {
   "cell_type": "code",
   "execution_count": 1,
   "id": "initial_id",
   "metadata": {
    "ExecuteTime": {
     "end_time": "2024-03-29T06:20:02.486626Z",
     "start_time": "2024-03-29T06:20:02.477287200Z"
    }
   },
   "outputs": [],
   "source": [
    "from langchain.document_loaders import TextLoader\n",
    "\n",
    "docs = TextLoader('../tests/state_of_the_union.txt', encoding='UTF-8').load()"
   ]
  },
  {
   "cell_type": "code",
   "execution_count": 2,
   "id": "ae2700a148576eab",
   "metadata": {
    "ExecuteTime": {
     "end_time": "2024-03-29T06:20:17.704837600Z",
     "start_time": "2024-03-29T06:20:17.686887700Z"
    },
    "collapsed": false
   },
   "outputs": [
    {
     "data": {
      "text/plain": [
       "[Document(page_content='Madam Speaker, Madam Vice President, our First Lady and Second Gentleman. Members of Congress and the Cabinet. Justices of the Supreme Court. My fellow Americans.  \\n\\nLast year COVID-19 kept us apart. This year we are finally together again. \\n\\nTonight, we meet as Democrats Republicans and Independents. But most importantly as Americans. \\n\\nWith a duty to one another to the American people to the Constitution. \\n\\nAnd with an unwavering resolve that freedom will always triumph over tyranny. \\n\\nSix days ago, Russia’s Vladimir Putin sought to shake the foundations of the free world thinking he could make it bend to his menacing ways. But he badly miscalculated. \\n\\nHe thought he could roll into Ukraine and the world would roll over. Instead he met a wall of strength he never imagined. \\n\\nHe met the Ukrainian people. \\n\\nFrom President Zelenskyy to every Ukrainian, their fearlessness, their courage, their determination, inspires the world. \\n\\nGroups of citizens blocking tanks with their bodies. Everyone from students to retirees teachers turned soldiers defending their homeland. \\n\\nIn this struggle as President Zelenskyy said in his speech to the European Parliament “Light will win over darkness.” The Ukrainian Ambassador to the United States is here tonight. \\n\\nLet each of us here tonight in this Chamber send an unmistakable signal to Ukraine and to the world. \\n\\nPlease rise if you are able and show that, Yes, we the United States of America stand with the Ukrainian people. \\n\\nThroughout our history we’ve learned this lesson when dictators do not pay a price for their aggression they cause more chaos.   \\n\\nThey keep moving.   \\n\\nAnd the costs and the threats to America and the world keep rising.   \\n\\nThat’s why the NATO Alliance was created to secure peace and stability in Europe after World War 2. \\n\\nThe United States is a member along with 29 other nations. \\n\\nIt matters. American diplomacy matters. American resolve matters. \\n\\nPutin’s latest attack on Ukraine was premeditated and unprovoked. \\n\\nHe rejected repeated efforts at diplomacy. \\n\\nHe thought the West and NATO wouldn’t respond. And he thought he could divide us at home. Putin was wrong. We were ready.  Here is what we did.   \\n\\nWe prepared extensively and carefully. \\n\\nWe spent months building a coalition of other freedom-loving nations from Europe and the Americas to Asia and Africa to confront Putin. \\n\\nI spent countless hours unifying our European allies. We shared with the world in advance what we knew Putin was planning and precisely how he would try to falsely justify his aggression.  \\n\\nWe countered Russia’s lies with truth.   \\n\\nAnd now that he has acted the free world is holding him accountable. \\n\\nAlong with twenty-seven members of the European Union including France, Germany, Italy, as well as countries like the United Kingdom, Canada, Japan, Korea, Australia, New Zealand, and many others, even Switzerland. \\n\\nWe are inflicting pain on Russia and supporting the people of Ukraine. Putin is now isolated from the world more than ever. \\n\\nTogether with our allies –we are right now enforcing powerful economic sanctions. \\n\\nWe are cutting off Russia’s largest banks from the international financial system.  \\n\\nPreventing Russia’s central bank from defending the Russian Ruble making Putin’s $630 Billion “war fund” worthless.   \\n\\nWe are choking off Russia’s access to technology that will sap its economic strength and weaken its military for years to come.  \\n\\nTonight I say to the Russian oligarchs and corrupt leaders who have bilked billions of dollars off this violent regime no more. \\n\\nThe U.S. Department of Justice is assembling a dedicated task force to go after the crimes of Russian oligarchs.  \\n\\nWe are joining with our European allies to find and seize your yachts your luxury apartments your private jets. We are coming for your ill-begotten gains. \\n\\nAnd tonight I am announcing that we will join our allies in closing off American air space to all Russian flights – further isolating Russia – and adding an additional squeeze –on their economy. The Ruble has lost 30% of its value. \\n\\nThe Russian stock market has lost 40% of its value and trading remains suspended. Russia’s economy is reeling and Putin alone is to blame. \\n\\nTogether with our allies we are providing support to the Ukrainians in their fight for freedom. Military assistance. Economic assistance. Humanitarian assistance. \\n\\nWe are giving more than $1 Billion in direct assistance to Ukraine. \\n\\nAnd we will continue to aid the Ukrainian people as they defend their country and to help ease their suffering.  \\n\\nLet me be clear, our forces are not engaged and will not engage in conflict with Russian forces in Ukraine.  \\n\\nOur forces are not going to Europe to fight in Ukraine, but to defend our NATO Allies – in the event that Putin decides to keep moving west.  \\n\\nFor that purpose we’ve mobilized American ground forces, air squadrons, and ship deployments to protect NATO countries including Poland, Romania, Latvia, Lithuania, and Estonia. \\n\\nAs I have made crystal clear the United States and our Allies will defend every inch of territory of NATO countries with the full force of our collective power.  \\n\\nAnd we remain clear-eyed. The Ukrainians are fighting back with pure courage. But the next few days weeks, months, will be hard on them.  \\n\\nPutin has unleashed violence and chaos.  But while he may make gains on the battlefield – he will pay a continuing high price over the long run. \\n\\nAnd a proud Ukrainian people, who have known 30 years  of independence, have repeatedly shown that they will not tolerate anyone who tries to take their country backwards.  \\n\\nTo all Americans, I will be honest with you, as I’ve always promised. A Russian dictator, invading a foreign country, has costs around the world. \\n\\nAnd I’m taking robust action to make sure the pain of our sanctions  is targeted at Russia’s economy. And I will use every tool at our disposal to protect American businesses and consumers. \\n\\nTonight, I can announce that the United States has worked with 30 other countries to release 60 Million barrels of oil from reserves around the world.  \\n\\nAmerica will lead that effort, releasing 30 Million barrels from our own Strategic Petroleum Reserve. And we stand ready to do more if necessary, unified with our allies.  \\n\\nThese steps will help blunt gas prices here at home. And I know the news about what’s happening can seem alarming. \\n\\nBut I want you to know that we are going to be okay. \\n\\nWhen the history of this era is written Putin’s war on Ukraine will have left Russia weaker and the rest of the world stronger. \\n\\nWhile it shouldn’t have taken something so terrible for people around the world to see what’s at stake now everyone sees it clearly. \\n\\nWe see the unity among leaders of nations and a more unified Europe a more unified West. And we see unity among the people who are gathering in cities in large crowds around the world even in Russia to demonstrate their support for Ukraine.  \\n\\nIn the battle between democracy and autocracy, democracies are rising to the moment, and the world is clearly choosing the side of peace and security. \\n\\nThis is a real test. It’s going to take time. So let us continue to draw inspiration from the iron will of the Ukrainian people. \\n\\nTo our fellow Ukrainian Americans who forge a deep bond that connects our two nations we stand with you. \\n\\nPutin may circle Kyiv with tanks, but he will never gain the hearts and souls of the Ukrainian people. \\n\\nHe will never extinguish their love of freedom. He will never weaken the resolve of the free world. \\n\\nWe meet tonight in an America that has lived through two of the hardest years this nation has ever faced. \\n\\nThe pandemic has been punishing. \\n\\nAnd so many families are living paycheck to paycheck, struggling to keep up with the rising cost of food, gas, housing, and so much more. \\n\\nI understand. \\n\\nI remember when my Dad had to leave our home in Scranton, Pennsylvania to find work. I grew up in a family where if the price of food went up, you felt it. \\n\\nThat’s why one of the first things I did as President was fight to pass the American Rescue Plan.  \\n\\nBecause people were hurting. We needed to act, and we did. \\n\\nFew pieces of legislation have done more in a critical moment in our history to lift us out of crisis. \\n\\nIt fueled our efforts to vaccinate the nation and combat COVID-19. It delivered immediate economic relief for tens of millions of Americans.  \\n\\nHelped put food on their table, keep a roof over their heads, and cut the cost of health insurance. \\n\\nAnd as my Dad used to say, it gave people a little breathing room. \\n\\nAnd unlike the $2 Trillion tax cut passed in the previous administration that benefitted the top 1% of Americans, the American Rescue Plan helped working people—and left no one behind. \\n\\nAnd it worked. It created jobs. Lots of jobs. \\n\\nIn fact—our economy created over 6.5 Million new jobs just last year, more jobs created in one year  \\nthan ever before in the history of America. \\n\\nOur economy grew at a rate of 5.7% last year, the strongest growth in nearly 40 years, the first step in bringing fundamental change to an economy that hasn’t worked for the working people of this nation for too long.  \\n\\nFor the past 40 years we were told that if we gave tax breaks to those at the very top, the benefits would trickle down to everyone else. \\n\\nBut that trickle-down theory led to weaker economic growth, lower wages, bigger deficits, and the widest gap between those at the top and everyone else in nearly a century. \\n\\nVice President Harris and I ran for office with a new economic vision for America. \\n\\nInvest in America. Educate Americans. Grow the workforce. Build the economy from the bottom up  \\nand the middle out, not from the top down.  \\n\\nBecause we know that when the middle class grows, the poor have a ladder up and the wealthy do very well. \\n\\nAmerica used to have the best roads, bridges, and airports on Earth. \\n\\nNow our infrastructure is ranked 13th in the world. \\n\\nWe won’t be able to compete for the jobs of the 21st Century if we don’t fix that. \\n\\nThat’s why it was so important to pass the Bipartisan Infrastructure Law—the most sweeping investment to rebuild America in history. \\n\\nThis was a bipartisan effort, and I want to thank the members of both parties who worked to make it happen. \\n\\nWe’re done talking about infrastructure weeks. \\n\\nWe’re going to have an infrastructure decade. \\n\\nIt is going to transform America and put us on a path to win the economic competition of the 21st Century that we face with the rest of the world—particularly with China.  \\n\\nAs I’ve told Xi Jinping, it is never a good bet to bet against the American people. \\n\\nWe’ll create good jobs for millions of Americans, modernizing roads, airports, ports, and waterways all across America. \\n\\nAnd we’ll do it all to withstand the devastating effects of the climate crisis and promote environmental justice. \\n\\nWe’ll build a national network of 500,000 electric vehicle charging stations, begin to replace poisonous lead pipes—so every child—and every American—has clean water to drink at home and at school, provide affordable high-speed internet for every American—urban, suburban, rural, and tribal communities. \\n\\n4,000 projects have already been announced. \\n\\nAnd tonight, I’m announcing that this year we will start fixing over 65,000 miles of highway and 1,500 bridges in disrepair. \\n\\nWhen we use taxpayer dollars to rebuild America – we are going to Buy American: buy American products to support American jobs. \\n\\nThe federal government spends about $600 Billion a year to keep the country safe and secure. \\n\\nThere’s been a law on the books for almost a century \\nto make sure taxpayers’ dollars support American jobs and businesses. \\n\\nEvery Administration says they’ll do it, but we are actually doing it. \\n\\nWe will buy American to make sure everything from the deck of an aircraft carrier to the steel on highway guardrails are made in America. \\n\\nBut to compete for the best jobs of the future, we also need to level the playing field with China and other competitors. \\n\\nThat’s why it is so important to pass the Bipartisan Innovation Act sitting in Congress that will make record investments in emerging technologies and American manufacturing. \\n\\nLet me give you one example of why it’s so important to pass it. \\n\\nIf you travel 20 miles east of Columbus, Ohio, you’ll find 1,000 empty acres of land. \\n\\nIt won’t look like much, but if you stop and look closely, you’ll see a “Field of dreams,” the ground on which America’s future will be built. \\n\\nThis is where Intel, the American company that helped build Silicon Valley, is going to build its $20 billion semiconductor “mega site”. \\n\\nUp to eight state-of-the-art factories in one place. 10,000 new good-paying jobs. \\n\\nSome of the most sophisticated manufacturing in the world to make computer chips the size of a fingertip that power the world and our everyday lives. \\n\\nSmartphones. The Internet. Technology we have yet to invent. \\n\\nBut that’s just the beginning. \\n\\nIntel’s CEO, Pat Gelsinger, who is here tonight, told me they are ready to increase their investment from  \\n$20 billion to $100 billion. \\n\\nThat would be one of the biggest investments in manufacturing in American history. \\n\\nAnd all they’re waiting for is for you to pass this bill. \\n\\nSo let’s not wait any longer. Send it to my desk. I’ll sign it.  \\n\\nAnd we will really take off. \\n\\nAnd Intel is not alone. \\n\\nThere’s something happening in America. \\n\\nJust look around and you’ll see an amazing story. \\n\\nThe rebirth of the pride that comes from stamping products “Made In America.” The revitalization of American manufacturing.   \\n\\nCompanies are choosing to build new factories here, when just a few years ago, they would have built them overseas. \\n\\nThat’s what is happening. Ford is investing $11 billion to build electric vehicles, creating 11,000 jobs across the country. \\n\\nGM is making the largest investment in its history—$7 billion to build electric vehicles, creating 4,000 jobs in Michigan. \\n\\nAll told, we created 369,000 new manufacturing jobs in America just last year. \\n\\nPowered by people I’ve met like JoJo Burgess, from generations of union steelworkers from Pittsburgh, who’s here with us tonight. \\n\\nAs Ohio Senator Sherrod Brown says, “It’s time to bury the label “Rust Belt.” \\n\\nIt’s time. \\n\\nBut with all the bright spots in our economy, record job growth and higher wages, too many families are struggling to keep up with the bills.  \\n\\nInflation is robbing them of the gains they might otherwise feel. \\n\\nI get it. That’s why my top priority is getting prices under control. \\n\\nLook, our economy roared back faster than most predicted, but the pandemic meant that businesses had a hard time hiring enough workers to keep up production in their factories. \\n\\nThe pandemic also disrupted global supply chains. \\n\\nWhen factories close, it takes longer to make goods and get them from the warehouse to the store, and prices go up. \\n\\nLook at cars. \\n\\nLast year, there weren’t enough semiconductors to make all the cars that people wanted to buy. \\n\\nAnd guess what, prices of automobiles went up. \\n\\nSo—we have a choice. \\n\\nOne way to fight inflation is to drive down wages and make Americans poorer.  \\n\\nI have a better plan to fight inflation. \\n\\nLower your costs, not your wages. \\n\\nMake more cars and semiconductors in America. \\n\\nMore infrastructure and innovation in America. \\n\\nMore goods moving faster and cheaper in America. \\n\\nMore jobs where you can earn a good living in America. \\n\\nAnd instead of relying on foreign supply chains, let’s make it in America. \\n\\nEconomists call it “increasing the productive capacity of our economy.” \\n\\nI call it building a better America. \\n\\nMy plan to fight inflation will lower your costs and lower the deficit. \\n\\n17 Nobel laureates in economics say my plan will ease long-term inflationary pressures. Top business leaders and most Americans support my plan. And here’s the plan: \\n\\nFirst – cut the cost of prescription drugs. Just look at insulin. One in ten Americans has diabetes. In Virginia, I met a 13-year-old boy named Joshua Davis.  \\n\\nHe and his Dad both have Type 1 diabetes, which means they need insulin every day. Insulin costs about $10 a vial to make.  \\n\\nBut drug companies charge families like Joshua and his Dad up to 30 times more. I spoke with Joshua’s mom. \\n\\nImagine what it’s like to look at your child who needs insulin and have no idea how you’re going to pay for it.  \\n\\nWhat it does to your dignity, your ability to look your child in the eye, to be the parent you expect to be. \\n\\nJoshua is here with us tonight. Yesterday was his birthday. Happy birthday, buddy.  \\n\\nFor Joshua, and for the 200,000 other young people with Type 1 diabetes, let’s cap the cost of insulin at $35 a month so everyone can afford it.  \\n\\nDrug companies will still do very well. And while we’re at it let Medicare negotiate lower prices for prescription drugs, like the VA already does. \\n\\nLook, the American Rescue Plan is helping millions of families on Affordable Care Act plans save $2,400 a year on their health care premiums. Let’s close the coverage gap and make those savings permanent. \\n\\nSecond – cut energy costs for families an average of $500 a year by combatting climate change.  \\n\\nLet’s provide investments and tax credits to weatherize your homes and businesses to be energy efficient and you get a tax credit; double America’s clean energy production in solar, wind, and so much more;  lower the price of electric vehicles, saving you another $80 a month because you’ll never have to pay at the gas pump again. \\n\\nThird – cut the cost of child care. Many families pay up to $14,000 a year for child care per child.  \\n\\nMiddle-class and working families shouldn’t have to pay more than 7% of their income for care of young children.  \\n\\nMy plan will cut the cost in half for most families and help parents, including millions of women, who left the workforce during the pandemic because they couldn’t afford child care, to be able to get back to work. \\n\\nMy plan doesn’t stop there. It also includes home and long-term care. More affordable housing. And Pre-K for every 3- and 4-year-old.  \\n\\nAll of these will lower costs. \\n\\nAnd under my plan, nobody earning less than $400,000 a year will pay an additional penny in new taxes. Nobody.  \\n\\nThe one thing all Americans agree on is that the tax system is not fair. We have to fix it.  \\n\\nI’m not looking to punish anyone. But let’s make sure corporations and the wealthiest Americans start paying their fair share. \\n\\nJust last year, 55 Fortune 500 corporations earned $40 billion in profits and paid zero dollars in federal income tax.  \\n\\nThat’s simply not fair. That’s why I’ve proposed a 15% minimum tax rate for corporations. \\n\\nWe got more than 130 countries to agree on a global minimum tax rate so companies can’t get out of paying their taxes at home by shipping jobs and factories overseas. \\n\\nThat’s why I’ve proposed closing loopholes so the very wealthy don’t pay a lower tax rate than a teacher or a firefighter.  \\n\\nSo that’s my plan. It will grow the economy and lower costs for families. \\n\\nSo what are we waiting for? Let’s get this done. And while you’re at it, confirm my nominees to the Federal Reserve, which plays a critical role in fighting inflation.  \\n\\nMy plan will not only lower costs to give families a fair shot, it will lower the deficit. \\n\\nThe previous Administration not only ballooned the deficit with tax cuts for the very wealthy and corporations, it undermined the watchdogs whose job was to keep pandemic relief funds from being wasted. \\n\\nBut in my administration, the watchdogs have been welcomed back. \\n\\nWe’re going after the criminals who stole billions in relief money meant for small businesses and millions of Americans.  \\n\\nAnd tonight, I’m announcing that the Justice Department will name a chief prosecutor for pandemic fraud. \\n\\nBy the end of this year, the deficit will be down to less than half what it was before I took office.  \\n\\nThe only president ever to cut the deficit by more than one trillion dollars in a single year. \\n\\nLowering your costs also means demanding more competition. \\n\\nI’m a capitalist, but capitalism without competition isn’t capitalism. \\n\\nIt’s exploitation—and it drives up prices. \\n\\nWhen corporations don’t have to compete, their profits go up, your prices go up, and small businesses and family farmers and ranchers go under. \\n\\nWe see it happening with ocean carriers moving goods in and out of America. \\n\\nDuring the pandemic, these foreign-owned companies raised prices by as much as 1,000% and made record profits. \\n\\nTonight, I’m announcing a crackdown on these companies overcharging American businesses and consumers. \\n\\nAnd as Wall Street firms take over more nursing homes, quality in those homes has gone down and costs have gone up.  \\n\\nThat ends on my watch. \\n\\nMedicare is going to set higher standards for nursing homes and make sure your loved ones get the care they deserve and expect. \\n\\nWe’ll also cut costs and keep the economy going strong by giving workers a fair shot, provide more training and apprenticeships, hire them based on their skills not degrees. \\n\\nLet’s pass the Paycheck Fairness Act and paid leave.  \\n\\nRaise the minimum wage to $15 an hour and extend the Child Tax Credit, so no one has to raise a family in poverty. \\n\\nLet’s increase Pell Grants and increase our historic support of HBCUs, and invest in what Jill—our First Lady who teaches full-time—calls America’s best-kept secret: community colleges. \\n\\nAnd let’s pass the PRO Act when a majority of workers want to form a union—they shouldn’t be stopped.  \\n\\nWhen we invest in our workers, when we build the economy from the bottom up and the middle out together, we can do something we haven’t done in a long time: build a better America. \\n\\nFor more than two years, COVID-19 has impacted every decision in our lives and the life of the nation. \\n\\nAnd I know you’re tired, frustrated, and exhausted. \\n\\nBut I also know this. \\n\\nBecause of the progress we’ve made, because of your resilience and the tools we have, tonight I can say  \\nwe are moving forward safely, back to more normal routines.  \\n\\nWe’ve reached a new moment in the fight against COVID-19, with severe cases down to a level not seen since last July.  \\n\\nJust a few days ago, the Centers for Disease Control and Prevention—the CDC—issued new mask guidelines. \\n\\nUnder these new guidelines, most Americans in most of the country can now be mask free.   \\n\\nAnd based on the projections, more of the country will reach that point across the next couple of weeks. \\n\\nThanks to the progress we have made this past year, COVID-19 need no longer control our lives.  \\n\\nI know some are talking about “living with COVID-19”. Tonight – I say that we will never just accept living with COVID-19. \\n\\nWe will continue to combat the virus as we do other diseases. And because this is a virus that mutates and spreads, we will stay on guard. \\n\\nHere are four common sense steps as we move forward safely.  \\n\\nFirst, stay protected with vaccines and treatments. We know how incredibly effective vaccines are. If you’re vaccinated and boosted you have the highest degree of protection. \\n\\nWe will never give up on vaccinating more Americans. Now, I know parents with kids under 5 are eager to see a vaccine authorized for their children. \\n\\nThe scientists are working hard to get that done and we’ll be ready with plenty of vaccines when they do. \\n\\nWe’re also ready with anti-viral treatments. If you get COVID-19, the Pfizer pill reduces your chances of ending up in the hospital by 90%.  \\n\\nWe’ve ordered more of these pills than anyone in the world. And Pfizer is working overtime to get us 1 Million pills this month and more than double that next month.  \\n\\nAnd we’re launching the “Test to Treat” initiative so people can get tested at a pharmacy, and if they’re positive, receive antiviral pills on the spot at no cost.  \\n\\nIf you’re immunocompromised or have some other vulnerability, we have treatments and free high-quality masks. \\n\\nWe’re leaving no one behind or ignoring anyone’s needs as we move forward. \\n\\nAnd on testing, we have made hundreds of millions of tests available for you to order for free.   \\n\\nEven if you already ordered free tests tonight, I am announcing that you can order more from covidtests.gov starting next week. \\n\\nSecond – we must prepare for new variants. Over the past year, we’ve gotten much better at detecting new variants. \\n\\nIf necessary, we’ll be able to deploy new vaccines within 100 days instead of many more months or years.  \\n\\nAnd, if Congress provides the funds we need, we’ll have new stockpiles of tests, masks, and pills ready if needed. \\n\\nI cannot promise a new variant won’t come. But I can promise you we’ll do everything within our power to be ready if it does.  \\n\\nThird – we can end the shutdown of schools and businesses. We have the tools we need. \\n\\nIt’s time for Americans to get back to work and fill our great downtowns again.  People working from home can feel safe to begin to return to the office.   \\n\\nWe’re doing that here in the federal government. The vast majority of federal workers will once again work in person. \\n\\nOur schools are open. Let’s keep it that way. Our kids need to be in school. \\n\\nAnd with 75% of adult Americans fully vaccinated and hospitalizations down by 77%, most Americans can remove their masks, return to work, stay in the classroom, and move forward safely. \\n\\nWe achieved this because we provided free vaccines, treatments, tests, and masks. \\n\\nOf course, continuing this costs money. \\n\\nI will soon send Congress a request. \\n\\nThe vast majority of Americans have used these tools and may want to again, so I expect Congress to pass it quickly.   \\n\\nFourth, we will continue vaccinating the world.     \\n\\nWe’ve sent 475 Million vaccine doses to 112 countries, more than any other nation. \\n\\nAnd we won’t stop. \\n\\nWe have lost so much to COVID-19. Time with one another. And worst of all, so much loss of life. \\n\\nLet’s use this moment to reset. Let’s stop looking at COVID-19 as a partisan dividing line and see it for what it is: A God-awful disease.  \\n\\nLet’s stop seeing each other as enemies, and start seeing each other for who we really are: Fellow Americans.  \\n\\nWe can’t change how divided we’ve been. But we can change how we move forward—on COVID-19 and other issues we must face together. \\n\\nI recently visited the New York City Police Department days after the funerals of Officer Wilbert Mora and his partner, Officer Jason Rivera. \\n\\nThey were responding to a 9-1-1 call when a man shot and killed them with a stolen gun. \\n\\nOfficer Mora was 27 years old. \\n\\nOfficer Rivera was 22. \\n\\nBoth Dominican Americans who’d grown up on the same streets they later chose to patrol as police officers. \\n\\nI spoke with their families and told them that we are forever in debt for their sacrifice, and we will carry on their mission to restore the trust and safety every community deserves. \\n\\nI’ve worked on these issues a long time. \\n\\nI know what works: Investing in crime preventionand community police officers who’ll walk the beat, who’ll know the neighborhood, and who can restore trust and safety. \\n\\nSo let’s not abandon our streets. Or choose between safety and equal justice. \\n\\nLet’s come together to protect our communities, restore trust, and hold law enforcement accountable. \\n\\nThat’s why the Justice Department required body cameras, banned chokeholds, and restricted no-knock warrants for its officers. \\n\\nThat’s why the American Rescue Plan provided $350 Billion that cities, states, and counties can use to hire more police and invest in proven strategies like community violence interruption—trusted messengers breaking the cycle of violence and trauma and giving young people hope.  \\n\\nWe should all agree: The answer is not to Defund the police. The answer is to FUND the police with the resources and training they need to protect our communities. \\n\\nI ask Democrats and Republicans alike: Pass my budget and keep our neighborhoods safe.  \\n\\nAnd I will keep doing everything in my power to crack down on gun trafficking and ghost guns you can buy online and make at home—they have no serial numbers and can’t be traced. \\n\\nAnd I ask Congress to pass proven measures to reduce gun violence. Pass universal background checks. Why should anyone on a terrorist list be able to purchase a weapon? \\n\\nBan assault weapons and high-capacity magazines. \\n\\nRepeal the liability shield that makes gun manufacturers the only industry in America that can’t be sued. \\n\\nThese laws don’t infringe on the Second Amendment. They save lives. \\n\\nThe most fundamental right in America is the right to vote – and to have it counted. And it’s under assault. \\n\\nIn state after state, new laws have been passed, not only to suppress the vote, but to subvert entire elections. \\n\\nWe cannot let this happen. \\n\\nTonight. I call on the Senate to: Pass the Freedom to Vote Act. Pass the John Lewis Voting Rights Act. And while you’re at it, pass the Disclose Act so Americans can know who is funding our elections. \\n\\nTonight, I’d like to honor someone who has dedicated his life to serve this country: Justice Stephen Breyer—an Army veteran, Constitutional scholar, and retiring Justice of the United States Supreme Court. Justice Breyer, thank you for your service. \\n\\nOne of the most serious constitutional responsibilities a President has is nominating someone to serve on the United States Supreme Court. \\n\\nAnd I did that 4 days ago, when I nominated Circuit Court of Appeals Judge Ketanji Brown Jackson. One of our nation’s top legal minds, who will continue Justice Breyer’s legacy of excellence. \\n\\nA former top litigator in private practice. A former federal public defender. And from a family of public school educators and police officers. A consensus builder. Since she’s been nominated, she’s received a broad range of support—from the Fraternal Order of Police to former judges appointed by Democrats and Republicans. \\n\\nAnd if we are to advance liberty and justice, we need to secure the Border and fix the immigration system. \\n\\nWe can do both. At our border, we’ve installed new technology like cutting-edge scanners to better detect drug smuggling.  \\n\\nWe’ve set up joint patrols with Mexico and Guatemala to catch more human traffickers.  \\n\\nWe’re putting in place dedicated immigration judges so families fleeing persecution and violence can have their cases heard faster. \\n\\nWe’re securing commitments and supporting partners in South and Central America to host more refugees and secure their own borders. \\n\\nWe can do all this while keeping lit the torch of liberty that has led generations of immigrants to this land—my forefathers and so many of yours. \\n\\nProvide a pathway to citizenship for Dreamers, those on temporary status, farm workers, and essential workers. \\n\\nRevise our laws so businesses have the workers they need and families don’t wait decades to reunite. \\n\\nIt’s not only the right thing to do—it’s the economically smart thing to do. \\n\\nThat’s why immigration reform is supported by everyone from labor unions to religious leaders to the U.S. Chamber of Commerce. \\n\\nLet’s get it done once and for all. \\n\\nAdvancing liberty and justice also requires protecting the rights of women. \\n\\nThe constitutional right affirmed in Roe v. Wade—standing precedent for half a century—is under attack as never before. \\n\\nIf we want to go forward—not backward—we must protect access to health care. Preserve a woman’s right to choose. And let’s continue to advance maternal health care in America. \\n\\nAnd for our LGBTQ+ Americans, let’s finally get the bipartisan Equality Act to my desk. The onslaught of state laws targeting transgender Americans and their families is wrong. \\n\\nAs I said last year, especially to our younger transgender Americans, I will always have your back as your President, so you can be yourself and reach your God-given potential. \\n\\nWhile it often appears that we never agree, that isn’t true. I signed 80 bipartisan bills into law last year. From preventing government shutdowns to protecting Asian-Americans from still-too-common hate crimes to reforming military justice. \\n\\nAnd soon, we’ll strengthen the Violence Against Women Act that I first wrote three decades ago. It is important for us to show the nation that we can come together and do big things. \\n\\nSo tonight I’m offering a Unity Agenda for the Nation. Four big things we can do together.  \\n\\nFirst, beat the opioid epidemic. \\n\\nThere is so much we can do. Increase funding for prevention, treatment, harm reduction, and recovery.  \\n\\nGet rid of outdated rules that stop doctors from prescribing treatments. And stop the flow of illicit drugs by working with state and local law enforcement to go after traffickers. \\n\\nIf you’re suffering from addiction, know you are not alone. I believe in recovery, and I celebrate the 23 million Americans in recovery. \\n\\nSecond, let’s take on mental health. Especially among our children, whose lives and education have been turned upside down.  \\n\\nThe American Rescue Plan gave schools money to hire teachers and help students make up for lost learning.  \\n\\nI urge every parent to make sure your school does just that. And we can all play a part—sign up to be a tutor or a mentor. \\n\\nChildren were also struggling before the pandemic. Bullying, violence, trauma, and the harms of social media. \\n\\nAs Frances Haugen, who is here with us tonight, has shown, we must hold social media platforms accountable for the national experiment they’re conducting on our children for profit. \\n\\nIt’s time to strengthen privacy protections, ban targeted advertising to children, demand tech companies stop collecting personal data on our children. \\n\\nAnd let’s get all Americans the mental health services they need. More people they can turn to for help, and full parity between physical and mental health care. \\n\\nThird, support our veterans. \\n\\nVeterans are the best of us. \\n\\nI’ve always believed that we have a sacred obligation to equip all those we send to war and care for them and their families when they come home. \\n\\nMy administration is providing assistance with job training and housing, and now helping lower-income veterans get VA care debt-free.  \\n\\nOur troops in Iraq and Afghanistan faced many dangers. \\n\\nOne was stationed at bases and breathing in toxic smoke from “burn pits” that incinerated wastes of war—medical and hazard material, jet fuel, and more. \\n\\nWhen they came home, many of the world’s fittest and best trained warriors were never the same. \\n\\nHeadaches. Numbness. Dizziness. \\n\\nA cancer that would put them in a flag-draped coffin. \\n\\nI know. \\n\\nOne of those soldiers was my son Major Beau Biden. \\n\\nWe don’t know for sure if a burn pit was the cause of his brain cancer, or the diseases of so many of our troops. \\n\\nBut I’m committed to finding out everything we can. \\n\\nCommitted to military families like Danielle Robinson from Ohio. \\n\\nThe widow of Sergeant First Class Heath Robinson.  \\n\\nHe was born a soldier. Army National Guard. Combat medic in Kosovo and Iraq. \\n\\nStationed near Baghdad, just yards from burn pits the size of football fields. \\n\\nHeath’s widow Danielle is here with us tonight. They loved going to Ohio State football games. He loved building Legos with their daughter. \\n\\nBut cancer from prolonged exposure to burn pits ravaged Heath’s lungs and body. \\n\\nDanielle says Heath was a fighter to the very end. \\n\\nHe didn’t know how to stop fighting, and neither did she. \\n\\nThrough her pain she found purpose to demand we do better. \\n\\nTonight, Danielle—we are. \\n\\nThe VA is pioneering new ways of linking toxic exposures to diseases, already helping more veterans get benefits. \\n\\nAnd tonight, I’m announcing we’re expanding eligibility to veterans suffering from nine respiratory cancers. \\n\\nI’m also calling on Congress: pass a law to make sure veterans devastated by toxic exposures in Iraq and Afghanistan finally get the benefits and comprehensive health care they deserve. \\n\\nAnd fourth, let’s end cancer as we know it. \\n\\nThis is personal to me and Jill, to Kamala, and to so many of you. \\n\\nCancer is the #2 cause of death in America–second only to heart disease. \\n\\nLast month, I announced our plan to supercharge  \\nthe Cancer Moonshot that President Obama asked me to lead six years ago. \\n\\nOur goal is to cut the cancer death rate by at least 50% over the next 25 years, turn more cancers from death sentences into treatable diseases.  \\n\\nMore support for patients and families. \\n\\nTo get there, I call on Congress to fund ARPA-H, the Advanced Research Projects Agency for Health. \\n\\nIt’s based on DARPA—the Defense Department project that led to the Internet, GPS, and so much more.  \\n\\nARPA-H will have a singular purpose—to drive breakthroughs in cancer, Alzheimer’s, diabetes, and more. \\n\\nA unity agenda for the nation. \\n\\nWe can do this. \\n\\nMy fellow Americans—tonight , we have gathered in a sacred space—the citadel of our democracy. \\n\\nIn this Capitol, generation after generation, Americans have debated great questions amid great strife, and have done great things. \\n\\nWe have fought for freedom, expanded liberty, defeated totalitarianism and terror. \\n\\nAnd built the strongest, freest, and most prosperous nation the world has ever known. \\n\\nNow is the hour. \\n\\nOur moment of responsibility. \\n\\nOur test of resolve and conscience, of history itself. \\n\\nIt is in this moment that our character is formed. Our purpose is found. Our future is forged. \\n\\nWell I know this nation.  \\n\\nWe will meet the test. \\n\\nTo protect freedom and liberty, to expand fairness and opportunity. \\n\\nWe will save democracy. \\n\\nAs hard as these times have been, I am more optimistic about America today than I have been my whole life. \\n\\nBecause I see the future that is within our grasp. \\n\\nBecause I know there is simply nothing beyond our capacity. \\n\\nWe are the only nation on Earth that has always turned every crisis we have faced into an opportunity. \\n\\nThe only nation that can be defined by a single word: possibilities. \\n\\nSo on this night, in our 245th year as a nation, I have come to report on the State of the Union. \\n\\nAnd my report is this: the State of the Union is strong—because you, the American people, are strong. \\n\\nWe are stronger today than we were a year ago. \\n\\nAnd we will be stronger a year from now than we are today. \\n\\nNow is our moment to meet and overcome the challenges of our time. \\n\\nAnd we will, as one people. \\n\\nOne America. \\n\\nThe United States of America. \\n\\nMay God bless you all. May God protect our troops.', metadata={'source': '../tests/state_of_the_union.txt'})]"
      ]
     },
     "execution_count": 2,
     "metadata": {},
     "output_type": "execute_result"
    }
   ],
   "source": [
    "docs"
   ]
  },
  {
   "cell_type": "code",
   "execution_count": 3,
   "id": "fccda5a675357da9",
   "metadata": {
    "ExecuteTime": {
     "end_time": "2024-03-29T06:20:44.441081500Z",
     "start_time": "2024-03-29T06:20:44.431738200Z"
    },
    "collapsed": false
   },
   "outputs": [
    {
     "data": {
      "text/plain": [
       "langchain_core.documents.base.Document"
      ]
     },
     "execution_count": 3,
     "metadata": {},
     "output_type": "execute_result"
    }
   ],
   "source": [
    "type(docs[0])"
   ]
  },
  {
   "cell_type": "code",
   "execution_count": 4,
   "id": "5273dcb6396b4a4c",
   "metadata": {
    "ExecuteTime": {
     "end_time": "2024-03-29T06:21:01.552511400Z",
     "start_time": "2024-03-29T06:21:01.534660200Z"
    },
    "collapsed": false
   },
   "outputs": [
    {
     "data": {
      "text/plain": [
       "'Madam Speaker, Madam Vice President, our First Lady and Second Gentleman. Members of Congress and th'"
      ]
     },
     "execution_count": 4,
     "metadata": {},
     "output_type": "execute_result"
    }
   ],
   "source": [
    "docs[0].page_content[:100]"
   ]
  },
  {
   "cell_type": "code",
   "execution_count": null,
   "id": "4425c69026db186c",
   "metadata": {
    "collapsed": false
   },
   "outputs": [],
   "source": []
  },
  {
   "cell_type": "markdown",
   "id": "135b76fb1df1e444",
   "metadata": {
    "collapsed": false
   },
   "source": [
    "使用 ArxivLoader 加载 ArXiv 论文"
   ]
  },
  {
   "cell_type": "markdown",
   "id": "7b7eb4629950f4c6",
   "metadata": {
    "collapsed": false
   },
   "source": [
    "使用 ArxivLoader 加载 ArXiv 论文\n",
    "代码实现：https://github.com/langchain-ai/langchain/blob/master/libs/langchain/langchain/document_loaders/arxiv.py"
   ]
  },
  {
   "cell_type": "code",
   "execution_count": 5,
   "id": "dd92640baf56dafd",
   "metadata": {
    "ExecuteTime": {
     "end_time": "2024-03-29T06:22:25.198486Z",
     "start_time": "2024-03-29T06:22:23.352716100Z"
    },
    "collapsed": false
   },
   "outputs": [
    {
     "name": "stdout",
     "output_type": "stream",
     "text": [
      "Name: arxiv\n",
      "Version: 2.1.0\n",
      "Summary: Python wrapper for the arXiv API: https://arxiv.org/help/api/\n",
      "Home-page: https://github.com/lukasschwab/arxiv.py\n",
      "Author: Lukas Schwab\n",
      "Author-email: lukas.schwab@gmail.com\n",
      "License: MIT\n",
      "Location: D:\\soft\\Python312\\Lib\\site-packages\n",
      "Requires: feedparser, requests\n",
      "Required-by: \n",
      "Note: you may need to restart the kernel to use updated packages.\n"
     ]
    }
   ],
   "source": [
    "pip show arxiv"
   ]
  },
  {
   "cell_type": "code",
   "execution_count": 6,
   "id": "6757000eebd36fa4",
   "metadata": {
    "ExecuteTime": {
     "end_time": "2024-03-29T06:24:15.122031200Z",
     "start_time": "2024-03-29T06:24:11.413264300Z"
    },
    "collapsed": false
   },
   "outputs": [
    {
     "name": "stdout",
     "output_type": "stream",
     "text": [
      "Name: PyMuPDF\n",
      "Version: 1.24.0\n",
      "Summary: A high performance Python library for data extraction, analysis, conversion & manipulation of PDF (and other) documents.\n",
      "Home-page: \n",
      "Author: Artifex\n",
      "Author-email: support@artifex.com\n",
      "License: GNU AFFERO GPL 3.0\n",
      "Location: D:\\soft\\Python312\\Lib\\site-packages\n",
      "Requires: PyMuPDFb\n",
      "Required-by: \n",
      "Note: you may need to restart the kernel to use updated packages.\n"
     ]
    }
   ],
   "source": [
    "pip show pymupdf"
   ]
  },
  {
   "cell_type": "code",
   "execution_count": 9,
   "id": "7e4f2c9d1113981a",
   "metadata": {
    "ExecuteTime": {
     "end_time": "2024-03-29T06:24:11.409017200Z",
     "start_time": "2024-03-29T06:23:31.144503100Z"
    },
    "collapsed": false
   },
   "outputs": [
    {
     "name": "stdout",
     "output_type": "stream",
     "text": [
      "Looking in indexes: https://pypi.tuna.tsinghua.edu.cn/simple\n",
      "Collecting arxiv\n",
      "  Using cached https://pypi.tuna.tsinghua.edu.cn/packages/99/16/532c2aa4bc83b2356820efd4d1f619e45178dc3a0dc0cde16fbccdc43fc1/arxiv-2.1.0-py3-none-any.whl (11 kB)\n",
      "Collecting pymupdf\n",
      "  Downloading https://pypi.tuna.tsinghua.edu.cn/packages/95/da/a144bbee7e449e2325da4505fb84cf2ea3181acfc55a39067ff95f8d26a8/PyMuPDF-1.24.0-cp312-none-win_amd64.whl (3.6 MB)\n",
      "     ---------------------------------------- 0.0/3.6 MB ? eta -:--:--\n",
      "     - -------------------------------------- 0.2/3.6 MB 4.6 MB/s eta 0:00:01\n",
      "     -- ------------------------------------- 0.2/3.6 MB 2.9 MB/s eta 0:00:02\n",
      "     ----- ---------------------------------- 0.5/3.6 MB 3.6 MB/s eta 0:00:01\n",
      "     ------ --------------------------------- 0.6/3.6 MB 3.2 MB/s eta 0:00:01\n",
      "     ------- -------------------------------- 0.7/3.6 MB 3.4 MB/s eta 0:00:01\n",
      "     --------- ------------------------------ 0.9/3.6 MB 3.1 MB/s eta 0:00:01\n",
      "     ----------- ---------------------------- 1.1/3.6 MB 3.2 MB/s eta 0:00:01\n",
      "     ------------ --------------------------- 1.1/3.6 MB 3.1 MB/s eta 0:00:01\n",
      "     -------------- ------------------------- 1.3/3.6 MB 3.2 MB/s eta 0:00:01\n",
      "     --------------- ------------------------ 1.4/3.6 MB 3.0 MB/s eta 0:00:01\n",
      "     ---------------- ----------------------- 1.5/3.6 MB 3.0 MB/s eta 0:00:01\n",
      "     ----------------- ---------------------- 1.6/3.6 MB 3.0 MB/s eta 0:00:01\n",
      "     ------------------ --------------------- 1.7/3.6 MB 2.9 MB/s eta 0:00:01\n",
      "     -------------------- ------------------- 1.8/3.6 MB 2.9 MB/s eta 0:00:01\n",
      "     --------------------- ------------------ 2.0/3.6 MB 2.8 MB/s eta 0:00:01\n",
      "     ----------------------- ---------------- 2.1/3.6 MB 2.9 MB/s eta 0:00:01\n",
      "     ----------------------- ---------------- 2.2/3.6 MB 2.8 MB/s eta 0:00:01\n",
      "     ------------------------- -------------- 2.3/3.6 MB 2.7 MB/s eta 0:00:01\n",
      "     -------------------------- ------------- 2.4/3.6 MB 2.7 MB/s eta 0:00:01\n",
      "     --------------------------- ------------ 2.5/3.6 MB 2.7 MB/s eta 0:00:01\n",
      "     ---------------------------- ----------- 2.6/3.6 MB 2.6 MB/s eta 0:00:01\n",
      "     ----------------------------- ---------- 2.6/3.6 MB 2.6 MB/s eta 0:00:01\n",
      "     ----------------------------- ---------- 2.7/3.6 MB 2.6 MB/s eta 0:00:01\n",
      "     ------------------------------ --------- 2.8/3.6 MB 2.5 MB/s eta 0:00:01\n",
      "     ------------------------------- -------- 2.9/3.6 MB 2.5 MB/s eta 0:00:01\n",
      "     -------------------------------- ------- 3.0/3.6 MB 2.5 MB/s eta 0:00:01\n",
      "     --------------------------------- ------ 3.0/3.6 MB 2.4 MB/s eta 0:00:01\n",
      "     ---------------------------------- ----- 3.1/3.6 MB 2.4 MB/s eta 0:00:01\n",
      "     ----------------------------------- ---- 3.2/3.6 MB 2.4 MB/s eta 0:00:01\n",
      "     ----------------------------------- ---- 3.2/3.6 MB 2.4 MB/s eta 0:00:01\n",
      "     ------------------------------------- -- 3.4/3.6 MB 2.4 MB/s eta 0:00:01\n",
      "     -------------------------------------- - 3.5/3.6 MB 2.3 MB/s eta 0:00:01\n",
      "     -------------------------------------- - 3.5/3.6 MB 2.3 MB/s eta 0:00:01\n",
      "     ---------------------------------------- 3.6/3.6 MB 2.3 MB/s eta 0:00:00\n",
      "Collecting feedparser==6.0.10 (from arxiv)\n",
      "  Downloading https://pypi.tuna.tsinghua.edu.cn/packages/92/1e/741fd94cf2855d251712868f2183cb6485a28daaa3947e1a7046dc036aca/feedparser-6.0.10-py3-none-any.whl (81 kB)\n",
      "     ---------------------------------------- 0.0/81.1 kB ? eta -:--:--\n",
      "     ------------------------------ --------- 61.4/81.1 kB 1.7 MB/s eta 0:00:01\n",
      "     ---------------------------------------- 81.1/81.1 kB 1.1 MB/s eta 0:00:00\n",
      "Requirement already satisfied: requests==2.31.0 in d:\\soft\\python312\\lib\\site-packages (from arxiv) (2.31.0)\n",
      "Collecting sgmllib3k (from feedparser==6.0.10->arxiv)\n",
      "  Downloading https://pypi.tuna.tsinghua.edu.cn/packages/9e/bd/3704a8c3e0942d711c1299ebf7b9091930adae6675d7c8f476a7ce48653c/sgmllib3k-1.0.0.tar.gz (5.8 kB)\n",
      "  Installing build dependencies: started\n",
      "  Installing build dependencies: finished with status 'done'\n",
      "  Getting requirements to build wheel: started\n",
      "  Getting requirements to build wheel: finished with status 'done'\n",
      "  Installing backend dependencies: started\n",
      "  Installing backend dependencies: finished with status 'done'\n",
      "  Preparing metadata (pyproject.toml): started\n",
      "  Preparing metadata (pyproject.toml): finished with status 'done'\n",
      "Requirement already satisfied: charset-normalizer<4,>=2 in d:\\soft\\python312\\lib\\site-packages (from requests==2.31.0->arxiv) (3.3.2)\n",
      "Requirement already satisfied: idna<4,>=2.5 in d:\\soft\\python312\\lib\\site-packages (from requests==2.31.0->arxiv) (3.6)\n",
      "Requirement already satisfied: urllib3<3,>=1.21.1 in d:\\soft\\python312\\lib\\site-packages (from requests==2.31.0->arxiv) (2.2.1)\n",
      "Requirement already satisfied: certifi>=2017.4.17 in d:\\soft\\python312\\lib\\site-packages (from requests==2.31.0->arxiv) (2024.2.2)\n",
      "Collecting PyMuPDFb==1.24.0 (from pymupdf)\n",
      "  Downloading https://pypi.tuna.tsinghua.edu.cn/packages/db/de/b71bf2d7119ddf92583f5104bedb92ee106727b6548829dbd4baa5258310/PyMuPDFb-1.24.0-py3-none-win_amd64.whl (24.9 MB)\n",
      "     ---------------------------------------- 0.0/24.9 MB ? eta -:--:--\n",
      "     ---------------------------------------- 0.1/24.9 MB 1.7 MB/s eta 0:00:15\n",
      "     ---------------------------------------- 0.2/24.9 MB 2.1 MB/s eta 0:00:12\n",
      "     ---------------------------------------- 0.2/24.9 MB 2.1 MB/s eta 0:00:12\n",
      "      --------------------------------------- 0.3/24.9 MB 2.0 MB/s eta 0:00:13\n",
      "      --------------------------------------- 0.4/24.9 MB 2.0 MB/s eta 0:00:13\n",
      "      --------------------------------------- 0.5/24.9 MB 1.7 MB/s eta 0:00:15\n",
      "      --------------------------------------- 0.6/24.9 MB 1.7 MB/s eta 0:00:15\n",
      "     - -------------------------------------- 0.6/24.9 MB 1.7 MB/s eta 0:00:14\n",
      "     - -------------------------------------- 0.7/24.9 MB 1.7 MB/s eta 0:00:15\n",
      "     - -------------------------------------- 0.8/24.9 MB 1.7 MB/s eta 0:00:15\n",
      "     - -------------------------------------- 0.9/24.9 MB 1.7 MB/s eta 0:00:15\n",
      "     - -------------------------------------- 0.9/24.9 MB 1.7 MB/s eta 0:00:14\n",
      "     - -------------------------------------- 1.0/24.9 MB 1.7 MB/s eta 0:00:14\n",
      "     - -------------------------------------- 1.1/24.9 MB 1.7 MB/s eta 0:00:15\n",
      "     - -------------------------------------- 1.2/24.9 MB 1.7 MB/s eta 0:00:14\n",
      "     - -------------------------------------- 1.2/24.9 MB 1.7 MB/s eta 0:00:15\n",
      "     -- ------------------------------------- 1.3/24.9 MB 1.7 MB/s eta 0:00:15\n",
      "     -- ------------------------------------- 1.3/24.9 MB 1.7 MB/s eta 0:00:15\n",
      "     -- ------------------------------------- 1.4/24.9 MB 1.7 MB/s eta 0:00:15\n",
      "     -- ------------------------------------- 1.5/24.9 MB 1.7 MB/s eta 0:00:15\n",
      "     -- ------------------------------------- 1.6/24.9 MB 1.6 MB/s eta 0:00:15\n",
      "     -- ------------------------------------- 1.6/24.9 MB 1.6 MB/s eta 0:00:15\n",
      "     -- ------------------------------------- 1.7/24.9 MB 1.6 MB/s eta 0:00:15\n",
      "     -- ------------------------------------- 1.8/24.9 MB 1.7 MB/s eta 0:00:14\n",
      "     --- ------------------------------------ 2.0/24.9 MB 1.7 MB/s eta 0:00:14\n",
      "     --- ------------------------------------ 2.0/24.9 MB 1.7 MB/s eta 0:00:14\n",
      "     --- ------------------------------------ 2.2/24.9 MB 1.8 MB/s eta 0:00:13\n",
      "     --- ------------------------------------ 2.4/24.9 MB 1.8 MB/s eta 0:00:13\n",
      "     --- ------------------------------------ 2.4/24.9 MB 1.8 MB/s eta 0:00:13\n",
      "     ---- ----------------------------------- 2.5/24.9 MB 1.8 MB/s eta 0:00:13\n",
      "     ---- ----------------------------------- 2.7/24.9 MB 1.8 MB/s eta 0:00:13\n",
      "     ---- ----------------------------------- 2.8/24.9 MB 1.9 MB/s eta 0:00:12\n",
      "     ---- ----------------------------------- 2.8/24.9 MB 1.9 MB/s eta 0:00:12\n",
      "     ---- ----------------------------------- 3.1/24.9 MB 1.9 MB/s eta 0:00:12\n",
      "     ----- ---------------------------------- 3.2/24.9 MB 2.0 MB/s eta 0:00:12\n",
      "     ----- ---------------------------------- 3.3/24.9 MB 2.0 MB/s eta 0:00:12\n",
      "     ----- ---------------------------------- 3.4/24.9 MB 2.0 MB/s eta 0:00:11\n",
      "     ----- ---------------------------------- 3.5/24.9 MB 2.0 MB/s eta 0:00:11\n",
      "     ----- ---------------------------------- 3.7/24.9 MB 2.1 MB/s eta 0:00:11\n",
      "     ------ --------------------------------- 3.8/24.9 MB 2.1 MB/s eta 0:00:11\n",
      "     ------ --------------------------------- 4.0/24.9 MB 2.1 MB/s eta 0:00:11\n",
      "     ------ --------------------------------- 4.1/24.9 MB 2.1 MB/s eta 0:00:10\n",
      "     ------ --------------------------------- 4.3/24.9 MB 2.1 MB/s eta 0:00:10\n",
      "     ------- -------------------------------- 4.4/24.9 MB 2.2 MB/s eta 0:00:10\n",
      "     ------- -------------------------------- 4.5/24.9 MB 2.2 MB/s eta 0:00:10\n",
      "     ------- -------------------------------- 4.6/24.9 MB 2.2 MB/s eta 0:00:10\n",
      "     ------- -------------------------------- 4.7/24.9 MB 2.2 MB/s eta 0:00:10\n",
      "     ------- -------------------------------- 4.9/24.9 MB 2.2 MB/s eta 0:00:10\n",
      "     -------- ------------------------------- 5.0/24.9 MB 2.2 MB/s eta 0:00:10\n",
      "     -------- ------------------------------- 5.1/24.9 MB 2.2 MB/s eta 0:00:09\n",
      "     -------- ------------------------------- 5.2/24.9 MB 2.2 MB/s eta 0:00:09\n",
      "     -------- ------------------------------- 5.4/24.9 MB 2.2 MB/s eta 0:00:09\n",
      "     -------- ------------------------------- 5.5/24.9 MB 2.2 MB/s eta 0:00:09\n",
      "     -------- ------------------------------- 5.6/24.9 MB 2.2 MB/s eta 0:00:09\n",
      "     --------- ------------------------------ 5.6/24.9 MB 2.2 MB/s eta 0:00:09\n",
      "     --------- ------------------------------ 5.8/24.9 MB 2.2 MB/s eta 0:00:09\n",
      "     --------- ------------------------------ 5.9/24.9 MB 2.2 MB/s eta 0:00:09\n",
      "     --------- ------------------------------ 6.0/24.9 MB 2.2 MB/s eta 0:00:09\n",
      "     --------- ------------------------------ 6.1/24.9 MB 2.2 MB/s eta 0:00:09\n",
      "     ---------- ----------------------------- 6.2/24.9 MB 2.2 MB/s eta 0:00:09\n",
      "     ---------- ----------------------------- 6.3/24.9 MB 2.2 MB/s eta 0:00:09\n",
      "     ---------- ----------------------------- 6.4/24.9 MB 2.2 MB/s eta 0:00:09\n",
      "     ---------- ----------------------------- 6.5/24.9 MB 2.2 MB/s eta 0:00:09\n",
      "     ---------- ----------------------------- 6.6/24.9 MB 2.2 MB/s eta 0:00:09\n",
      "     ---------- ----------------------------- 6.7/24.9 MB 2.2 MB/s eta 0:00:09\n",
      "     ---------- ----------------------------- 6.8/24.9 MB 2.2 MB/s eta 0:00:09\n",
      "     ----------- ---------------------------- 7.0/24.9 MB 2.2 MB/s eta 0:00:09\n",
      "     ----------- ---------------------------- 7.0/24.9 MB 2.2 MB/s eta 0:00:09\n",
      "     ----------- ---------------------------- 7.1/24.9 MB 2.2 MB/s eta 0:00:08\n",
      "     ----------- ---------------------------- 7.2/24.9 MB 2.2 MB/s eta 0:00:08\n",
      "     ----------- ---------------------------- 7.2/24.9 MB 2.2 MB/s eta 0:00:08\n",
      "     ----------- ---------------------------- 7.4/24.9 MB 2.2 MB/s eta 0:00:08\n",
      "     ----------- ---------------------------- 7.4/24.9 MB 2.2 MB/s eta 0:00:08\n",
      "     ----------- ---------------------------- 7.4/24.9 MB 2.2 MB/s eta 0:00:08\n",
      "     ------------ --------------------------- 7.6/24.9 MB 2.2 MB/s eta 0:00:08\n",
      "     ------------ --------------------------- 7.6/24.9 MB 2.2 MB/s eta 0:00:08\n",
      "     ------------ --------------------------- 7.7/24.9 MB 2.2 MB/s eta 0:00:08\n",
      "     ------------ --------------------------- 7.8/24.9 MB 2.2 MB/s eta 0:00:08\n",
      "     ------------ --------------------------- 7.9/24.9 MB 2.2 MB/s eta 0:00:08\n",
      "     ------------ --------------------------- 8.0/24.9 MB 2.2 MB/s eta 0:00:08\n",
      "     ------------ --------------------------- 8.1/24.9 MB 2.1 MB/s eta 0:00:08\n",
      "     ------------- -------------------------- 8.1/24.9 MB 2.1 MB/s eta 0:00:08\n",
      "     ------------- -------------------------- 8.2/24.9 MB 2.1 MB/s eta 0:00:08\n",
      "     ------------- -------------------------- 8.3/24.9 MB 2.1 MB/s eta 0:00:08\n",
      "     ------------- -------------------------- 8.3/24.9 MB 2.1 MB/s eta 0:00:08\n",
      "     ------------- -------------------------- 8.4/24.9 MB 2.1 MB/s eta 0:00:08\n",
      "     ------------- -------------------------- 8.5/24.9 MB 2.1 MB/s eta 0:00:08\n",
      "     ------------- -------------------------- 8.5/24.9 MB 2.1 MB/s eta 0:00:08\n",
      "     ------------- -------------------------- 8.6/24.9 MB 2.1 MB/s eta 0:00:08\n",
      "     ------------- -------------------------- 8.6/24.9 MB 2.1 MB/s eta 0:00:08\n",
      "     ------------- -------------------------- 8.7/24.9 MB 2.1 MB/s eta 0:00:08\n",
      "     -------------- ------------------------- 8.7/24.9 MB 2.1 MB/s eta 0:00:08\n",
      "     -------------- ------------------------- 8.8/24.9 MB 2.0 MB/s eta 0:00:08\n",
      "     -------------- ------------------------- 8.9/24.9 MB 2.0 MB/s eta 0:00:08\n",
      "     -------------- ------------------------- 8.9/24.9 MB 2.0 MB/s eta 0:00:08\n",
      "     -------------- ------------------------- 9.0/24.9 MB 2.0 MB/s eta 0:00:08\n",
      "     -------------- ------------------------- 9.1/24.9 MB 2.0 MB/s eta 0:00:08\n",
      "     -------------- ------------------------- 9.1/24.9 MB 2.0 MB/s eta 0:00:08\n",
      "     -------------- ------------------------- 9.2/24.9 MB 2.0 MB/s eta 0:00:08\n",
      "     -------------- ------------------------- 9.2/24.9 MB 2.0 MB/s eta 0:00:08\n",
      "     -------------- ------------------------- 9.3/24.9 MB 2.0 MB/s eta 0:00:08\n",
      "     -------------- ------------------------- 9.3/24.9 MB 2.0 MB/s eta 0:00:08\n",
      "     --------------- ------------------------ 9.4/24.9 MB 2.0 MB/s eta 0:00:08\n",
      "     --------------- ------------------------ 9.4/24.9 MB 2.0 MB/s eta 0:00:08\n",
      "     --------------- ------------------------ 9.5/24.9 MB 1.9 MB/s eta 0:00:08\n",
      "     --------------- ------------------------ 9.5/24.9 MB 1.9 MB/s eta 0:00:08\n",
      "     --------------- ------------------------ 9.5/24.9 MB 1.9 MB/s eta 0:00:08\n",
      "     --------------- ------------------------ 9.6/24.9 MB 1.9 MB/s eta 0:00:08\n",
      "     --------------- ------------------------ 9.7/24.9 MB 1.9 MB/s eta 0:00:08\n",
      "     --------------- ------------------------ 9.7/24.9 MB 1.9 MB/s eta 0:00:08\n",
      "     --------------- ------------------------ 9.8/24.9 MB 1.9 MB/s eta 0:00:08\n",
      "     --------------- ------------------------ 9.9/24.9 MB 1.9 MB/s eta 0:00:08\n",
      "     --------------- ------------------------ 9.9/24.9 MB 1.9 MB/s eta 0:00:08\n",
      "     ---------------- ----------------------- 10.0/24.9 MB 1.9 MB/s eta 0:00:08\n",
      "     ---------------- ----------------------- 10.1/24.9 MB 1.9 MB/s eta 0:00:08\n",
      "     ---------------- ----------------------- 10.2/24.9 MB 1.9 MB/s eta 0:00:08\n",
      "     ---------------- ----------------------- 10.3/24.9 MB 1.9 MB/s eta 0:00:08\n",
      "     ---------------- ----------------------- 10.4/24.9 MB 1.9 MB/s eta 0:00:08\n",
      "     ---------------- ----------------------- 10.5/24.9 MB 1.9 MB/s eta 0:00:08\n",
      "     ----------------- ---------------------- 10.6/24.9 MB 1.9 MB/s eta 0:00:08\n",
      "     ----------------- ---------------------- 10.7/24.9 MB 1.9 MB/s eta 0:00:08\n",
      "     ----------------- ---------------------- 10.8/24.9 MB 1.9 MB/s eta 0:00:08\n",
      "     ----------------- ---------------------- 11.0/24.9 MB 2.0 MB/s eta 0:00:08\n",
      "     ----------------- ---------------------- 11.2/24.9 MB 2.0 MB/s eta 0:00:08\n",
      "     ------------------ --------------------- 11.3/24.9 MB 2.0 MB/s eta 0:00:07\n",
      "     ------------------ --------------------- 11.4/24.9 MB 2.0 MB/s eta 0:00:07\n",
      "     ------------------ --------------------- 11.6/24.9 MB 2.0 MB/s eta 0:00:07\n",
      "     ------------------ --------------------- 11.7/24.9 MB 2.0 MB/s eta 0:00:07\n",
      "     ------------------- -------------------- 11.8/24.9 MB 2.0 MB/s eta 0:00:07\n",
      "     ------------------- -------------------- 11.9/24.9 MB 2.1 MB/s eta 0:00:07\n",
      "     ------------------- -------------------- 12.1/24.9 MB 2.1 MB/s eta 0:00:07\n",
      "     ------------------- -------------------- 12.2/24.9 MB 2.1 MB/s eta 0:00:07\n",
      "     ------------------- -------------------- 12.3/24.9 MB 2.1 MB/s eta 0:00:07\n",
      "     ------------------- -------------------- 12.4/24.9 MB 2.1 MB/s eta 0:00:07\n",
      "     -------------------- ------------------- 12.5/24.9 MB 2.1 MB/s eta 0:00:06\n",
      "     -------------------- ------------------- 12.7/24.9 MB 2.1 MB/s eta 0:00:06\n",
      "     -------------------- ------------------- 12.8/24.9 MB 2.1 MB/s eta 0:00:06\n",
      "     -------------------- ------------------- 12.9/24.9 MB 2.1 MB/s eta 0:00:06\n",
      "     -------------------- ------------------- 13.1/24.9 MB 2.1 MB/s eta 0:00:06\n",
      "     --------------------- ------------------ 13.1/24.9 MB 2.1 MB/s eta 0:00:06\n",
      "     --------------------- ------------------ 13.3/24.9 MB 2.1 MB/s eta 0:00:06\n",
      "     --------------------- ------------------ 13.4/24.9 MB 2.1 MB/s eta 0:00:06\n",
      "     --------------------- ------------------ 13.6/24.9 MB 2.1 MB/s eta 0:00:06\n",
      "     --------------------- ------------------ 13.6/24.9 MB 2.1 MB/s eta 0:00:06\n",
      "     ---------------------- ----------------- 13.8/24.9 MB 2.1 MB/s eta 0:00:06\n",
      "     ---------------------- ----------------- 13.9/24.9 MB 2.1 MB/s eta 0:00:06\n",
      "     ---------------------- ----------------- 14.0/24.9 MB 2.1 MB/s eta 0:00:06\n",
      "     ---------------------- ----------------- 14.2/24.9 MB 2.1 MB/s eta 0:00:06\n",
      "     ----------------------- ---------------- 14.3/24.9 MB 2.1 MB/s eta 0:00:06\n",
      "     ----------------------- ---------------- 14.4/24.9 MB 2.1 MB/s eta 0:00:06\n",
      "     ----------------------- ---------------- 14.5/24.9 MB 2.1 MB/s eta 0:00:06\n",
      "     ----------------------- ---------------- 14.7/24.9 MB 2.1 MB/s eta 0:00:05\n",
      "     ----------------------- ---------------- 14.8/24.9 MB 2.1 MB/s eta 0:00:05\n",
      "     ------------------------ --------------- 14.9/24.9 MB 2.1 MB/s eta 0:00:05\n",
      "     ------------------------ --------------- 15.1/24.9 MB 2.1 MB/s eta 0:00:05\n",
      "     ------------------------ --------------- 15.2/24.9 MB 2.1 MB/s eta 0:00:05\n",
      "     ------------------------ --------------- 15.3/24.9 MB 2.1 MB/s eta 0:00:05\n",
      "     ------------------------ --------------- 15.5/24.9 MB 2.1 MB/s eta 0:00:05\n",
      "     ------------------------- -------------- 15.6/24.9 MB 2.1 MB/s eta 0:00:05\n",
      "     ------------------------- -------------- 15.7/24.9 MB 2.1 MB/s eta 0:00:05\n",
      "     ------------------------- -------------- 15.8/24.9 MB 2.1 MB/s eta 0:00:05\n",
      "     ------------------------- -------------- 15.9/24.9 MB 2.1 MB/s eta 0:00:05\n",
      "     ------------------------- -------------- 16.2/24.9 MB 2.1 MB/s eta 0:00:05\n",
      "     -------------------------- ------------- 16.3/24.9 MB 2.1 MB/s eta 0:00:05\n",
      "     -------------------------- ------------- 16.4/24.9 MB 2.1 MB/s eta 0:00:05\n",
      "     -------------------------- ------------- 16.5/24.9 MB 2.1 MB/s eta 0:00:04\n",
      "     -------------------------- ------------- 16.6/24.9 MB 2.1 MB/s eta 0:00:04\n",
      "     -------------------------- ------------- 16.7/24.9 MB 2.1 MB/s eta 0:00:04\n",
      "     --------------------------- ------------ 16.9/24.9 MB 2.1 MB/s eta 0:00:04\n",
      "     --------------------------- ------------ 17.0/24.9 MB 2.1 MB/s eta 0:00:04\n",
      "     --------------------------- ------------ 17.1/24.9 MB 2.1 MB/s eta 0:00:04\n",
      "     --------------------------- ------------ 17.2/24.9 MB 2.1 MB/s eta 0:00:04\n",
      "     --------------------------- ------------ 17.4/24.9 MB 2.1 MB/s eta 0:00:04\n",
      "     ---------------------------- ----------- 17.5/24.9 MB 2.1 MB/s eta 0:00:04\n",
      "     ---------------------------- ----------- 17.6/24.9 MB 2.1 MB/s eta 0:00:04\n",
      "     ---------------------------- ----------- 17.6/24.9 MB 2.1 MB/s eta 0:00:04\n",
      "     ---------------------------- ----------- 17.8/24.9 MB 2.2 MB/s eta 0:00:04\n",
      "     ---------------------------- ----------- 17.8/24.9 MB 2.2 MB/s eta 0:00:04\n",
      "     ---------------------------- ----------- 18.0/24.9 MB 2.2 MB/s eta 0:00:04\n",
      "     ----------------------------- ---------- 18.1/24.9 MB 2.2 MB/s eta 0:00:04\n",
      "     ----------------------------- ---------- 18.2/24.9 MB 2.2 MB/s eta 0:00:04\n",
      "     ----------------------------- ---------- 18.3/24.9 MB 2.2 MB/s eta 0:00:03\n",
      "     ----------------------------- ---------- 18.4/24.9 MB 2.2 MB/s eta 0:00:03\n",
      "     ----------------------------- ---------- 18.5/24.9 MB 2.2 MB/s eta 0:00:03\n",
      "     ----------------------------- ---------- 18.6/24.9 MB 2.2 MB/s eta 0:00:03\n",
      "     ------------------------------ --------- 18.7/24.9 MB 2.3 MB/s eta 0:00:03\n",
      "     ------------------------------ --------- 18.9/24.9 MB 2.3 MB/s eta 0:00:03\n",
      "     ------------------------------ --------- 19.0/24.9 MB 2.3 MB/s eta 0:00:03\n",
      "     ------------------------------ --------- 19.1/24.9 MB 2.3 MB/s eta 0:00:03\n",
      "     ------------------------------ --------- 19.2/24.9 MB 2.3 MB/s eta 0:00:03\n",
      "     ------------------------------- -------- 19.3/24.9 MB 2.4 MB/s eta 0:00:03\n",
      "     ------------------------------- -------- 19.4/24.9 MB 2.4 MB/s eta 0:00:03\n",
      "     ------------------------------- -------- 19.5/24.9 MB 2.4 MB/s eta 0:00:03\n",
      "     ------------------------------- -------- 19.6/24.9 MB 2.4 MB/s eta 0:00:03\n",
      "     ------------------------------- -------- 19.7/24.9 MB 2.5 MB/s eta 0:00:03\n",
      "     ------------------------------- -------- 19.8/24.9 MB 2.5 MB/s eta 0:00:03\n",
      "     ------------------------------- -------- 19.8/24.9 MB 2.5 MB/s eta 0:00:03\n",
      "     -------------------------------- ------- 19.9/24.9 MB 2.5 MB/s eta 0:00:02\n",
      "     -------------------------------- ------- 20.1/24.9 MB 2.5 MB/s eta 0:00:02\n",
      "     -------------------------------- ------- 20.1/24.9 MB 2.5 MB/s eta 0:00:02\n",
      "     -------------------------------- ------- 20.3/24.9 MB 2.6 MB/s eta 0:00:02\n",
      "     -------------------------------- ------- 20.3/24.9 MB 2.6 MB/s eta 0:00:02\n",
      "     -------------------------------- ------- 20.5/24.9 MB 2.6 MB/s eta 0:00:02\n",
      "     --------------------------------- ------ 20.6/24.9 MB 2.6 MB/s eta 0:00:02\n",
      "     --------------------------------- ------ 20.7/24.9 MB 2.5 MB/s eta 0:00:02\n",
      "     --------------------------------- ------ 20.9/24.9 MB 2.6 MB/s eta 0:00:02\n",
      "     --------------------------------- ------ 21.0/24.9 MB 2.6 MB/s eta 0:00:02\n",
      "     --------------------------------- ------ 21.0/24.9 MB 2.6 MB/s eta 0:00:02\n",
      "     --------------------------------- ------ 21.1/24.9 MB 2.5 MB/s eta 0:00:02\n",
      "     ---------------------------------- ----- 21.2/24.9 MB 2.5 MB/s eta 0:00:02\n",
      "     ---------------------------------- ----- 21.4/24.9 MB 2.5 MB/s eta 0:00:02\n",
      "     ---------------------------------- ----- 21.4/24.9 MB 2.5 MB/s eta 0:00:02\n",
      "     ---------------------------------- ----- 21.5/24.9 MB 2.5 MB/s eta 0:00:02\n",
      "     ---------------------------------- ----- 21.6/24.9 MB 2.5 MB/s eta 0:00:02\n",
      "     ---------------------------------- ----- 21.6/24.9 MB 2.5 MB/s eta 0:00:02\n",
      "     ---------------------------------- ----- 21.7/24.9 MB 2.5 MB/s eta 0:00:02\n",
      "     ----------------------------------- ---- 21.8/24.9 MB 2.5 MB/s eta 0:00:02\n",
      "     ----------------------------------- ---- 21.9/24.9 MB 2.4 MB/s eta 0:00:02\n",
      "     ----------------------------------- ---- 22.0/24.9 MB 2.4 MB/s eta 0:00:02\n",
      "     ----------------------------------- ---- 22.1/24.9 MB 2.4 MB/s eta 0:00:02\n",
      "     ----------------------------------- ---- 22.2/24.9 MB 2.4 MB/s eta 0:00:02\n",
      "     ----------------------------------- ---- 22.3/24.9 MB 2.4 MB/s eta 0:00:02\n",
      "     ----------------------------------- ---- 22.4/24.9 MB 2.4 MB/s eta 0:00:02\n",
      "     ------------------------------------ --- 22.4/24.9 MB 2.4 MB/s eta 0:00:02\n",
      "     ------------------------------------ --- 22.5/24.9 MB 2.4 MB/s eta 0:00:01\n",
      "     ------------------------------------ --- 22.6/24.9 MB 2.4 MB/s eta 0:00:01\n",
      "     ------------------------------------ --- 22.7/24.9 MB 2.4 MB/s eta 0:00:01\n",
      "     ------------------------------------ --- 22.8/24.9 MB 2.4 MB/s eta 0:00:01\n",
      "     ------------------------------------ --- 22.8/24.9 MB 2.4 MB/s eta 0:00:01\n",
      "     ------------------------------------ --- 22.9/24.9 MB 2.3 MB/s eta 0:00:01\n",
      "     ------------------------------------ --- 23.0/24.9 MB 2.3 MB/s eta 0:00:01\n",
      "     ------------------------------------- -- 23.0/24.9 MB 2.3 MB/s eta 0:00:01\n",
      "     ------------------------------------- -- 23.1/24.9 MB 2.3 MB/s eta 0:00:01\n",
      "     ------------------------------------- -- 23.2/24.9 MB 2.3 MB/s eta 0:00:01\n",
      "     ------------------------------------- -- 23.2/24.9 MB 2.3 MB/s eta 0:00:01\n",
      "     ------------------------------------- -- 23.3/24.9 MB 2.3 MB/s eta 0:00:01\n",
      "     ------------------------------------- -- 23.4/24.9 MB 2.3 MB/s eta 0:00:01\n",
      "     ------------------------------------- -- 23.5/24.9 MB 2.3 MB/s eta 0:00:01\n",
      "     ------------------------------------- -- 23.5/24.9 MB 2.2 MB/s eta 0:00:01\n",
      "     ------------------------------------- -- 23.6/24.9 MB 2.2 MB/s eta 0:00:01\n",
      "     -------------------------------------- - 23.7/24.9 MB 2.2 MB/s eta 0:00:01\n",
      "     -------------------------------------- - 23.7/24.9 MB 2.2 MB/s eta 0:00:01\n",
      "     -------------------------------------- - 23.8/24.9 MB 2.2 MB/s eta 0:00:01\n",
      "     -------------------------------------- - 23.9/24.9 MB 2.2 MB/s eta 0:00:01\n",
      "     -------------------------------------- - 24.0/24.9 MB 2.2 MB/s eta 0:00:01\n",
      "     -------------------------------------- - 24.1/24.9 MB 2.2 MB/s eta 0:00:01\n",
      "     -------------------------------------- - 24.2/24.9 MB 2.2 MB/s eta 0:00:01\n",
      "     -------------------------------------- - 24.3/24.9 MB 2.2 MB/s eta 0:00:01\n",
      "     ---------------------------------------  24.4/24.9 MB 2.2 MB/s eta 0:00:01\n",
      "     ---------------------------------------  24.5/24.9 MB 2.2 MB/s eta 0:00:01\n",
      "     ---------------------------------------  24.6/24.9 MB 2.2 MB/s eta 0:00:01\n",
      "     ---------------------------------------  24.7/24.9 MB 2.2 MB/s eta 0:00:01\n",
      "     ---------------------------------------  24.8/24.9 MB 2.2 MB/s eta 0:00:01\n",
      "     ---------------------------------------  24.9/24.9 MB 2.2 MB/s eta 0:00:01\n",
      "     ---------------------------------------  24.9/24.9 MB 2.2 MB/s eta 0:00:01\n",
      "     ---------------------------------------- 24.9/24.9 MB 2.1 MB/s eta 0:00:00\n",
      "Building wheels for collected packages: sgmllib3k\n",
      "  Building wheel for sgmllib3k (pyproject.toml): started\n",
      "  Building wheel for sgmllib3k (pyproject.toml): finished with status 'done'\n",
      "  Created wheel for sgmllib3k: filename=sgmllib3k-1.0.0-py3-none-any.whl size=6060 sha256=25e4eb0544faf5aab60dce67ed10ce119fe2c3eaa12509b73223baccd6c017fa\n",
      "  Stored in directory: c:\\users\\yajun\\appdata\\local\\pip\\cache\\wheels\\4f\\48\\8e\\790492080c5e85ff08704e66c6e1cc9bd96ac391bb890426bf\n",
      "Successfully built sgmllib3k\n",
      "Installing collected packages: sgmllib3k, PyMuPDFb, feedparser, pymupdf, arxiv\n",
      "Successfully installed PyMuPDFb-1.24.0 arxiv-2.1.0 feedparser-6.0.10 pymupdf-1.24.0 sgmllib3k-1.0.0\n"
     ]
    }
   ],
   "source": [
    "!pip install arxiv pymupdf"
   ]
  },
  {
   "cell_type": "code",
   "execution_count": 7,
   "id": "7aa097cc412e7319",
   "metadata": {
    "collapsed": false,
    "is_executing": true
   },
   "outputs": [],
   "source": [
    "from langchain.document_loaders import ArxivLoader"
   ]
  },
  {
   "cell_type": "code",
   "execution_count": 8,
   "id": "f351e154d96de548",
   "metadata": {
    "collapsed": false,
    "is_executing": true
   },
   "outputs": [],
   "source": [
    "query = \"2005.14165\""
   ]
  },
  {
   "cell_type": "code",
   "execution_count": 9,
   "id": "cc71c4c160e21ce9",
   "metadata": {
    "collapsed": false,
    "is_executing": true
   },
   "outputs": [
    {
     "ename": "URLError",
     "evalue": "<urlopen error [SSL: CERTIFICATE_VERIFY_FAILED] certificate verify failed: unable to get local issuer certificate (_ssl.c:1000)>",
     "output_type": "error",
     "traceback": [
      "\u001B[1;31m---------------------------------------------------------------------------\u001B[0m",
      "\u001B[1;31mSSLCertVerificationError\u001B[0m                  Traceback (most recent call last)",
      "File \u001B[1;32mD:\\soft\\Python312\\Lib\\urllib\\request.py:1344\u001B[0m, in \u001B[0;36mAbstractHTTPHandler.do_open\u001B[1;34m(self, http_class, req, **http_conn_args)\u001B[0m\n\u001B[0;32m   1343\u001B[0m \u001B[38;5;28;01mtry\u001B[39;00m:\n\u001B[1;32m-> 1344\u001B[0m     \u001B[43mh\u001B[49m\u001B[38;5;241;43m.\u001B[39;49m\u001B[43mrequest\u001B[49m\u001B[43m(\u001B[49m\u001B[43mreq\u001B[49m\u001B[38;5;241;43m.\u001B[39;49m\u001B[43mget_method\u001B[49m\u001B[43m(\u001B[49m\u001B[43m)\u001B[49m\u001B[43m,\u001B[49m\u001B[43m \u001B[49m\u001B[43mreq\u001B[49m\u001B[38;5;241;43m.\u001B[39;49m\u001B[43mselector\u001B[49m\u001B[43m,\u001B[49m\u001B[43m \u001B[49m\u001B[43mreq\u001B[49m\u001B[38;5;241;43m.\u001B[39;49m\u001B[43mdata\u001B[49m\u001B[43m,\u001B[49m\u001B[43m \u001B[49m\u001B[43mheaders\u001B[49m\u001B[43m,\u001B[49m\n\u001B[0;32m   1345\u001B[0m \u001B[43m              \u001B[49m\u001B[43mencode_chunked\u001B[49m\u001B[38;5;241;43m=\u001B[39;49m\u001B[43mreq\u001B[49m\u001B[38;5;241;43m.\u001B[39;49m\u001B[43mhas_header\u001B[49m\u001B[43m(\u001B[49m\u001B[38;5;124;43m'\u001B[39;49m\u001B[38;5;124;43mTransfer-encoding\u001B[39;49m\u001B[38;5;124;43m'\u001B[39;49m\u001B[43m)\u001B[49m\u001B[43m)\u001B[49m\n\u001B[0;32m   1346\u001B[0m \u001B[38;5;28;01mexcept\u001B[39;00m \u001B[38;5;167;01mOSError\u001B[39;00m \u001B[38;5;28;01mas\u001B[39;00m err: \u001B[38;5;66;03m# timeout error\u001B[39;00m\n",
      "File \u001B[1;32mD:\\soft\\Python312\\Lib\\http\\client.py:1331\u001B[0m, in \u001B[0;36mHTTPConnection.request\u001B[1;34m(self, method, url, body, headers, encode_chunked)\u001B[0m\n\u001B[0;32m   1330\u001B[0m \u001B[38;5;250m\u001B[39m\u001B[38;5;124;03m\"\"\"Send a complete request to the server.\"\"\"\u001B[39;00m\n\u001B[1;32m-> 1331\u001B[0m \u001B[38;5;28;43mself\u001B[39;49m\u001B[38;5;241;43m.\u001B[39;49m\u001B[43m_send_request\u001B[49m\u001B[43m(\u001B[49m\u001B[43mmethod\u001B[49m\u001B[43m,\u001B[49m\u001B[43m \u001B[49m\u001B[43murl\u001B[49m\u001B[43m,\u001B[49m\u001B[43m \u001B[49m\u001B[43mbody\u001B[49m\u001B[43m,\u001B[49m\u001B[43m \u001B[49m\u001B[43mheaders\u001B[49m\u001B[43m,\u001B[49m\u001B[43m \u001B[49m\u001B[43mencode_chunked\u001B[49m\u001B[43m)\u001B[49m\n",
      "File \u001B[1;32mD:\\soft\\Python312\\Lib\\http\\client.py:1377\u001B[0m, in \u001B[0;36mHTTPConnection._send_request\u001B[1;34m(self, method, url, body, headers, encode_chunked)\u001B[0m\n\u001B[0;32m   1376\u001B[0m     body \u001B[38;5;241m=\u001B[39m _encode(body, \u001B[38;5;124m'\u001B[39m\u001B[38;5;124mbody\u001B[39m\u001B[38;5;124m'\u001B[39m)\n\u001B[1;32m-> 1377\u001B[0m \u001B[38;5;28;43mself\u001B[39;49m\u001B[38;5;241;43m.\u001B[39;49m\u001B[43mendheaders\u001B[49m\u001B[43m(\u001B[49m\u001B[43mbody\u001B[49m\u001B[43m,\u001B[49m\u001B[43m \u001B[49m\u001B[43mencode_chunked\u001B[49m\u001B[38;5;241;43m=\u001B[39;49m\u001B[43mencode_chunked\u001B[49m\u001B[43m)\u001B[49m\n",
      "File \u001B[1;32mD:\\soft\\Python312\\Lib\\http\\client.py:1326\u001B[0m, in \u001B[0;36mHTTPConnection.endheaders\u001B[1;34m(self, message_body, encode_chunked)\u001B[0m\n\u001B[0;32m   1325\u001B[0m     \u001B[38;5;28;01mraise\u001B[39;00m CannotSendHeader()\n\u001B[1;32m-> 1326\u001B[0m \u001B[38;5;28;43mself\u001B[39;49m\u001B[38;5;241;43m.\u001B[39;49m\u001B[43m_send_output\u001B[49m\u001B[43m(\u001B[49m\u001B[43mmessage_body\u001B[49m\u001B[43m,\u001B[49m\u001B[43m \u001B[49m\u001B[43mencode_chunked\u001B[49m\u001B[38;5;241;43m=\u001B[39;49m\u001B[43mencode_chunked\u001B[49m\u001B[43m)\u001B[49m\n",
      "File \u001B[1;32mD:\\soft\\Python312\\Lib\\http\\client.py:1085\u001B[0m, in \u001B[0;36mHTTPConnection._send_output\u001B[1;34m(self, message_body, encode_chunked)\u001B[0m\n\u001B[0;32m   1084\u001B[0m \u001B[38;5;28;01mdel\u001B[39;00m \u001B[38;5;28mself\u001B[39m\u001B[38;5;241m.\u001B[39m_buffer[:]\n\u001B[1;32m-> 1085\u001B[0m \u001B[38;5;28;43mself\u001B[39;49m\u001B[38;5;241;43m.\u001B[39;49m\u001B[43msend\u001B[49m\u001B[43m(\u001B[49m\u001B[43mmsg\u001B[49m\u001B[43m)\u001B[49m\n\u001B[0;32m   1087\u001B[0m \u001B[38;5;28;01mif\u001B[39;00m message_body \u001B[38;5;129;01mis\u001B[39;00m \u001B[38;5;129;01mnot\u001B[39;00m \u001B[38;5;28;01mNone\u001B[39;00m:\n\u001B[0;32m   1088\u001B[0m \n\u001B[0;32m   1089\u001B[0m     \u001B[38;5;66;03m# create a consistent interface to message_body\u001B[39;00m\n",
      "File \u001B[1;32mD:\\soft\\Python312\\Lib\\http\\client.py:1029\u001B[0m, in \u001B[0;36mHTTPConnection.send\u001B[1;34m(self, data)\u001B[0m\n\u001B[0;32m   1028\u001B[0m \u001B[38;5;28;01mif\u001B[39;00m \u001B[38;5;28mself\u001B[39m\u001B[38;5;241m.\u001B[39mauto_open:\n\u001B[1;32m-> 1029\u001B[0m     \u001B[38;5;28;43mself\u001B[39;49m\u001B[38;5;241;43m.\u001B[39;49m\u001B[43mconnect\u001B[49m\u001B[43m(\u001B[49m\u001B[43m)\u001B[49m\n\u001B[0;32m   1030\u001B[0m \u001B[38;5;28;01melse\u001B[39;00m:\n",
      "File \u001B[1;32mD:\\soft\\Python312\\Lib\\http\\client.py:1472\u001B[0m, in \u001B[0;36mHTTPSConnection.connect\u001B[1;34m(self)\u001B[0m\n\u001B[0;32m   1470\u001B[0m     server_hostname \u001B[38;5;241m=\u001B[39m \u001B[38;5;28mself\u001B[39m\u001B[38;5;241m.\u001B[39mhost\n\u001B[1;32m-> 1472\u001B[0m \u001B[38;5;28mself\u001B[39m\u001B[38;5;241m.\u001B[39msock \u001B[38;5;241m=\u001B[39m \u001B[38;5;28;43mself\u001B[39;49m\u001B[38;5;241;43m.\u001B[39;49m\u001B[43m_context\u001B[49m\u001B[38;5;241;43m.\u001B[39;49m\u001B[43mwrap_socket\u001B[49m\u001B[43m(\u001B[49m\u001B[38;5;28;43mself\u001B[39;49m\u001B[38;5;241;43m.\u001B[39;49m\u001B[43msock\u001B[49m\u001B[43m,\u001B[49m\n\u001B[0;32m   1473\u001B[0m \u001B[43m                                      \u001B[49m\u001B[43mserver_hostname\u001B[49m\u001B[38;5;241;43m=\u001B[39;49m\u001B[43mserver_hostname\u001B[49m\u001B[43m)\u001B[49m\n",
      "File \u001B[1;32mD:\\soft\\Python312\\Lib\\ssl.py:455\u001B[0m, in \u001B[0;36mSSLContext.wrap_socket\u001B[1;34m(self, sock, server_side, do_handshake_on_connect, suppress_ragged_eofs, server_hostname, session)\u001B[0m\n\u001B[0;32m    449\u001B[0m \u001B[38;5;28;01mdef\u001B[39;00m \u001B[38;5;21mwrap_socket\u001B[39m(\u001B[38;5;28mself\u001B[39m, sock, server_side\u001B[38;5;241m=\u001B[39m\u001B[38;5;28;01mFalse\u001B[39;00m,\n\u001B[0;32m    450\u001B[0m                 do_handshake_on_connect\u001B[38;5;241m=\u001B[39m\u001B[38;5;28;01mTrue\u001B[39;00m,\n\u001B[0;32m    451\u001B[0m                 suppress_ragged_eofs\u001B[38;5;241m=\u001B[39m\u001B[38;5;28;01mTrue\u001B[39;00m,\n\u001B[0;32m    452\u001B[0m                 server_hostname\u001B[38;5;241m=\u001B[39m\u001B[38;5;28;01mNone\u001B[39;00m, session\u001B[38;5;241m=\u001B[39m\u001B[38;5;28;01mNone\u001B[39;00m):\n\u001B[0;32m    453\u001B[0m     \u001B[38;5;66;03m# SSLSocket class handles server_hostname encoding before it calls\u001B[39;00m\n\u001B[0;32m    454\u001B[0m     \u001B[38;5;66;03m# ctx._wrap_socket()\u001B[39;00m\n\u001B[1;32m--> 455\u001B[0m     \u001B[38;5;28;01mreturn\u001B[39;00m \u001B[38;5;28;43mself\u001B[39;49m\u001B[38;5;241;43m.\u001B[39;49m\u001B[43msslsocket_class\u001B[49m\u001B[38;5;241;43m.\u001B[39;49m\u001B[43m_create\u001B[49m\u001B[43m(\u001B[49m\n\u001B[0;32m    456\u001B[0m \u001B[43m        \u001B[49m\u001B[43msock\u001B[49m\u001B[38;5;241;43m=\u001B[39;49m\u001B[43msock\u001B[49m\u001B[43m,\u001B[49m\n\u001B[0;32m    457\u001B[0m \u001B[43m        \u001B[49m\u001B[43mserver_side\u001B[49m\u001B[38;5;241;43m=\u001B[39;49m\u001B[43mserver_side\u001B[49m\u001B[43m,\u001B[49m\n\u001B[0;32m    458\u001B[0m \u001B[43m        \u001B[49m\u001B[43mdo_handshake_on_connect\u001B[49m\u001B[38;5;241;43m=\u001B[39;49m\u001B[43mdo_handshake_on_connect\u001B[49m\u001B[43m,\u001B[49m\n\u001B[0;32m    459\u001B[0m \u001B[43m        \u001B[49m\u001B[43msuppress_ragged_eofs\u001B[49m\u001B[38;5;241;43m=\u001B[39;49m\u001B[43msuppress_ragged_eofs\u001B[49m\u001B[43m,\u001B[49m\n\u001B[0;32m    460\u001B[0m \u001B[43m        \u001B[49m\u001B[43mserver_hostname\u001B[49m\u001B[38;5;241;43m=\u001B[39;49m\u001B[43mserver_hostname\u001B[49m\u001B[43m,\u001B[49m\n\u001B[0;32m    461\u001B[0m \u001B[43m        \u001B[49m\u001B[43mcontext\u001B[49m\u001B[38;5;241;43m=\u001B[39;49m\u001B[38;5;28;43mself\u001B[39;49m\u001B[43m,\u001B[49m\n\u001B[0;32m    462\u001B[0m \u001B[43m        \u001B[49m\u001B[43msession\u001B[49m\u001B[38;5;241;43m=\u001B[39;49m\u001B[43msession\u001B[49m\n\u001B[0;32m    463\u001B[0m \u001B[43m    \u001B[49m\u001B[43m)\u001B[49m\n",
      "File \u001B[1;32mD:\\soft\\Python312\\Lib\\ssl.py:1042\u001B[0m, in \u001B[0;36mSSLSocket._create\u001B[1;34m(cls, sock, server_side, do_handshake_on_connect, suppress_ragged_eofs, server_hostname, context, session)\u001B[0m\n\u001B[0;32m   1041\u001B[0m                 \u001B[38;5;28;01mraise\u001B[39;00m \u001B[38;5;167;01mValueError\u001B[39;00m(\u001B[38;5;124m\"\u001B[39m\u001B[38;5;124mdo_handshake_on_connect should not be specified for non-blocking sockets\u001B[39m\u001B[38;5;124m\"\u001B[39m)\n\u001B[1;32m-> 1042\u001B[0m             \u001B[38;5;28;43mself\u001B[39;49m\u001B[38;5;241;43m.\u001B[39;49m\u001B[43mdo_handshake\u001B[49m\u001B[43m(\u001B[49m\u001B[43m)\u001B[49m\n\u001B[0;32m   1043\u001B[0m \u001B[38;5;28;01mexcept\u001B[39;00m:\n",
      "File \u001B[1;32mD:\\soft\\Python312\\Lib\\ssl.py:1320\u001B[0m, in \u001B[0;36mSSLSocket.do_handshake\u001B[1;34m(self, block)\u001B[0m\n\u001B[0;32m   1319\u001B[0m         \u001B[38;5;28mself\u001B[39m\u001B[38;5;241m.\u001B[39msettimeout(\u001B[38;5;28;01mNone\u001B[39;00m)\n\u001B[1;32m-> 1320\u001B[0m     \u001B[38;5;28;43mself\u001B[39;49m\u001B[38;5;241;43m.\u001B[39;49m\u001B[43m_sslobj\u001B[49m\u001B[38;5;241;43m.\u001B[39;49m\u001B[43mdo_handshake\u001B[49m\u001B[43m(\u001B[49m\u001B[43m)\u001B[49m\n\u001B[0;32m   1321\u001B[0m \u001B[38;5;28;01mfinally\u001B[39;00m:\n",
      "\u001B[1;31mSSLCertVerificationError\u001B[0m: [SSL: CERTIFICATE_VERIFY_FAILED] certificate verify failed: unable to get local issuer certificate (_ssl.c:1000)",
      "\nDuring handling of the above exception, another exception occurred:\n",
      "\u001B[1;31mURLError\u001B[0m                                  Traceback (most recent call last)",
      "Cell \u001B[1;32mIn[9], line 1\u001B[0m\n\u001B[1;32m----> 1\u001B[0m docs \u001B[38;5;241m=\u001B[39m \u001B[43mArxivLoader\u001B[49m\u001B[43m(\u001B[49m\u001B[43mquery\u001B[49m\u001B[38;5;241;43m=\u001B[39;49m\u001B[43mquery\u001B[49m\u001B[43m,\u001B[49m\u001B[43m \u001B[49m\u001B[43mload_max_docs\u001B[49m\u001B[38;5;241;43m=\u001B[39;49m\u001B[38;5;241;43m5\u001B[39;49m\u001B[43m)\u001B[49m\u001B[38;5;241;43m.\u001B[39;49m\u001B[43mload\u001B[49m\u001B[43m(\u001B[49m\u001B[43m)\u001B[49m\n",
      "File \u001B[1;32mD:\\soft\\Python312\\Lib\\site-packages\\langchain_core\\document_loaders\\base.py:29\u001B[0m, in \u001B[0;36mBaseLoader.load\u001B[1;34m(self)\u001B[0m\n\u001B[0;32m     27\u001B[0m \u001B[38;5;28;01mdef\u001B[39;00m \u001B[38;5;21mload\u001B[39m(\u001B[38;5;28mself\u001B[39m) \u001B[38;5;241m-\u001B[39m\u001B[38;5;241m>\u001B[39m List[Document]:\n\u001B[0;32m     28\u001B[0m \u001B[38;5;250m    \u001B[39m\u001B[38;5;124;03m\"\"\"Load data into Document objects.\"\"\"\u001B[39;00m\n\u001B[1;32m---> 29\u001B[0m     \u001B[38;5;28;01mreturn\u001B[39;00m \u001B[38;5;28;43mlist\u001B[39;49m\u001B[43m(\u001B[49m\u001B[38;5;28;43mself\u001B[39;49m\u001B[38;5;241;43m.\u001B[39;49m\u001B[43mlazy_load\u001B[49m\u001B[43m(\u001B[49m\u001B[43m)\u001B[49m\u001B[43m)\u001B[49m\n",
      "File \u001B[1;32mD:\\soft\\Python312\\Lib\\site-packages\\langchain_community\\document_loaders\\arxiv.py:27\u001B[0m, in \u001B[0;36mArxivLoader.lazy_load\u001B[1;34m(self)\u001B[0m\n\u001B[0;32m     26\u001B[0m \u001B[38;5;28;01mdef\u001B[39;00m \u001B[38;5;21mlazy_load\u001B[39m(\u001B[38;5;28mself\u001B[39m) \u001B[38;5;241m-\u001B[39m\u001B[38;5;241m>\u001B[39m Iterator[Document]:\n\u001B[1;32m---> 27\u001B[0m     \u001B[38;5;28;01myield from\u001B[39;00m \u001B[38;5;28mself\u001B[39m\u001B[38;5;241m.\u001B[39mclient\u001B[38;5;241m.\u001B[39mlazy_load(\u001B[38;5;28mself\u001B[39m\u001B[38;5;241m.\u001B[39mquery)\n",
      "File \u001B[1;32mD:\\soft\\Python312\\Lib\\site-packages\\langchain_community\\utilities\\arxiv.py:222\u001B[0m, in \u001B[0;36mArxivAPIWrapper.lazy_load\u001B[1;34m(self, query)\u001B[0m\n\u001B[0;32m    220\u001B[0m \u001B[38;5;28;01mfor\u001B[39;00m result \u001B[38;5;129;01min\u001B[39;00m results:\n\u001B[0;32m    221\u001B[0m     \u001B[38;5;28;01mtry\u001B[39;00m:\n\u001B[1;32m--> 222\u001B[0m         doc_file_name: \u001B[38;5;28mstr\u001B[39m \u001B[38;5;241m=\u001B[39m \u001B[43mresult\u001B[49m\u001B[38;5;241;43m.\u001B[39;49m\u001B[43mdownload_pdf\u001B[49m\u001B[43m(\u001B[49m\u001B[43m)\u001B[49m\n\u001B[0;32m    223\u001B[0m         \u001B[38;5;28;01mwith\u001B[39;00m fitz\u001B[38;5;241m.\u001B[39mopen(doc_file_name) \u001B[38;5;28;01mas\u001B[39;00m doc_file:\n\u001B[0;32m    224\u001B[0m             text: \u001B[38;5;28mstr\u001B[39m \u001B[38;5;241m=\u001B[39m \u001B[38;5;124m\"\u001B[39m\u001B[38;5;124m\"\u001B[39m\u001B[38;5;241m.\u001B[39mjoin(page\u001B[38;5;241m.\u001B[39mget_text() \u001B[38;5;28;01mfor\u001B[39;00m page \u001B[38;5;129;01min\u001B[39;00m doc_file)\n",
      "File \u001B[1;32mD:\\soft\\Python312\\Lib\\site-packages\\arxiv\\__init__.py:214\u001B[0m, in \u001B[0;36mResult.download_pdf\u001B[1;34m(self, dirpath, filename)\u001B[0m\n\u001B[0;32m    212\u001B[0m     filename \u001B[38;5;241m=\u001B[39m \u001B[38;5;28mself\u001B[39m\u001B[38;5;241m.\u001B[39m_get_default_filename()\n\u001B[0;32m    213\u001B[0m path \u001B[38;5;241m=\u001B[39m os\u001B[38;5;241m.\u001B[39mpath\u001B[38;5;241m.\u001B[39mjoin(dirpath, filename)\n\u001B[1;32m--> 214\u001B[0m written_path, _ \u001B[38;5;241m=\u001B[39m \u001B[43murlretrieve\u001B[49m\u001B[43m(\u001B[49m\u001B[38;5;28;43mself\u001B[39;49m\u001B[38;5;241;43m.\u001B[39;49m\u001B[43mpdf_url\u001B[49m\u001B[43m,\u001B[49m\u001B[43m \u001B[49m\u001B[43mpath\u001B[49m\u001B[43m)\u001B[49m\n\u001B[0;32m    215\u001B[0m \u001B[38;5;28;01mreturn\u001B[39;00m written_path\n",
      "File \u001B[1;32mD:\\soft\\Python312\\Lib\\urllib\\request.py:240\u001B[0m, in \u001B[0;36murlretrieve\u001B[1;34m(url, filename, reporthook, data)\u001B[0m\n\u001B[0;32m    223\u001B[0m \u001B[38;5;250m\u001B[39m\u001B[38;5;124;03m\"\"\"\u001B[39;00m\n\u001B[0;32m    224\u001B[0m \u001B[38;5;124;03mRetrieve a URL into a temporary location on disk.\u001B[39;00m\n\u001B[0;32m    225\u001B[0m \n\u001B[1;32m   (...)\u001B[0m\n\u001B[0;32m    236\u001B[0m \u001B[38;5;124;03mdata file as well as the resulting HTTPMessage object.\u001B[39;00m\n\u001B[0;32m    237\u001B[0m \u001B[38;5;124;03m\"\"\"\u001B[39;00m\n\u001B[0;32m    238\u001B[0m url_type, path \u001B[38;5;241m=\u001B[39m _splittype(url)\n\u001B[1;32m--> 240\u001B[0m \u001B[38;5;28;01mwith\u001B[39;00m contextlib\u001B[38;5;241m.\u001B[39mclosing(\u001B[43murlopen\u001B[49m\u001B[43m(\u001B[49m\u001B[43murl\u001B[49m\u001B[43m,\u001B[49m\u001B[43m \u001B[49m\u001B[43mdata\u001B[49m\u001B[43m)\u001B[49m) \u001B[38;5;28;01mas\u001B[39;00m fp:\n\u001B[0;32m    241\u001B[0m     headers \u001B[38;5;241m=\u001B[39m fp\u001B[38;5;241m.\u001B[39minfo()\n\u001B[0;32m    243\u001B[0m     \u001B[38;5;66;03m# Just return the local path and the \"headers\" for file://\u001B[39;00m\n\u001B[0;32m    244\u001B[0m     \u001B[38;5;66;03m# URLs. No sense in performing a copy unless requested.\u001B[39;00m\n",
      "File \u001B[1;32mD:\\soft\\Python312\\Lib\\urllib\\request.py:215\u001B[0m, in \u001B[0;36murlopen\u001B[1;34m(url, data, timeout, cafile, capath, cadefault, context)\u001B[0m\n\u001B[0;32m    213\u001B[0m \u001B[38;5;28;01melse\u001B[39;00m:\n\u001B[0;32m    214\u001B[0m     opener \u001B[38;5;241m=\u001B[39m _opener\n\u001B[1;32m--> 215\u001B[0m \u001B[38;5;28;01mreturn\u001B[39;00m \u001B[43mopener\u001B[49m\u001B[38;5;241;43m.\u001B[39;49m\u001B[43mopen\u001B[49m\u001B[43m(\u001B[49m\u001B[43murl\u001B[49m\u001B[43m,\u001B[49m\u001B[43m \u001B[49m\u001B[43mdata\u001B[49m\u001B[43m,\u001B[49m\u001B[43m \u001B[49m\u001B[43mtimeout\u001B[49m\u001B[43m)\u001B[49m\n",
      "File \u001B[1;32mD:\\soft\\Python312\\Lib\\urllib\\request.py:521\u001B[0m, in \u001B[0;36mOpenerDirector.open\u001B[1;34m(self, fullurl, data, timeout)\u001B[0m\n\u001B[0;32m    519\u001B[0m \u001B[38;5;28;01mfor\u001B[39;00m processor \u001B[38;5;129;01min\u001B[39;00m \u001B[38;5;28mself\u001B[39m\u001B[38;5;241m.\u001B[39mprocess_response\u001B[38;5;241m.\u001B[39mget(protocol, []):\n\u001B[0;32m    520\u001B[0m     meth \u001B[38;5;241m=\u001B[39m \u001B[38;5;28mgetattr\u001B[39m(processor, meth_name)\n\u001B[1;32m--> 521\u001B[0m     response \u001B[38;5;241m=\u001B[39m \u001B[43mmeth\u001B[49m\u001B[43m(\u001B[49m\u001B[43mreq\u001B[49m\u001B[43m,\u001B[49m\u001B[43m \u001B[49m\u001B[43mresponse\u001B[49m\u001B[43m)\u001B[49m\n\u001B[0;32m    523\u001B[0m \u001B[38;5;28;01mreturn\u001B[39;00m response\n",
      "File \u001B[1;32mD:\\soft\\Python312\\Lib\\urllib\\request.py:630\u001B[0m, in \u001B[0;36mHTTPErrorProcessor.http_response\u001B[1;34m(self, request, response)\u001B[0m\n\u001B[0;32m    627\u001B[0m \u001B[38;5;66;03m# According to RFC 2616, \"2xx\" code indicates that the client's\u001B[39;00m\n\u001B[0;32m    628\u001B[0m \u001B[38;5;66;03m# request was successfully received, understood, and accepted.\u001B[39;00m\n\u001B[0;32m    629\u001B[0m \u001B[38;5;28;01mif\u001B[39;00m \u001B[38;5;129;01mnot\u001B[39;00m (\u001B[38;5;241m200\u001B[39m \u001B[38;5;241m<\u001B[39m\u001B[38;5;241m=\u001B[39m code \u001B[38;5;241m<\u001B[39m \u001B[38;5;241m300\u001B[39m):\n\u001B[1;32m--> 630\u001B[0m     response \u001B[38;5;241m=\u001B[39m \u001B[38;5;28;43mself\u001B[39;49m\u001B[38;5;241;43m.\u001B[39;49m\u001B[43mparent\u001B[49m\u001B[38;5;241;43m.\u001B[39;49m\u001B[43merror\u001B[49m\u001B[43m(\u001B[49m\n\u001B[0;32m    631\u001B[0m \u001B[43m        \u001B[49m\u001B[38;5;124;43m'\u001B[39;49m\u001B[38;5;124;43mhttp\u001B[39;49m\u001B[38;5;124;43m'\u001B[39;49m\u001B[43m,\u001B[49m\u001B[43m \u001B[49m\u001B[43mrequest\u001B[49m\u001B[43m,\u001B[49m\u001B[43m \u001B[49m\u001B[43mresponse\u001B[49m\u001B[43m,\u001B[49m\u001B[43m \u001B[49m\u001B[43mcode\u001B[49m\u001B[43m,\u001B[49m\u001B[43m \u001B[49m\u001B[43mmsg\u001B[49m\u001B[43m,\u001B[49m\u001B[43m \u001B[49m\u001B[43mhdrs\u001B[49m\u001B[43m)\u001B[49m\n\u001B[0;32m    633\u001B[0m \u001B[38;5;28;01mreturn\u001B[39;00m response\n",
      "File \u001B[1;32mD:\\soft\\Python312\\Lib\\urllib\\request.py:553\u001B[0m, in \u001B[0;36mOpenerDirector.error\u001B[1;34m(self, proto, *args)\u001B[0m\n\u001B[0;32m    551\u001B[0m     http_err \u001B[38;5;241m=\u001B[39m \u001B[38;5;241m0\u001B[39m\n\u001B[0;32m    552\u001B[0m args \u001B[38;5;241m=\u001B[39m (\u001B[38;5;28mdict\u001B[39m, proto, meth_name) \u001B[38;5;241m+\u001B[39m args\n\u001B[1;32m--> 553\u001B[0m result \u001B[38;5;241m=\u001B[39m \u001B[38;5;28;43mself\u001B[39;49m\u001B[38;5;241;43m.\u001B[39;49m\u001B[43m_call_chain\u001B[49m\u001B[43m(\u001B[49m\u001B[38;5;241;43m*\u001B[39;49m\u001B[43margs\u001B[49m\u001B[43m)\u001B[49m\n\u001B[0;32m    554\u001B[0m \u001B[38;5;28;01mif\u001B[39;00m result:\n\u001B[0;32m    555\u001B[0m     \u001B[38;5;28;01mreturn\u001B[39;00m result\n",
      "File \u001B[1;32mD:\\soft\\Python312\\Lib\\urllib\\request.py:492\u001B[0m, in \u001B[0;36mOpenerDirector._call_chain\u001B[1;34m(self, chain, kind, meth_name, *args)\u001B[0m\n\u001B[0;32m    490\u001B[0m \u001B[38;5;28;01mfor\u001B[39;00m handler \u001B[38;5;129;01min\u001B[39;00m handlers:\n\u001B[0;32m    491\u001B[0m     func \u001B[38;5;241m=\u001B[39m \u001B[38;5;28mgetattr\u001B[39m(handler, meth_name)\n\u001B[1;32m--> 492\u001B[0m     result \u001B[38;5;241m=\u001B[39m \u001B[43mfunc\u001B[49m\u001B[43m(\u001B[49m\u001B[38;5;241;43m*\u001B[39;49m\u001B[43margs\u001B[49m\u001B[43m)\u001B[49m\n\u001B[0;32m    493\u001B[0m     \u001B[38;5;28;01mif\u001B[39;00m result \u001B[38;5;129;01mis\u001B[39;00m \u001B[38;5;129;01mnot\u001B[39;00m \u001B[38;5;28;01mNone\u001B[39;00m:\n\u001B[0;32m    494\u001B[0m         \u001B[38;5;28;01mreturn\u001B[39;00m result\n",
      "File \u001B[1;32mD:\\soft\\Python312\\Lib\\urllib\\request.py:745\u001B[0m, in \u001B[0;36mHTTPRedirectHandler.http_error_302\u001B[1;34m(self, req, fp, code, msg, headers)\u001B[0m\n\u001B[0;32m    742\u001B[0m fp\u001B[38;5;241m.\u001B[39mread()\n\u001B[0;32m    743\u001B[0m fp\u001B[38;5;241m.\u001B[39mclose()\n\u001B[1;32m--> 745\u001B[0m \u001B[38;5;28;01mreturn\u001B[39;00m \u001B[38;5;28;43mself\u001B[39;49m\u001B[38;5;241;43m.\u001B[39;49m\u001B[43mparent\u001B[49m\u001B[38;5;241;43m.\u001B[39;49m\u001B[43mopen\u001B[49m\u001B[43m(\u001B[49m\u001B[43mnew\u001B[49m\u001B[43m,\u001B[49m\u001B[43m \u001B[49m\u001B[43mtimeout\u001B[49m\u001B[38;5;241;43m=\u001B[39;49m\u001B[43mreq\u001B[49m\u001B[38;5;241;43m.\u001B[39;49m\u001B[43mtimeout\u001B[49m\u001B[43m)\u001B[49m\n",
      "File \u001B[1;32mD:\\soft\\Python312\\Lib\\urllib\\request.py:515\u001B[0m, in \u001B[0;36mOpenerDirector.open\u001B[1;34m(self, fullurl, data, timeout)\u001B[0m\n\u001B[0;32m    512\u001B[0m     req \u001B[38;5;241m=\u001B[39m meth(req)\n\u001B[0;32m    514\u001B[0m sys\u001B[38;5;241m.\u001B[39maudit(\u001B[38;5;124m'\u001B[39m\u001B[38;5;124murllib.Request\u001B[39m\u001B[38;5;124m'\u001B[39m, req\u001B[38;5;241m.\u001B[39mfull_url, req\u001B[38;5;241m.\u001B[39mdata, req\u001B[38;5;241m.\u001B[39mheaders, req\u001B[38;5;241m.\u001B[39mget_method())\n\u001B[1;32m--> 515\u001B[0m response \u001B[38;5;241m=\u001B[39m \u001B[38;5;28;43mself\u001B[39;49m\u001B[38;5;241;43m.\u001B[39;49m\u001B[43m_open\u001B[49m\u001B[43m(\u001B[49m\u001B[43mreq\u001B[49m\u001B[43m,\u001B[49m\u001B[43m \u001B[49m\u001B[43mdata\u001B[49m\u001B[43m)\u001B[49m\n\u001B[0;32m    517\u001B[0m \u001B[38;5;66;03m# post-process response\u001B[39;00m\n\u001B[0;32m    518\u001B[0m meth_name \u001B[38;5;241m=\u001B[39m protocol\u001B[38;5;241m+\u001B[39m\u001B[38;5;124m\"\u001B[39m\u001B[38;5;124m_response\u001B[39m\u001B[38;5;124m\"\u001B[39m\n",
      "File \u001B[1;32mD:\\soft\\Python312\\Lib\\urllib\\request.py:532\u001B[0m, in \u001B[0;36mOpenerDirector._open\u001B[1;34m(self, req, data)\u001B[0m\n\u001B[0;32m    529\u001B[0m     \u001B[38;5;28;01mreturn\u001B[39;00m result\n\u001B[0;32m    531\u001B[0m protocol \u001B[38;5;241m=\u001B[39m req\u001B[38;5;241m.\u001B[39mtype\n\u001B[1;32m--> 532\u001B[0m result \u001B[38;5;241m=\u001B[39m \u001B[38;5;28;43mself\u001B[39;49m\u001B[38;5;241;43m.\u001B[39;49m\u001B[43m_call_chain\u001B[49m\u001B[43m(\u001B[49m\u001B[38;5;28;43mself\u001B[39;49m\u001B[38;5;241;43m.\u001B[39;49m\u001B[43mhandle_open\u001B[49m\u001B[43m,\u001B[49m\u001B[43m \u001B[49m\u001B[43mprotocol\u001B[49m\u001B[43m,\u001B[49m\u001B[43m \u001B[49m\u001B[43mprotocol\u001B[49m\u001B[43m \u001B[49m\u001B[38;5;241;43m+\u001B[39;49m\n\u001B[0;32m    533\u001B[0m \u001B[43m                          \u001B[49m\u001B[38;5;124;43m'\u001B[39;49m\u001B[38;5;124;43m_open\u001B[39;49m\u001B[38;5;124;43m'\u001B[39;49m\u001B[43m,\u001B[49m\u001B[43m \u001B[49m\u001B[43mreq\u001B[49m\u001B[43m)\u001B[49m\n\u001B[0;32m    534\u001B[0m \u001B[38;5;28;01mif\u001B[39;00m result:\n\u001B[0;32m    535\u001B[0m     \u001B[38;5;28;01mreturn\u001B[39;00m result\n",
      "File \u001B[1;32mD:\\soft\\Python312\\Lib\\urllib\\request.py:492\u001B[0m, in \u001B[0;36mOpenerDirector._call_chain\u001B[1;34m(self, chain, kind, meth_name, *args)\u001B[0m\n\u001B[0;32m    490\u001B[0m \u001B[38;5;28;01mfor\u001B[39;00m handler \u001B[38;5;129;01min\u001B[39;00m handlers:\n\u001B[0;32m    491\u001B[0m     func \u001B[38;5;241m=\u001B[39m \u001B[38;5;28mgetattr\u001B[39m(handler, meth_name)\n\u001B[1;32m--> 492\u001B[0m     result \u001B[38;5;241m=\u001B[39m \u001B[43mfunc\u001B[49m\u001B[43m(\u001B[49m\u001B[38;5;241;43m*\u001B[39;49m\u001B[43margs\u001B[49m\u001B[43m)\u001B[49m\n\u001B[0;32m    493\u001B[0m     \u001B[38;5;28;01mif\u001B[39;00m result \u001B[38;5;129;01mis\u001B[39;00m \u001B[38;5;129;01mnot\u001B[39;00m \u001B[38;5;28;01mNone\u001B[39;00m:\n\u001B[0;32m    494\u001B[0m         \u001B[38;5;28;01mreturn\u001B[39;00m result\n",
      "File \u001B[1;32mD:\\soft\\Python312\\Lib\\urllib\\request.py:1392\u001B[0m, in \u001B[0;36mHTTPSHandler.https_open\u001B[1;34m(self, req)\u001B[0m\n\u001B[0;32m   1391\u001B[0m \u001B[38;5;28;01mdef\u001B[39;00m \u001B[38;5;21mhttps_open\u001B[39m(\u001B[38;5;28mself\u001B[39m, req):\n\u001B[1;32m-> 1392\u001B[0m     \u001B[38;5;28;01mreturn\u001B[39;00m \u001B[38;5;28;43mself\u001B[39;49m\u001B[38;5;241;43m.\u001B[39;49m\u001B[43mdo_open\u001B[49m\u001B[43m(\u001B[49m\u001B[43mhttp\u001B[49m\u001B[38;5;241;43m.\u001B[39;49m\u001B[43mclient\u001B[49m\u001B[38;5;241;43m.\u001B[39;49m\u001B[43mHTTPSConnection\u001B[49m\u001B[43m,\u001B[49m\u001B[43m \u001B[49m\u001B[43mreq\u001B[49m\u001B[43m,\u001B[49m\n\u001B[0;32m   1393\u001B[0m \u001B[43m                        \u001B[49m\u001B[43mcontext\u001B[49m\u001B[38;5;241;43m=\u001B[39;49m\u001B[38;5;28;43mself\u001B[39;49m\u001B[38;5;241;43m.\u001B[39;49m\u001B[43m_context\u001B[49m\u001B[43m)\u001B[49m\n",
      "File \u001B[1;32mD:\\soft\\Python312\\Lib\\urllib\\request.py:1347\u001B[0m, in \u001B[0;36mAbstractHTTPHandler.do_open\u001B[1;34m(self, http_class, req, **http_conn_args)\u001B[0m\n\u001B[0;32m   1344\u001B[0m         h\u001B[38;5;241m.\u001B[39mrequest(req\u001B[38;5;241m.\u001B[39mget_method(), req\u001B[38;5;241m.\u001B[39mselector, req\u001B[38;5;241m.\u001B[39mdata, headers,\n\u001B[0;32m   1345\u001B[0m                   encode_chunked\u001B[38;5;241m=\u001B[39mreq\u001B[38;5;241m.\u001B[39mhas_header(\u001B[38;5;124m'\u001B[39m\u001B[38;5;124mTransfer-encoding\u001B[39m\u001B[38;5;124m'\u001B[39m))\n\u001B[0;32m   1346\u001B[0m     \u001B[38;5;28;01mexcept\u001B[39;00m \u001B[38;5;167;01mOSError\u001B[39;00m \u001B[38;5;28;01mas\u001B[39;00m err: \u001B[38;5;66;03m# timeout error\u001B[39;00m\n\u001B[1;32m-> 1347\u001B[0m         \u001B[38;5;28;01mraise\u001B[39;00m URLError(err)\n\u001B[0;32m   1348\u001B[0m     r \u001B[38;5;241m=\u001B[39m h\u001B[38;5;241m.\u001B[39mgetresponse()\n\u001B[0;32m   1349\u001B[0m \u001B[38;5;28;01mexcept\u001B[39;00m:\n",
      "\u001B[1;31mURLError\u001B[0m: <urlopen error [SSL: CERTIFICATE_VERIFY_FAILED] certificate verify failed: unable to get local issuer certificate (_ssl.c:1000)>"
     ]
    }
   ],
   "source": [
    "docs = ArxivLoader(query=query, load_max_docs=5).load()"
   ]
  },
  {
   "cell_type": "code",
   "execution_count": null,
   "id": "c4afee9c5fd3a927",
   "metadata": {
    "collapsed": false,
    "is_executing": true
   },
   "outputs": [],
   "source": [
    "len(docs)"
   ]
  },
  {
   "cell_type": "code",
   "execution_count": null,
   "id": "8ca7c6af2ec001af",
   "metadata": {
    "collapsed": false
   },
   "outputs": [],
   "source": [
    "docs[0].metadata  # meta-information of the Document"
   ]
  },
  {
   "cell_type": "markdown",
   "id": "a6ff4c66e7181145",
   "metadata": {
    "collapsed": false
   },
   "source": [
    "使用 UnstructuredURLLoader 加载网页内容"
   ]
  },
  {
   "cell_type": "code",
   "execution_count": 3,
   "id": "65ab6494d3ca96d3",
   "metadata": {
    "collapsed": false,
    "ExecuteTime": {
     "end_time": "2024-03-29T06:51:11.530110100Z",
     "start_time": "2024-03-29T06:51:10.258818800Z"
    }
   },
   "outputs": [],
   "source": [
    "from langchain.document_loaders import UnstructuredURLLoader"
   ]
  },
  {
   "cell_type": "code",
   "execution_count": 4,
   "id": "d746cf038648d98",
   "metadata": {
    "collapsed": false,
    "ExecuteTime": {
     "end_time": "2024-03-29T06:51:13.295563200Z",
     "start_time": "2024-03-29T06:51:13.259613700Z"
    }
   },
   "outputs": [],
   "source": [
    "urls = [\n",
    "    \"https://react-lm.github.io\",\n",
    "]"
   ]
  },
  {
   "cell_type": "code",
   "execution_count": 27,
   "id": "f35bd40a9ea1ece4",
   "metadata": {
    "ExecuteTime": {
     "end_time": "2024-03-29T06:37:11.888389600Z",
     "start_time": "2024-03-29T06:37:11.871148Z"
    },
    "collapsed": false
   },
   "outputs": [],
   "source": [
    "loader = UnstructuredURLLoader(urls=urls)"
   ]
  },
  {
   "cell_type": "code",
   "execution_count": null,
   "id": "766c8faf6f2a8ada",
   "metadata": {
    "collapsed": false,
    "is_executing": true
   },
   "outputs": [],
   "source": [
    "data = loader.load()"
   ]
  },
  {
   "cell_type": "code",
   "execution_count": null,
   "id": "43ac27e996a46a1b",
   "metadata": {
    "ExecuteTime": {
     "start_time": "2024-03-29T06:41:57.746829900Z"
    },
    "collapsed": false,
    "is_executing": true
   },
   "outputs": [],
   "source": [
    "pip install python-libmagic"
   ]
  },
  {
   "cell_type": "code",
   "execution_count": 15,
   "id": "5f3f76b5ea5cf822",
   "metadata": {
    "ExecuteTime": {
     "end_time": "2024-03-29T06:33:28.294140500Z",
     "start_time": "2024-03-29T06:33:28.280903300Z"
    },
    "collapsed": false
   },
   "outputs": [
    {
     "data": {
      "text/plain": [
       "0"
      ]
     },
     "execution_count": 15,
     "metadata": {},
     "output_type": "execute_result"
    }
   ],
   "source": [
    "len(data)"
   ]
  },
  {
   "cell_type": "code",
   "execution_count": 18,
   "id": "a053de1a304f9767",
   "metadata": {
    "ExecuteTime": {
     "end_time": "2024-03-29T06:34:37.824630700Z",
     "start_time": "2024-03-29T06:34:37.791491400Z"
    },
    "collapsed": false
   },
   "outputs": [
    {
     "ename": "IndexError",
     "evalue": "list index out of range",
     "output_type": "error",
     "traceback": [
      "\u001B[1;31m---------------------------------------------------------------------------\u001B[0m",
      "\u001B[1;31mIndexError\u001B[0m                                Traceback (most recent call last)",
      "Cell \u001B[1;32mIn[18], line 1\u001B[0m\n\u001B[1;32m----> 1\u001B[0m \u001B[38;5;28mprint\u001B[39m(\u001B[43mdata\u001B[49m\u001B[43m[\u001B[49m\u001B[38;5;241;43m0\u001B[39;49m\u001B[43m]\u001B[49m\u001B[38;5;241m.\u001B[39mmetadata)\n",
      "\u001B[1;31mIndexError\u001B[0m: list index out of range"
     ]
    }
   ],
   "source": [
    "print(data[0].metadata)"
   ]
  },
  {
   "cell_type": "code",
   "execution_count": null,
   "id": "5606de86d46814f3",
   "metadata": {
    "collapsed": false
   },
   "outputs": [],
   "source": [
    "print(data[0].page_content)"
   ]
  },
  {
   "cell_type": "markdown",
   "source": [],
   "metadata": {
    "collapsed": false
   },
   "id": "4a38dacfec2a5933"
  },
  {
   "cell_type": "code",
   "outputs": [],
   "source": [
    "loader = UnstructuredURLLoader(urls=urls, mode=\"elements\")"
   ],
   "metadata": {
    "collapsed": false,
    "ExecuteTime": {
     "end_time": "2024-03-29T06:51:19.984945700Z",
     "start_time": "2024-03-29T06:51:19.967884700Z"
    }
   },
   "id": "eb6f922c16fc14aa",
   "execution_count": 5
  },
  {
   "cell_type": "code",
   "outputs": [
    {
     "name": "stderr",
     "output_type": "stream",
     "text": [
      "libmagic is unavailable but assists in filetype detection on file-like objects. Please consider installing libmagic for better results.\n",
      "Error fetching or processing https://react-lm.github.io, exception: Invalid file. The FileType.UNK file type is not supported in partition.\n"
     ]
    }
   ],
   "source": [
    "new_data = loader.load()"
   ],
   "metadata": {
    "collapsed": false,
    "ExecuteTime": {
     "end_time": "2024-03-29T06:51:28.757230900Z",
     "start_time": "2024-03-29T06:51:22.471344400Z"
    }
   },
   "id": "5df04761f509daf8",
   "execution_count": 6
  },
  {
   "cell_type": "code",
   "outputs": [],
   "source": [
    "new_data[0].page_content"
   ],
   "metadata": {
    "collapsed": false
   },
   "id": "d948d237c8e7657d"
  },
  {
   "cell_type": "code",
   "outputs": [],
   "source": [
    "len(new_data)"
   ],
   "metadata": {
    "collapsed": false
   },
   "id": "e87104bf5019f182"
  },
  {
   "cell_type": "code",
   "outputs": [],
   "source": [
    "new_data[1].page_content"
   ],
   "metadata": {
    "collapsed": false
   },
   "id": "f49edde3b26b73b8"
  }
 ],
 "metadata": {
  "kernelspec": {
   "display_name": "Python 3 (ipykernel)",
   "language": "python",
   "name": "python3"
  },
  "language_info": {
   "codemirror_mode": {
    "name": "ipython",
    "version": 3
   },
   "file_extension": ".py",
   "mimetype": "text/x-python",
   "name": "python",
   "nbconvert_exporter": "python",
   "pygments_lexer": "ipython3",
   "version": "3.12.2"
  }
 },
 "nbformat": 4,
 "nbformat_minor": 5
}
