{
 "cells": [
  {
   "cell_type": "code",
   "execution_count": 1,
   "id": "initial_id",
   "metadata": {
    "collapsed": true,
    "ExecuteTime": {
     "end_time": "2024-03-29T05:07:56.523372Z",
     "start_time": "2024-03-29T05:07:51.545338300Z"
    }
   },
   "outputs": [],
   "source": [
    "from langchain_openai import OpenAI\n",
    "from langchain.prompts import PromptTemplate\n",
    "\n",
    "llm = OpenAI(model_name=\"gpt-3.5-turbo-instruct\", temperature=0.9, max_tokens=500)"
   ]
  },
  {
   "cell_type": "code",
   "outputs": [],
   "source": [
    "prompt = PromptTemplate(\n",
    "    input_variables=[\"product\"],\n",
    "    template=\"给制造{product}的有限公司取10个好名字，并给出完整的公司名称\",\n",
    ")"
   ],
   "metadata": {
    "collapsed": false,
    "ExecuteTime": {
     "end_time": "2024-03-29T05:08:53.532318700Z",
     "start_time": "2024-03-29T05:08:53.525910500Z"
    }
   },
   "id": "a07182b949b11dfc",
   "execution_count": 2
  },
  {
   "cell_type": "code",
   "outputs": [
    {
     "name": "stdout",
     "output_type": "stream",
     "text": [
      "\n",
      "\n",
      "\n",
      "1. 创新显卡科技有限公司（Innovate Graphics Tech Co., Ltd.）\n",
      "2. 火箭加速器科技有限公司（Rocket Accelerator Tech Co., Ltd.）\n",
      "3. 未来绘像科技有限公司（Future Imaging Tech Co., Ltd.）\n",
      "4. 超频平台科技有限公司（Overclocking Platform Tech Co., Ltd.）\n",
      "5. 虚拟视界技术有限公司（Virtual Vision Tech Co., Ltd.）\n",
      "6. 工程级图像处理器有限公司（Professional Image Processor Co., Ltd.）\n",
      "7. 光线追踪科技有限公司（Ray Tracing Tech Co., Ltd.）\n",
      "8. 多功能渲染器科技有限公司（Multifunctional Renderer Tech Co., Ltd.）\n",
      "9. 极速绘图芯片有限公司（Ultrafast Graphics Chip Co., Ltd.）\n",
      "10. 颠覆性GPU科技有限公司（Disruptive GPU Tech Co., Ltd.）\n"
     ]
    }
   ],
   "source": [
    "from langchain.chains import LLMChain\n",
    "\n",
    "chain = LLMChain(llm=llm, prompt=prompt)\n",
    "print(chain.invoke({\n",
    "    'product': \"性能卓越的GPU\"\n",
    "}).get('text'))"
   ],
   "metadata": {
    "collapsed": false,
    "ExecuteTime": {
     "end_time": "2024-03-29T05:11:27.712223700Z",
     "start_time": "2024-03-29T05:11:21.704721300Z"
    }
   },
   "id": "6507929e140f3d1e",
   "execution_count": 5
  },
  {
   "cell_type": "code",
   "outputs": [],
   "source": [
    "chain.verbose = True"
   ],
   "metadata": {
    "collapsed": false,
    "ExecuteTime": {
     "end_time": "2024-03-29T05:11:48.012545700Z",
     "start_time": "2024-03-29T05:11:47.988164200Z"
    }
   },
   "id": "45a0c684c6d14dbb",
   "execution_count": 6
  },
  {
   "cell_type": "code",
   "outputs": [
    {
     "data": {
      "text/plain": "True"
     },
     "execution_count": 7,
     "metadata": {},
     "output_type": "execute_result"
    }
   ],
   "source": [
    "chain.verbose"
   ],
   "metadata": {
    "collapsed": false,
    "ExecuteTime": {
     "end_time": "2024-03-29T05:11:55.374658800Z",
     "start_time": "2024-03-29T05:11:55.361677800Z"
    }
   },
   "id": "35cf5af0002b6186",
   "execution_count": 7
  },
  {
   "cell_type": "code",
   "outputs": [
    {
     "name": "stdout",
     "output_type": "stream",
     "text": [
      "\n",
      "\n",
      "\u001B[1m> Entering new LLMChain chain...\u001B[0m\n",
      "Prompt after formatting:\n",
      "\u001B[32;1m\u001B[1;3m给制造性能卓越的GPU的有限公司取10个好名字，并给出完整的公司名称\u001B[0m\n",
      "\n",
      "\u001B[1m> Finished chain.\u001B[0m\n",
      "\n",
      "\n",
      "1. 超视界博弈科技有限公司\n",
      "2. 未来洞察智能科技有限公司\n",
      "3. 神威融合科技有限公司\n",
      "4. 梦想加速器科技有限公司\n",
      "5. 无边界渲染科技有限公司\n",
      "6. 创新引擎图像科技有限公司\n",
      "7. 巅峰效率计算科技有限公司\n",
      "8. 极速视觉处理科技有限公司\n",
      "9. 智慧加速芯片科技有限公司\n",
      "10. 未来星辰计算科技有限公司\n"
     ]
    }
   ],
   "source": [
    "print(chain.invoke({\n",
    "    'product': \"性能卓越的GPU\"\n",
    "}).get('text'))"
   ],
   "metadata": {
    "collapsed": false,
    "ExecuteTime": {
     "end_time": "2024-03-29T05:12:47.186943300Z",
     "start_time": "2024-03-29T05:12:44.084622700Z"
    }
   },
   "id": "f57851df01bbae95",
   "execution_count": 9
  },
  {
   "cell_type": "markdown",
   "source": [
    "Sequential Chain"
   ],
   "metadata": {
    "collapsed": false
   },
   "id": "5a29bc4bd4348b9e"
  },
  {
   "cell_type": "code",
   "outputs": [],
   "source": [
    "llm = OpenAI(temperature=0.7, max_tokens=1000)\n",
    "\n",
    "template = \"\"\"你是一位剧作家。根据戏剧的标题，你的任务是为该标题写一个简介。\n",
    "\n",
    "标题：{title}\n",
    "剧作家：以下是对上述戏剧的简介：\"\"\"\n",
    "\n",
    "prompt_template = PromptTemplate(input_variables=[\"title\"], template=template)\n",
    "synopsis_chain = LLMChain(llm=llm, prompt=prompt_template)"
   ],
   "metadata": {
    "collapsed": false,
    "ExecuteTime": {
     "end_time": "2024-03-29T05:14:17.974564100Z",
     "start_time": "2024-03-29T05:14:14.733439800Z"
    }
   },
   "id": "547ba6b993f9b07d",
   "execution_count": 10
  },
  {
   "cell_type": "code",
   "outputs": [],
   "source": [
    "# 这是一个LLMChain，用于根据剧情简介撰写一篇戏剧评论。\n",
    "# llm = OpenAI(temperature=0.7, max_tokens=1000)\n",
    "template = \"\"\"你是《纽约时报》的戏剧评论家。根据剧情简介，你的工作是为该剧撰写一篇评论。\n",
    "\n",
    "剧情简介：\n",
    "{synopsis}\n",
    "\n",
    "以下是来自《纽约时报》戏剧评论家对上述剧目的评论：\"\"\"\n",
    "\n",
    "prompt_template = PromptTemplate(input_variables=[\"synopsis\"], template=template)\n",
    "review_chain = LLMChain(llm=llm, prompt=prompt_template)"
   ],
   "metadata": {
    "collapsed": false,
    "ExecuteTime": {
     "end_time": "2024-03-29T05:14:36.953372800Z",
     "start_time": "2024-03-29T05:14:36.946276200Z"
    }
   },
   "id": "440c8f7d5daaa6f",
   "execution_count": 11
  },
  {
   "cell_type": "code",
   "outputs": [],
   "source": [
    "from langchain.chains import SimpleSequentialChain\n",
    "\n",
    "overall_chain = SimpleSequentialChain(chains=[synopsis_chain, review_chain], verbose=True)"
   ],
   "metadata": {
    "collapsed": false,
    "ExecuteTime": {
     "end_time": "2024-03-29T05:15:48.798716700Z",
     "start_time": "2024-03-29T05:15:48.779879Z"
    }
   },
   "id": "aaaa6cbc687f2ed",
   "execution_count": 12
  },
  {
   "cell_type": "code",
   "outputs": [
    {
     "name": "stdout",
     "output_type": "stream",
     "text": [
      "\n",
      "\n",
      "\u001B[1m> Entering new SimpleSequentialChain chain...\u001B[0m\n",
      "\u001B[36;1m\u001B[1;3m\n",
      "\n",
      "《三体人不是无法战胜的》是一部关于勇气与希望的戏剧作品。故事发生在一个被外星种族“三体人”入侵的未来世界。在人类面临毁灭的危机下，一群勇敢的人们决定不再被动地等待命运的安排，而是勇敢地反抗。他们经历了无数的挫折和艰难，面对着强大的敌人，但他们从未放弃希望，最终以无畏的决心和团结的力量，成功击败了三体人。这部戏剧展现了人类面对困难时的坚韧和勇气，以及团结一心的力量在关键时刻的重要性。它也向观众传递了一种鼓舞人心的信息：无论遇到多大的挑战，只要我们敢于挑战，就没有什么是无法战胜的。\u001B[0m\n",
      "\u001B[33;1m\u001B[1;3m\n",
      "\n",
      "《三体人不是无法战胜的》是一部令人振奋的戏剧作品。通过讲述人类面临外星入侵的故事，它展现了人类勇气与希望的力量。在这个充满挑战的未来世界，一群勇敢的人们决定不再被动地等待命运的安排，而是勇敢地反抗。他们面对无数的挫折和艰难，但从未放弃希望。最终，他们团结一心，以无畏的决心击败了强大的敌人。\n",
      "\n",
      "这部剧作展现了人类面对困难时的坚韧和勇气，以及团结一心的力量在关键时刻的重要性。观众们无疑会被这些勇敢的人们所感染，感受到希望的力量。在这个充满挑战的世界，剧中的人物们给我们带来一种鼓舞人心的信息：只要我们敢于挑战，就没有什么是无法战胜的。\n",
      "\n",
      "除了故事本身，该剧还有精彩的舞台表演和绚丽的视觉效果。人类与三体人的对抗场面令人印象深刻，而演员们也通过精湛的表演带来了真切的情感和紧张的氛围。\n",
      "\n",
      "尽管该剧讲述的是一个未来的故事，但它所传递的信息却是永恒的。在这个充满挑战和变化的世界，我们需要勇气和希望来面对未知的未来。《三体人不是无法战胜的》为观众带来了一场感动人心的戏剧体验，值得一看。\u001B[0m\n",
      "\n",
      "\u001B[1m> Finished chain.\u001B[0m\n"
     ]
    }
   ],
   "source": [
    "review = overall_chain.run(\"三体人不是无法战胜的\")"
   ],
   "metadata": {
    "collapsed": false,
    "ExecuteTime": {
     "end_time": "2024-03-29T05:16:31.687458900Z",
     "start_time": "2024-03-29T05:16:14.426975700Z"
    }
   },
   "id": "bd04e8e0697c0706",
   "execution_count": 13
  },
  {
   "cell_type": "code",
   "outputs": [
    {
     "name": "stdout",
     "output_type": "stream",
     "text": [
      "\n",
      "\n",
      "\u001B[1m> Entering new SimpleSequentialChain chain...\u001B[0m\n",
      "\u001B[36;1m\u001B[1;3m\n",
      "\n",
      "《星球大战第九季》延续了前八部的故事，讲述了银河系的另一次大规模战争。在这一次的战争中，反抗军和帝国军队再次展开激烈的对决。随着双方的冲突不断升级，新的敌人和盟友也相继出现，使得整个银河系的局势变得更加复杂和紧张。\n",
      "\n",
      "在这场战争中，我们将见证一些老角色的回归，他们将与新一代的英雄一起并肩作战。同时，新的敌对势力也将出现，他们的目的是摧毁银河系的和平与秩序。为了保卫自由和正义，英雄们必须团结一致，以最终战胜这个强大的敌人。\n",
      "\n",
      "除了战争的场面外，本剧还将探讨人性的复杂性和道德的选择。在战争的残酷现实面前，每个人都将面临艰难的抉择，他们的选择将决定着整个银河系的命运。在这场星球大战中，谁将是最终的胜利者，谁又将是最终的失败者？敬请期待《星球大战第九季》的精彩呈现！\u001B[0m\n",
      "\u001B[33;1m\u001B[1;3m\n",
      "\n",
      "《星球大战第九季》是一部充满惊险刺激的科幻巨作。该剧延续了前八部的故事，再次展现了银河系的战争与和平的永恒斗争。在本季中，观众将见证老角色的回归，他们与新一代英雄一起并肩作战。同时，新的敌对势力的出现也将为剧情增添更多的复杂性和紧张感。\n",
      "\n",
      "除了精彩的战争场面外，该剧也深入探讨了人性的复杂性和道德的选择。在战争的残酷现实面前，每个角色都将面临艰难的抉择，这些选择也将决定着整个银河系的命运。剧中的英雄们必须团结一致，以最终战胜强大的敌人，保卫自由和正义。\n",
      "\n",
      "《星球大战第九季》不仅仅是一部科幻作品，更是一部关于人性与社会的深刻思考。在剧中，观众将被带入一个充满冲突和挑战的世界，感受到战争的残酷和和平的珍贵。这部剧不仅仅是为了娱乐，更是希望观众能从中获得启发和思考。强烈推荐《星球大战第九季》，相信它会成为一部不可错过的经典之作。\u001B[0m\n",
      "\n",
      "\u001B[1m> Finished chain.\u001B[0m\n"
     ]
    }
   ],
   "source": [
    "review = overall_chain.run(\"星球大战第九季\")"
   ],
   "metadata": {
    "collapsed": false,
    "ExecuteTime": {
     "end_time": "2024-03-29T05:17:43.970479900Z",
     "start_time": "2024-03-29T05:17:28.460677300Z"
    }
   },
   "id": "8015d16c1cead8e6",
   "execution_count": 14
  },
  {
   "cell_type": "markdown",
   "source": [],
   "metadata": {
    "collapsed": false
   },
   "id": "e167220d6041a31b"
  },
  {
   "cell_type": "markdown",
   "source": [
    "使用SequentialChain 实现戏剧摘要和评论 (多输入/输出)"
   ],
   "metadata": {
    "collapsed": false
   },
   "id": "2c9e93f0db4e9616"
  },
  {
   "cell_type": "code",
   "outputs": [],
   "source": [
    "# # 这是一个 LLMChain，根据剧名和设定的时代来撰写剧情简介。\n",
    "llm = OpenAI(temperature=.7, max_tokens=1000)\n",
    "template = \"\"\"你是一位剧作家。根据戏剧的标题和设定的时代，你的任务是为该标题写一个简介。\n",
    "\n",
    "标题：{title}\n",
    "时代：{era}\n",
    "剧作家：以下是对上述戏剧的简介：\"\"\"\n",
    "\n",
    "prompt_template = PromptTemplate(input_variables=[\"title\", \"era\"], template=template)\n",
    "# output_key\n",
    "synopsis_chain = LLMChain(llm=llm, prompt=prompt_template, output_key=\"synopsis\", verbose=True)"
   ],
   "metadata": {
    "collapsed": false,
    "ExecuteTime": {
     "end_time": "2024-03-29T05:18:51.250916100Z",
     "start_time": "2024-03-29T05:18:48.049374100Z"
    }
   },
   "id": "4b9c045e85163fe0",
   "execution_count": 15
  },
  {
   "cell_type": "code",
   "outputs": [],
   "source": [
    "# 这是一个LLMChain，用于根据剧情简介撰写一篇戏剧评论。\n",
    "\n",
    "template = \"\"\"你是《纽约时报》的戏剧评论家。根据该剧的剧情简介，你需要撰写一篇关于该剧的评论。\n",
    "\n",
    "剧情简介：\n",
    "{synopsis}\n",
    "\n",
    "来自《纽约时报》戏剧评论家对上述剧目的评价：\"\"\"\n",
    "\n",
    "prompt_template = PromptTemplate(input_variables=[\"synopsis\"], template=template)\n",
    "review_chain = LLMChain(llm=llm, prompt=prompt_template, output_key=\"review\", verbose=True)"
   ],
   "metadata": {
    "collapsed": false,
    "ExecuteTime": {
     "end_time": "2024-03-29T05:19:06.327892800Z",
     "start_time": "2024-03-29T05:19:06.322037100Z"
    }
   },
   "id": "861155ed406c40d",
   "execution_count": 16
  },
  {
   "cell_type": "code",
   "outputs": [],
   "source": [
    "from langchain.chains import SequentialChain\n",
    "\n",
    "m_overall_chain = SequentialChain(\n",
    "    chains=[synopsis_chain, review_chain],\n",
    "    input_variables=[\"era\", \"title\"],\n",
    "    output_variables=[\"synopsis\", \"review\"],\n",
    "    verbose=True\n",
    ")"
   ],
   "metadata": {
    "collapsed": false,
    "ExecuteTime": {
     "end_time": "2024-03-29T05:21:34.832026500Z",
     "start_time": "2024-03-29T05:21:34.814822900Z"
    }
   },
   "id": "4f4e75b90bad0e17",
   "execution_count": 17
  },
  {
   "cell_type": "code",
   "outputs": [
    {
     "name": "stderr",
     "output_type": "stream",
     "text": [
      "D:\\soft\\Python312\\Lib\\site-packages\\langchain_core\\_api\\deprecation.py:117: LangChainDeprecationWarning: The function `__call__` was deprecated in LangChain 0.1.0 and will be removed in 0.2.0. Use invoke instead.\n",
      "  warn_deprecated(\n"
     ]
    },
    {
     "name": "stdout",
     "output_type": "stream",
     "text": [
      "\n",
      "\n",
      "\u001B[1m> Entering new SequentialChain chain...\u001B[0m\n",
      "\n",
      "\n",
      "\u001B[1m> Entering new LLMChain chain...\u001B[0m\n",
      "Prompt after formatting:\n",
      "\u001B[32;1m\u001B[1;3m你是一位剧作家。根据戏剧的标题和设定的时代，你的任务是为该标题写一个简介。\n",
      "\n",
      "标题：三体人不是无法战胜的\n",
      "时代：二十一世纪的新中国\n",
      "剧作家：以下是对上述戏剧的简介：\u001B[0m\n",
      "\n",
      "\u001B[1m> Finished chain.\u001B[0m\n",
      "\n",
      "\n",
      "\u001B[1m> Entering new LLMChain chain...\u001B[0m\n",
      "Prompt after formatting:\n",
      "\u001B[32;1m\u001B[1;3m你是《纽约时报》的戏剧评论家。根据该剧的剧情简介，你需要撰写一篇关于该剧的评论。\n",
      "\n",
      "剧情简介：\n",
      "\n",
      "\n",
      "在二十一世纪的新中国，人类与外星种族三体人之间的战争已经持续了数十年。这个时代的人类社会已经发展出了先进的科技，但面对来自宇宙深处的三体人，他们仍然无法找到有效的解决办法。\n",
      "\n",
      "然而，在这个看似无望的战争中，一位年轻的科学家发现了三体人的弱点，他们并不是无法战胜的。这位科学家决定与一群志同道合的人合作，通过利用三体人的弱点，来反击他们。\n",
      "\n",
      "在这场激烈的战争中，人类的命运将会发生巨大的转折。他们将面临挑战和牺牲，但也将获得希望和胜利的可能性。同时，这场战争也将反映出人类社会的脆弱性和坚韧性，以及对未知的探索和勇气。\n",
      "\n",
      "《三体人不是无法战胜的》是一部关于科技与人性的戏剧，它将带领观众探讨人类面对未知和挑战时的选择和决定，以及科技在塑造人类命运中的作用。同时，它也将展现出新中国在不断发展的科技领域中所面临的挑战和机遇。\n",
      "\n",
      "来自《纽约时报》戏剧评论家对上述剧目的评价：\u001B[0m\n",
      "\n",
      "\u001B[1m> Finished chain.\u001B[0m\n",
      "\n",
      "\u001B[1m> Finished chain.\u001B[0m\n"
     ]
    },
    {
     "data": {
      "text/plain": "{'title': '三体人不是无法战胜的',\n 'era': '二十一世纪的新中国',\n 'synopsis': '\\n\\n在二十一世纪的新中国，人类与外星种族三体人之间的战争已经持续了数十年。这个时代的人类社会已经发展出了先进的科技，但面对来自宇宙深处的三体人，他们仍然无法找到有效的解决办法。\\n\\n然而，在这个看似无望的战争中，一位年轻的科学家发现了三体人的弱点，他们并不是无法战胜的。这位科学家决定与一群志同道合的人合作，通过利用三体人的弱点，来反击他们。\\n\\n在这场激烈的战争中，人类的命运将会发生巨大的转折。他们将面临挑战和牺牲，但也将获得希望和胜利的可能性。同时，这场战争也将反映出人类社会的脆弱性和坚韧性，以及对未知的探索和勇气。\\n\\n《三体人不是无法战胜的》是一部关于科技与人性的戏剧，它将带领观众探讨人类面对未知和挑战时的选择和决定，以及科技在塑造人类命运中的作用。同时，它也将展现出新中国在不断发展的科技领域中所面临的挑战和机遇。',\n 'review': '\\n\\n《三体人不是无法战胜的》是一部令人惊叹的戏剧作品，它将现实与科幻融合得天衣无缝。该剧讲述了一场激烈的战争，但它并非仅仅局限于战争场面，而是更多地展现了人类社会的复杂性和人性的脆弱性。\\n\\n在这部戏剧中，科技被描绘得极为先进，但同时也暴露出人类社会在面对未知和挑战时的无助和无措。剧中的主角们不仅要面对外星种族的入侵，还要面对自身的内心挣扎和道德抉择。他们的决定和行动展现了人类的坚韧和勇气，同时也反映出科技对人类的影响。\\n\\n该剧也成功地刻画了新中国在科技领域的发展，展现了一个充满机遇和挑战的未来。观众可以通过这部戏剧反思人类社会的现状和未来，以及科技对我们的影响。\\n\\n总的来说，《三体人不是无法战胜的》是一部充满想象力和深刻思考的戏剧作品，它将给观众带来震撼和启发。剧中的精彩表演、精心设计的舞台和精彩的剧情都值得一看。不容错过的精彩作品！'}"
     },
     "execution_count": 18,
     "metadata": {},
     "output_type": "execute_result"
    }
   ],
   "source": [
    "m_overall_chain({\"title\":\"三体人不是无法战胜的\", \"era\": \"二十一世纪的新中国\"})"
   ],
   "metadata": {
    "collapsed": false,
    "ExecuteTime": {
     "end_time": "2024-03-29T05:22:12.238375400Z",
     "start_time": "2024-03-29T05:21:55.863509600Z"
    }
   },
   "id": "c7d6370384209ee7",
   "execution_count": 18
  },
  {
   "cell_type": "code",
   "outputs": [],
   "source": [],
   "metadata": {
    "collapsed": false
   },
   "id": "4b1bb796e1fbcaee"
  },
  {
   "cell_type": "markdown",
   "source": [
    "HomeWork"
   ],
   "metadata": {
    "collapsed": false
   },
   "id": "b160d42d13571cec"
  },
  {
   "cell_type": "code",
   "outputs": [],
   "source": [],
   "metadata": {
    "collapsed": false
   },
   "id": "a64a849490748430"
  }
 ],
 "metadata": {
  "kernelspec": {
   "display_name": "Python 3",
   "language": "python",
   "name": "python3"
  },
  "language_info": {
   "codemirror_mode": {
    "name": "ipython",
    "version": 2
   },
   "file_extension": ".py",
   "mimetype": "text/x-python",
   "name": "python",
   "nbconvert_exporter": "python",
   "pygments_lexer": "ipython2",
   "version": "2.7.6"
  }
 },
 "nbformat": 4,
 "nbformat_minor": 5
}
