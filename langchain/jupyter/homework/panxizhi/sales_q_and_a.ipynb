{
 "cells": [
  {
   "cell_type": "code",
   "execution_count": 1,
   "id": "3358e400-e1bd-484c-84cf-f5a679236e19",
   "metadata": {},
   "outputs": [],
   "source": [
    "from langchain.embeddings import OpenAIEmbeddings"
   ]
  },
  {
   "cell_type": "code",
   "execution_count": 2,
   "id": "1875d056-c621-4640-baa7-cd9f2dad42b7",
   "metadata": {},
   "outputs": [],
   "source": [
    "embeddings_model = OpenAIEmbeddings()"
   ]
  },
  {
   "cell_type": "code",
   "execution_count": 21,
   "id": "469b9dc4-ec0f-4c4e-8ede-0926cb05de46",
   "metadata": {},
   "outputs": [],
   "source": [
    "with open(\"q_and_a.txt\", encoding='utf8') as f:\n",
    "    real_estate_sales = f.read()"
   ]
  },
  {
   "cell_type": "code",
   "execution_count": 4,
   "id": "89a52f30-06e8-41b9-9dbc-1e307510de20",
   "metadata": {},
   "outputs": [],
   "source": [
    "from langchain.text_splitter import CharacterTextSplitter"
   ]
  },
  {
   "cell_type": "code",
   "execution_count": 29,
   "id": "e29139b7-bbfc-458b-8659-9f007a43b53a",
   "metadata": {},
   "outputs": [],
   "source": [
    "# Should set chunk_size to 0, otherwise, CharacterTextSplitter will \n",
    "# capture more text into each object during splitting operation.\n",
    "text_splitter = CharacterTextSplitter(        \n",
    "    separator = r'\\d+\\.\\n',\n",
    "    chunk_size = 0,\n",
    "    chunk_overlap  = 0,\n",
    "    length_function = len,\n",
    "    is_separator_regex = True,\n",
    ")\n",
    "\n",
    "import re\n",
    "def splitText(text):\n",
    "    spliter = r'\\d+\\.\\n'\n",
    "    return re.split(spliter, text.strip())\n"
   ]
  },
  {
   "cell_type": "code",
   "execution_count": null,
   "id": "7be26452-383a-4442-9455-fc7e4ed16824",
   "metadata": {},
   "outputs": [],
   "source": [
    "docs = text_splitter.create_documents([real_estate_sales])\n",
    "# docs = list(filter(None,splitText(real_estate_sales)))"
   ]
  },
  {
   "cell_type": "code",
   "execution_count": null,
   "id": "9cc8ad19-301f-45d0-b6a4-2b650b23157f",
   "metadata": {},
   "outputs": [],
   "source": [
    "print(len(docs))\n",
    "[print(doc) for doc in docs]"
   ]
  },
  {
   "cell_type": "code",
   "execution_count": 34,
   "id": "6b97187f-27f1-4bfd-bd62-b1adc63a9448",
   "metadata": {},
   "outputs": [],
   "source": [
    "## Load into FAISS\n",
    "\n",
    "from langchain.embeddings.openai import OpenAIEmbeddings\n",
    "from langchain.text_splitter import CharacterTextSplitter\n",
    "from langchain.vectorstores import FAISS\n",
    "\n",
    "db = FAISS.from_documents(docs, OpenAIEmbeddings())\n"
   ]
  },
  {
   "cell_type": "code",
   "execution_count": 40,
   "id": "8c3b25ab-1911-4f64-b799-2cebea7cc346",
   "metadata": {},
   "outputs": [],
   "source": [
    "query = \"活动空间多嘛\""
   ]
  },
  {
   "cell_type": "code",
   "execution_count": 41,
   "id": "9e95f002-e047-434d-9beb-2ab05e3dfabf",
   "metadata": {},
   "outputs": [],
   "source": [
    "answer_list = db.similarity_search(query)"
   ]
  },
  {
   "cell_type": "code",
   "execution_count": 42,
   "id": "4f3ccbb5-c41e-41ad-a033-5e45da20c40d",
   "metadata": {},
   "outputs": [
    {
     "name": "stdout",
     "output_type": "stream",
     "text": [
      "[问题] 这个楼盘是否有社交活动场所，如社区中心或多功能厅？\n",
      "[答案] 一些楼盘可能配备有社交活动场所，如社区中心、多功能厅或会议室，供居民举办各类社交活动、会议或聚会。您可以向楼盘的物业管理处了解相关设施情况。\n",
      "\n",
      "[问题] 这个楼盘是否有游乐场或儿童活动区？\n",
      "[答案] 一些楼盘可能提供游乐场或儿童活动区，为居民的孩子提供娱乐和活动场所。您可以向楼盘的物业管理处了解具体楼盘是否有游乐场或儿童活动区。\n",
      "\n",
      "[问题] 这个楼盘是否有游乐场或儿童活动区？\n",
      "[答案] 是的，楼盘会设置游乐场或儿童活动区，供业主的孩子们玩耍和娱乐。\n",
      "\n",
      "[问题] 这个楼盘附近是否有运动场或健身设施？\n",
      "[答案] 附近可能有运动场、健身房或其他健身设施，使居民可以方便地进行运动和健身活动。您可以通过查询当地的运动场所或健身设施信息来了解楼盘附近的情况。\n",
      "\n"
     ]
    }
   ],
   "source": [
    "for ans in answer_list:\n",
    "    print(ans.page_content + \"\\n\")"
   ]
  },
  {
   "cell_type": "code",
   "execution_count": 43,
   "id": "6c85f155-8c1d-420a-ae56-51819e7f5691",
   "metadata": {},
   "outputs": [],
   "source": [
    "## Save vector data to local db \n",
    "db.save_local(\"real_estates_sale\")"
   ]
  },
  {
   "cell_type": "code",
   "execution_count": 44,
   "id": "65e51a92-1305-45de-bd2d-9031f6738bcb",
   "metadata": {},
   "outputs": [],
   "source": [
    "#Top K retrieve \n",
    "topK_retriever = db.as_retriever(search_kwargs={\"k\": 3})"
   ]
  },
  {
   "cell_type": "code",
   "execution_count": 45,
   "id": "87e91f1a-5526-4693-9bba-f0cced427367",
   "metadata": {},
   "outputs": [
    {
     "name": "stdout",
     "output_type": "stream",
     "text": [
      "[问题] 这个楼盘是否有社交活动场所，如社区中心或多功能厅？\n",
      "[答案] 一些楼盘可能配备有社交活动场所，如社区中心、多功能厅或会议室，供居民举办各类社交活动、会议或聚会。您可以向楼盘的物业管理处了解相关设施情况。\n",
      "\n",
      "[问题] 这个楼盘是否有游乐场或儿童活动区？\n",
      "[答案] 一些楼盘可能提供游乐场或儿童活动区，为居民的孩子提供娱乐和活动场所。您可以向楼盘的物业管理处了解具体楼盘是否有游乐场或儿童活动区。\n",
      "\n",
      "[问题] 这个楼盘是否有游乐场或儿童活动区？\n",
      "[答案] 是的，楼盘会设置游乐场或儿童活动区，供业主的孩子们玩耍和娱乐。\n",
      "\n"
     ]
    }
   ],
   "source": [
    "docs = topK_retriever.get_relevant_documents(query)\n",
    "for doc in docs:\n",
    "    print(doc.page_content + \"\\n\")"
   ]
  },
  {
   "cell_type": "code",
   "execution_count": 46,
   "id": "b7be8532-0386-4072-9b59-940edd905414",
   "metadata": {},
   "outputs": [
    {
     "name": "stdout",
     "output_type": "stream",
     "text": [
      "[问题] 这个楼盘是否有阳台或露台？\n",
      "[答案] 大部分户型都配备有阳台或露台，让业主可以享受室外空间和阳光。\n",
      "\n",
      "[问题] 这个楼盘是否有阳台或露台？\n",
      "[答案] 许多楼盘都会提供阳台或露台，供居民享受户外空间。具体楼盘是否有阳台或露台可以向楼盘的销售团队或物业开发商咨询。\n",
      "\n",
      "[问题] 这个楼盘的户型是多样化的吗？\n",
      "[答案] 是的，楼盘提供多种户型选择，从80平方米至120平方米不等，包括一室一厅到三室两厅等不同户型。\n",
      "\n"
     ]
    }
   ],
   "source": [
    "docs = topK_retriever.get_relevant_documents(\"你们有没有1000万的豪宅啊？\")\n",
    "for doc in docs:\n",
    "    print(doc.page_content + \"\\n\")"
   ]
  },
  {
   "cell_type": "code",
   "execution_count": 51,
   "id": "123f2f0a-089e-4f3a-a319-61db826d9f1b",
   "metadata": {},
   "outputs": [],
   "source": [
    "#Use threshold \n",
    "retriever = db.as_retriever(\n",
    "    search_type=\"similarity_score_threshold\",\n",
    "    search_kwargs={\"score_threshold\": 0.8}\n",
    ")\n"
   ]
  },
  {
   "cell_type": "code",
   "execution_count": 52,
   "id": "97927e3c-837e-4e1f-a4fd-b70a4fda7840",
   "metadata": {},
   "outputs": [
    {
     "name": "stdout",
     "output_type": "stream",
     "text": [
      "[问题] 这个楼盘是否有健身房或健身设施？\n",
      "[答案] 一些楼盘可能配备有健身房或其他健身设施，供居民进行健身活动。您可以向楼盘的物业管理处了解具体楼盘是否提供健身房或健身设施。\n",
      "\n",
      "[问题] 这个楼盘附近是否有运动场或健身设施？\n",
      "[答案] 附近可能有运动场、健身房或其他健身设施，使居民可以方便地进行运动和健身活动。您可以通过查询当地的运动场所或健身设施信息来了解楼盘附近的情况。\n",
      "\n",
      "[问题] 这个楼盘是否有游泳池或健身中心？\n",
      "[答案] 一些楼盘可能配备有游泳池和健身中心等健身设施，供居民使用。您可以向楼盘的物业管理处了解具体楼盘是否提供游泳池或健身中心。\n",
      "\n"
     ]
    }
   ],
   "source": [
    "query = '有没有健身房'\n",
    "docs = retriever.get_relevant_documents(query)\n",
    "for doc in docs:\n",
    "    print(doc.page_content + \"\\n\")"
   ]
  },
  {
   "cell_type": "code",
   "execution_count": 55,
   "id": "8f125c48-0d59-425d-bcfa-963e209ef4c2",
   "metadata": {},
   "outputs": [
    {
     "name": "stdout",
     "output_type": "stream",
     "text": [
      "一些楼盘可能配备有健身房或其他健身设施，供居民进行健身活动。您可以向楼盘的物业管理处了解具体楼盘是否提供健身房或健身设施。\n"
     ]
    }
   ],
   "source": [
    "answer = docs[0].page_content.split('[答案]')\n",
    "\n",
    "print(answer[-1].strip())"
   ]
  },
  {
   "cell_type": "code",
   "execution_count": 8,
   "id": "9ca27efd-dc78-4f47-8699-0cdd46058fb9",
   "metadata": {},
   "outputs": [],
   "source": [
    "from langchain.embeddings.openai import OpenAIEmbeddings\n",
    "from langchain.vectorstores import FAISS\n",
    "\n",
    "db = FAISS.load_local(\"real_estates_sale\", OpenAIEmbeddings())"
   ]
  },
  {
   "cell_type": "code",
   "execution_count": 56,
   "id": "9c769c5c-2a52-42dd-9799-ecdc9180154b",
   "metadata": {},
   "outputs": [],
   "source": [
    "#create reused function \n",
    "from typing import List\n",
    "\n",
    "def sales(query: str, score_threshold: float=0.8) -> List[str]:\n",
    "    retriever = db.as_retriever(search_type=\"similarity_score_threshold\", search_kwargs={\"score_threshold\": score_threshold})    \n",
    "    docs = retriever.get_relevant_documents(query)\n",
    "    ans_list = [doc.page_content.split(\"[答案] \")[-1] for doc in docs]\n",
    "\n",
    "    return ans_list"
   ]
  },
  {
   "cell_type": "code",
   "execution_count": 66,
   "id": "5c3ea0f7-7ad5-4de8-8d64-237c6e03a469",
   "metadata": {},
   "outputs": [
    {
     "name": "stdout",
     "output_type": "stream",
     "text": [
      "target threshold 0.8\n",
      "[]\n",
      "\n",
      "\n",
      "\n",
      "target threshold 0.77\n",
      "['小区绿化率高达35%，业主下楼就是花园，且有专业养护团队每天养护。', '楼盘有专业养护团队，每天负责绿化的维护工作，确保绿化环境的良好状态。']\n",
      "\n",
      "\n",
      "\n",
      "target threshold 0.74\n",
      "['小区绿化率高达35%，业主下楼就是花园，且有专业养护团队每天养护。', '楼盘有专业养护团队，每天负责绿化的维护工作，确保绿化环境的良好状态。', '附近可能有公园或绿地供居民休闲和娱乐。公园和绿地的数量和质量因地理位置而异。您可以查询当地的地理信息或向周边居民咨询了解附近是否有公园或绿地。', '楼盘附近可能有多个公园或绿地供居民休闲和户外活动。您可以查询当地的地理信息或向周边居民咨询，以了解楼盘附近的公园或绿地情况。']\n",
      "\n",
      "\n",
      "\n",
      "target threshold 0.7100000000000001\n",
      "['小区绿化率高达35%，业主下楼就是花园，且有专业养护团队每天养护。', '楼盘有专业养护团队，每天负责绿化的维护工作，确保绿化环境的良好状态。', '附近可能有公园或绿地供居民休闲和娱乐。公园和绿地的数量和质量因地理位置而异。您可以查询当地的地理信息或向周边居民咨询了解附近是否有公园或绿地。', '楼盘附近可能有多个公园或绿地供居民休闲和户外活动。您可以查询当地的地理信息或向周边居民咨询，以了解楼盘附近的公园或绿地情况。']\n",
      "\n",
      "\n",
      "\n"
     ]
    }
   ],
   "source": [
    "#compare different threshold\n",
    "testThreshold = 0.8\n",
    "for i in range(4):\n",
    "    steps = testThreshold - i * 0.03\n",
    "    print(f'target threshold {steps}')\n",
    "    result = sales('绿化多吗', steps)\n",
    "    print(result)\n",
    "    print('\\n'*2)"
   ]
  },
  {
   "cell_type": "code",
   "execution_count": 112,
   "id": "585f214a-93e3-41be-a36a-4c865195cbc6",
   "metadata": {},
   "outputs": [],
   "source": [
    "# go with LLM \n",
    "from langchain.chains.question_answering import load_qa_chain\n",
    "from langchain.chains import RetrievalQA\n",
    "from langchain.chat_models import ChatOpenAI\n",
    "\n",
    "from langchain.prompts import PromptTemplate\n",
    "\n",
    "NAME = '陈大文'\n",
    "headerPrompt = f'你是专业的售楼顾问，名字叫{NAME}。'\n",
    "bodyPrompt = f\"\"\"{headerPrompt} \n",
    "你需要按下述的'---'内容中每一个[答案]后的文字内容，总结后生成回复。\n",
    "不要用'---'中的内容直接回复。\n",
    "回复内容不需要出现你的名字，内容中不能出现'[答案]','[问题]','AI'等关键字。\n",
    "如果'---'内容不存在，不要去生成任何不相关的回复, 只要回复‘我不知道’。\"\"\"\n",
    "bodyPrompt = bodyPrompt + \"\"\"\\n\n",
    "---\n",
    "{context}\n",
    "---\n",
    "\"\"\"\n",
    "\n",
    "template = PromptTemplate.from_template(bodyPrompt)\n",
    "\n",
    "llm = ChatOpenAI(model_name=\"gpt-3.5-turbo\", temperature=0)\n",
    "retriever = db.as_retriever(search_type=\"similarity_score_threshold\",\n",
    "                          search_kwargs={\"score_threshold\": 0.77, \"k\":3})\n",
    "\n",
    "qa_chain = load_qa_chain(llm=llm, prompt=template, chain_type=\"stuff\",verbose=True)\n",
    "qa = RetrievalQA(combine_documents_chain=qa_chain, retriever=retriever)\n",
    "\n",
    "# qa = RetrievalQA.from_chain_type(llm, \n",
    "#                           retriever=retriever)\n",
    "\n",
    "qa.combine_documents_chain.verbose = True\n",
    "qa.return_source_documents = True"
   ]
  },
  {
   "cell_type": "code",
   "execution_count": 114,
   "id": "73a175b0-7d2a-4082-9788-e138831c3dc8",
   "metadata": {},
   "outputs": [
    {
     "name": "stdout",
     "output_type": "stream",
     "text": [
      "\n",
      "\n",
      "\u001b[1m> Entering new StuffDocumentsChain chain...\u001b[0m\n",
      "\n",
      "\n",
      "\u001b[1m> Entering new LLMChain chain...\u001b[0m\n",
      "Prompt after formatting:\n",
      "\u001b[32;1m\u001b[1;3m你是专业的售楼顾问，名字叫陈大文。 \n",
      "你需要按下述的'---'内容中每一个[答案]后的文字内容，总结后生成回复。\n",
      "不要用'---'中的内容直接回复。\n",
      "回复内容不需要出现你的名字，内容中不能出现'[答案]','[问题]','AI'等关键字。\n",
      "如果'---'内容不存在，不要去生成任何不相关的回复, 只要回复‘我不知道’。\n",
      "\n",
      "---\n",
      "[问题] 小区有幼儿园吗？\n",
      "[答案] 小区有配套幼儿园，方便业主的孩子上学。\n",
      "\n",
      "[问题] 这个楼盘附近有哪些教育机构？\n",
      "[答案] 楼盘附近有配套的幼儿园、小学和初中，方便业主的子女接受教育。\n",
      "\n",
      "[问题] 这个楼盘的周边是否有幼儿园或托儿所？\n",
      "[答案] 附近可能有多个幼儿园或托儿所，为居民提供儿童教育和照顾服务。具体的幼儿园或托儿所可以通过查询当地的教育资源或向周边居民咨询了解。\n",
      "---\n",
      "\u001b[0m\n",
      "\n",
      "\u001b[1m> Finished chain.\u001b[0m\n",
      "\n",
      "\u001b[1m> Finished chain.\u001b[0m\n"
     ]
    }
   ],
   "source": [
    "query = \"小区有没有小学\"\n",
    "#qa({\"query\":query})\n",
    "res = qa({\"query\":query})\n",
    "# ans, sourcedocs = res['result'], res['source_documents']"
   ]
  },
  {
   "cell_type": "code",
   "execution_count": 115,
   "id": "39cb36a7-e81d-4284-9d92-034b3d40dc12",
   "metadata": {},
   "outputs": [
    {
     "name": "stdout",
     "output_type": "stream",
     "text": [
      "小区有配套幼儿园，方便业主的孩子上学。楼盘附近有配套的幼儿园、小学和初中，方便业主的子女接受教育。附近可能有多个幼儿园或托儿所，为居民提供儿童教育和照顾服务。具体的幼儿园或托儿所可以通过查询当地的教育资源或向周边居民咨询了解。,1\n",
      "{'query': '小区有没有小学', 'result': '小区有配套幼儿园，方便业主的孩子上学。楼盘附近有配套的幼儿园、小学和初中，方便业主的子女接受教育。附近可能有多个幼儿园或托儿所，为居民提供儿童教育和照顾服务。具体的幼儿园或托儿所可以通过查询当地的教育资源或向周边居民咨询了解。', 'source_documents': [Document(page_content='[问题] 小区有幼儿园吗？\\n[答案] 小区有配套幼儿园，方便业主的孩子上学。', metadata={}), Document(page_content='[问题] 这个楼盘附近有哪些教育机构？\\n[答案] 楼盘附近有配套的幼儿园、小学和初中，方便业主的子女接受教育。', metadata={}), Document(page_content='[问题] 这个楼盘的周边是否有幼儿园或托儿所？\\n[答案] 附近可能有多个幼儿园或托儿所，为居民提供儿童教育和照顾服务。具体的幼儿园或托儿所可以通过查询当地的教育资源或向周边居民咨询了解。', metadata={})]}\n"
     ]
    }
   ],
   "source": [
    "ans, sourcedocs = res['result'], res['source_documents']\n",
    "print(f'{ans},{1 if len(sourcedocs) >=1 else 0}')\n",
    "print(res)"
   ]
  },
  {
   "cell_type": "code",
   "execution_count": null,
   "id": "2370a82d-f6de-4883-8f03-1857708b5f02",
   "metadata": {},
   "outputs": [],
   "source": []
  }
 ],
 "metadata": {
  "kernelspec": {
   "display_name": "Python 3 (ipykernel)",
   "language": "python",
   "name": "python3"
  },
  "language_info": {
   "codemirror_mode": {
    "name": "ipython",
    "version": 3
   },
   "file_extension": ".py",
   "mimetype": "text/x-python",
   "name": "python",
   "nbconvert_exporter": "python",
   "pygments_lexer": "ipython3",
   "version": "3.10.11"
  }
 },
 "nbformat": 4,
 "nbformat_minor": 5
}
