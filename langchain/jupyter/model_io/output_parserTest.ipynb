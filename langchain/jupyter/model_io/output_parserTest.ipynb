{
 "cells": [
  {
   "cell_type": "markdown",
   "source": [
    "列表解析 List Parser"
   ],
   "metadata": {
    "collapsed": false
   },
   "id": "3ed50a97e4522168"
  },
  {
   "cell_type": "code",
   "outputs": [],
   "source": [
    "from langchain.output_parsers import CommaSeparatedListOutputParser\n",
    "from langchain.prompts import PromptTemplate, ChatPromptTemplate, HumanMessagePromptTemplate\n",
    "from langchain_openai import OpenAI\n",
    "\n",
    "output_parser = CommaSeparatedListOutputParser()\n",
    "\n",
    "format_instructions = output_parser.get_format_instructions()\n",
    "\n",
    "prompt = PromptTemplate(\n",
    "    template=\"List five {subject}.\\n{format_instructions}\",\n",
    "    input_variables=[\"subject\"],\n",
    "    partial_variables={\"format_instructions\": format_instructions}\n",
    ")"
   ],
   "metadata": {
    "collapsed": false,
    "ExecuteTime": {
     "end_time": "2024-03-29T04:43:24.963990800Z",
     "start_time": "2024-03-29T04:43:22.873204700Z"
    }
   },
   "id": "4b29afb4dbce7452",
   "execution_count": 2
  },
  {
   "cell_type": "code",
   "outputs": [],
   "source": [
    "_input = prompt.format(subject=\"ice cream flavors\")"
   ],
   "metadata": {
    "collapsed": false,
    "ExecuteTime": {
     "end_time": "2024-03-29T04:44:01.810370900Z",
     "start_time": "2024-03-29T04:44:01.781373300Z"
    }
   },
   "id": "144e1dc244659a06",
   "execution_count": 3
  },
  {
   "cell_type": "code",
   "outputs": [
    {
     "name": "stdout",
     "output_type": "stream",
     "text": [
      "List five ice cream flavors.\n",
      "Your response should be a list of comma separated values, eg: `foo, bar, baz`\n"
     ]
    }
   ],
   "source": [
    "print(_input)"
   ],
   "metadata": {
    "collapsed": false,
    "ExecuteTime": {
     "end_time": "2024-03-29T04:44:10.831506100Z",
     "start_time": "2024-03-29T04:44:10.824938100Z"
    }
   },
   "id": "93dfa533862be26a",
   "execution_count": 4
  },
  {
   "cell_type": "code",
   "outputs": [],
   "source": [
    "llm = OpenAI(temperature=0)"
   ],
   "metadata": {
    "collapsed": false,
    "ExecuteTime": {
     "end_time": "2024-03-29T04:44:41.632748Z",
     "start_time": "2024-03-29T04:44:38.627131Z"
    }
   },
   "id": "a4287209a01cd7c4",
   "execution_count": 5
  },
  {
   "cell_type": "code",
   "outputs": [],
   "source": [
    "output = llm.invoke(_input)"
   ],
   "metadata": {
    "collapsed": false,
    "ExecuteTime": {
     "end_time": "2024-03-29T04:45:03.376695900Z",
     "start_time": "2024-03-29T04:45:02.553563700Z"
    }
   },
   "id": "1a4f4d34b4eb5231",
   "execution_count": 7
  },
  {
   "cell_type": "code",
   "outputs": [
    {
     "name": "stdout",
     "output_type": "stream",
     "text": [
      "\n",
      "\n",
      "1. Chocolate\n",
      "2. Vanilla\n",
      "3. Strawberry\n",
      "4. Mint chocolate chip\n",
      "5. Cookies and cream\n"
     ]
    }
   ],
   "source": [
    "print(output)"
   ],
   "metadata": {
    "collapsed": false,
    "ExecuteTime": {
     "end_time": "2024-03-29T04:45:19.324065800Z",
     "start_time": "2024-03-29T04:45:19.297136700Z"
    }
   },
   "id": "68a7695103e085ac",
   "execution_count": 8
  },
  {
   "cell_type": "code",
   "outputs": [
    {
     "data": {
      "text/plain": "['1. Chocolate\\n2. Vanilla\\n3. Strawberry\\n4. Mint chocolate chip\\n5. Cookies and cream']"
     },
     "execution_count": 9,
     "metadata": {},
     "output_type": "execute_result"
    }
   ],
   "source": [
    "output_parser.parse(output)"
   ],
   "metadata": {
    "collapsed": false,
    "ExecuteTime": {
     "end_time": "2024-03-29T04:45:35.973692800Z",
     "start_time": "2024-03-29T04:45:35.944167100Z"
    }
   },
   "id": "e3e9e91710ffac29",
   "execution_count": 9
  },
  {
   "cell_type": "markdown",
   "source": [],
   "metadata": {
    "collapsed": false
   },
   "id": "249d0d4de658c786"
  },
  {
   "cell_type": "markdown",
   "source": [
    "日期解析 Datatime Parser"
   ],
   "metadata": {
    "collapsed": false
   },
   "id": "e1e9ef929944dfe2"
  },
  {
   "cell_type": "code",
   "outputs": [],
   "source": [
    "from langchain.output_parsers import DatetimeOutputParser\n",
    "from langchain.chains import LLMChain\n",
    "\n",
    "output_parser = DatetimeOutputParser()\n",
    "template = \"\"\"Answer the users question:\n",
    "\n",
    "{question}\n",
    "\n",
    "{format_instructions}\"\"\"\n",
    "\n",
    "prompt = PromptTemplate.from_template(\n",
    "    template,\n",
    "    partial_variables={\"format_instructions\": output_parser.get_format_instructions()},\n",
    ")"
   ],
   "metadata": {
    "collapsed": false,
    "ExecuteTime": {
     "end_time": "2024-03-29T04:48:00.667931400Z",
     "start_time": "2024-03-29T04:48:00.618488300Z"
    }
   },
   "id": "184052a1c533828f",
   "execution_count": 10
  },
  {
   "cell_type": "code",
   "outputs": [
    {
     "name": "stdout",
     "output_type": "stream",
     "text": [
      "input_variables=['question'] partial_variables={'format_instructions': \"Write a datetime string that matches the following pattern: '%Y-%m-%dT%H:%M:%S.%fZ'.\\n\\nExamples: 0643-11-20T06:55:45.323013Z, 0493-03-19T16:12:47.267891Z, 0778-11-15T14:55:28.446789Z\\n\\nReturn ONLY this string, no other words!\"} template='Answer the users question:\\n\\n{question}\\n\\n{format_instructions}'\n"
     ]
    }
   ],
   "source": [
    "print(prompt)"
   ],
   "metadata": {
    "collapsed": false,
    "ExecuteTime": {
     "end_time": "2024-03-29T04:48:10.155820700Z",
     "start_time": "2024-03-29T04:48:10.149544100Z"
    }
   },
   "id": "c714dcdb4d8f4623",
   "execution_count": 11
  },
  {
   "cell_type": "code",
   "outputs": [
    {
     "name": "stdout",
     "output_type": "stream",
     "text": [
      "Answer the users question:\n",
      "\n",
      "around when was bitcoin founded?\n",
      "\n",
      "Write a datetime string that matches the following pattern: '%Y-%m-%dT%H:%M:%S.%fZ'.\n",
      "\n",
      "Examples: 0643-11-20T06:55:45.323013Z, 0493-03-19T16:12:47.267891Z, 0778-11-15T14:55:28.446789Z\n",
      "\n",
      "Return ONLY this string, no other words!\n"
     ]
    }
   ],
   "source": [
    "print(prompt.format(question=\"around when was bitcoin founded?\"))"
   ],
   "metadata": {
    "collapsed": false,
    "ExecuteTime": {
     "end_time": "2024-03-29T04:48:41.968476400Z",
     "start_time": "2024-03-29T04:48:41.961138900Z"
    }
   },
   "id": "890235484ca7b209",
   "execution_count": 12
  },
  {
   "cell_type": "code",
   "outputs": [],
   "source": [
    "chain = LLMChain(prompt=prompt, llm=OpenAI())"
   ],
   "metadata": {
    "collapsed": false,
    "ExecuteTime": {
     "end_time": "2024-03-29T04:49:35.481761600Z",
     "start_time": "2024-03-29T04:49:32.233739900Z"
    }
   },
   "id": "af86f50c72d3aa79",
   "execution_count": 13
  },
  {
   "cell_type": "code",
   "outputs": [],
   "source": [
    "output = chain.run(\"around when was bitcoin founded?\")\n",
    "#output = chain.invoke(\"around when was bitcoin founded?\")"
   ],
   "metadata": {
    "collapsed": false,
    "ExecuteTime": {
     "end_time": "2024-03-29T04:52:54.189707300Z",
     "start_time": "2024-03-29T04:52:53.018461100Z"
    }
   },
   "id": "d38c2b7b74748bf3",
   "execution_count": 25
  },
  {
   "cell_type": "code",
   "outputs": [
    {
     "data": {
      "text/plain": "'\\n\\n2009-01-03T18:15:05.000000Z'"
     },
     "execution_count": 26,
     "metadata": {},
     "output_type": "execute_result"
    }
   ],
   "source": [
    "output"
   ],
   "metadata": {
    "collapsed": false,
    "ExecuteTime": {
     "end_time": "2024-03-29T04:53:00.156434900Z",
     "start_time": "2024-03-29T04:53:00.148977800Z"
    }
   },
   "id": "4ce329619595c2aa",
   "execution_count": 26
  },
  {
   "cell_type": "code",
   "outputs": [
    {
     "name": "stdout",
     "output_type": "stream",
     "text": [
      "2009-01-03 18:15:05\n"
     ]
    }
   ],
   "source": [
    "print(output_parser.parse(output))"
   ],
   "metadata": {
    "collapsed": false,
    "ExecuteTime": {
     "end_time": "2024-03-29T04:53:02.230451900Z",
     "start_time": "2024-03-29T04:53:02.211079300Z"
    }
   },
   "id": "129c3d25b4e40a1b",
   "execution_count": 27
  },
  {
   "cell_type": "code",
   "outputs": [],
   "source": [
    "output = chain.invoke(\"around when was bitcoin founded?\")"
   ],
   "metadata": {
    "collapsed": false,
    "ExecuteTime": {
     "end_time": "2024-03-29T04:56:22.578637800Z",
     "start_time": "2024-03-29T04:56:21.244386200Z"
    }
   },
   "id": "372642aa47b4fc00",
   "execution_count": 28
  },
  {
   "cell_type": "code",
   "outputs": [
    {
     "data": {
      "text/plain": "{'question': 'around when was bitcoin founded?',\n 'text': '\\n2009-01-03T18:15:05.000000Z'}"
     },
     "execution_count": 29,
     "metadata": {},
     "output_type": "execute_result"
    }
   ],
   "source": [
    "output"
   ],
   "metadata": {
    "collapsed": false,
    "ExecuteTime": {
     "end_time": "2024-03-29T04:56:29.379778300Z",
     "start_time": "2024-03-29T04:56:29.371370500Z"
    }
   },
   "id": "5a96b3bcd515f472",
   "execution_count": 29
  },
  {
   "cell_type": "code",
   "outputs": [
    {
     "name": "stdout",
     "output_type": "stream",
     "text": [
      "\n",
      "2009-01-03T18:15:05.000000Z\n"
     ]
    }
   ],
   "source": [
    "print(output.get(\"text\"))"
   ],
   "metadata": {
    "collapsed": false,
    "ExecuteTime": {
     "end_time": "2024-03-29T04:58:40.868431800Z",
     "start_time": "2024-03-29T04:58:40.857337400Z"
    }
   },
   "id": "5c6b0a73171e7b9b",
   "execution_count": 32
  },
  {
   "cell_type": "code",
   "outputs": [
    {
     "name": "stdout",
     "output_type": "stream",
     "text": [
      "2009-01-03 18:15:05\n"
     ]
    }
   ],
   "source": [
    "print(output_parser.parse(output.get('text')))"
   ],
   "metadata": {
    "collapsed": false,
    "ExecuteTime": {
     "end_time": "2024-03-29T04:59:30.538116900Z",
     "start_time": "2024-03-29T04:59:30.526610300Z"
    }
   },
   "id": "a84d04a66af557e2",
   "execution_count": 33
  }
 ],
 "metadata": {
  "kernelspec": {
   "display_name": "Python 3",
   "language": "python",
   "name": "python3"
  },
  "language_info": {
   "codemirror_mode": {
    "name": "ipython",
    "version": 2
   },
   "file_extension": ".py",
   "mimetype": "text/x-python",
   "name": "python",
   "nbconvert_exporter": "python",
   "pygments_lexer": "ipython2",
   "version": "2.7.6"
  }
 },
 "nbformat": 4,
 "nbformat_minor": 5
}
