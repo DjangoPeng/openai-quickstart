{
 "cells": [
  {
   "cell_type": "code",
   "execution_count": 1,
   "id": "initial_id",
   "metadata": {
    "collapsed": true,
    "ExecuteTime": {
     "end_time": "2024-03-29T11:59:53.906392600Z",
     "start_time": "2024-03-29T11:59:53.892848300Z"
    }
   },
   "outputs": [],
   "source": [
    "import os\n",
    "#os.environ[\"SERPAPI_API_KEY\"] = \"\""
   ]
  },
  {
   "cell_type": "code",
   "outputs": [
    {
     "data": {
      "text/plain": "'a02b49e6015aeb93ce4dbfd99b57418a5fcf37d62d65150fe58f05ea0a4dee17'"
     },
     "execution_count": 2,
     "metadata": {},
     "output_type": "execute_result"
    }
   ],
   "source": [
    "os.environ[\"SERPAPI_API_KEY\"]"
   ],
   "metadata": {
    "collapsed": false,
    "ExecuteTime": {
     "end_time": "2024-03-29T11:59:53.921749100Z",
     "start_time": "2024-03-29T11:59:53.910572700Z"
    }
   },
   "id": "c44e8fe66e3e5f06",
   "execution_count": 2
  },
  {
   "cell_type": "code",
   "outputs": [],
   "source": [
    "from langchain_openai import OpenAI\n",
    "\n",
    "llm = OpenAI(temperature=0)"
   ],
   "metadata": {
    "collapsed": false,
    "ExecuteTime": {
     "end_time": "2024-03-29T11:46:52.577934400Z",
     "start_time": "2024-03-29T11:46:46.942689500Z"
    }
   },
   "id": "1e11ac9db94a3248",
   "execution_count": 4
  },
  {
   "cell_type": "code",
   "outputs": [],
   "source": [
    "from langchain.agents import load_tools\n",
    "from langchain.agents import initialize_agent\n",
    "from langchain.agents import AgentType\n",
    "\n",
    "tools = load_tools([\"serpapi\", \"llm-math\"], llm=llm)"
   ],
   "metadata": {
    "collapsed": false,
    "ExecuteTime": {
     "end_time": "2024-03-29T11:48:45.628852700Z",
     "start_time": "2024-03-29T11:48:45.603825200Z"
    }
   },
   "id": "4453850349cd8662",
   "execution_count": 7
  },
  {
   "cell_type": "code",
   "outputs": [
    {
     "name": "stdout",
     "output_type": "stream",
     "text": [
      "Looking in indexes: https://pypi.tuna.tsinghua.edu.cn/simple\n",
      "Collecting numexpr\n",
      "  Downloading https://pypi.tuna.tsinghua.edu.cn/packages/d0/ff/87d5439fef391607dca416af15a07aebcceccf7e3816966507c11b58a2a3/numexpr-2.9.0-cp312-cp312-win_amd64.whl (96 kB)\n",
      "     ---------------------------------------- 0.0/96.7 kB ? eta -:--:--\n",
      "     -------------------------------------- - 92.2/96.7 kB 2.6 MB/s eta 0:00:01\n",
      "     ---------------------------------------- 96.7/96.7 kB 1.9 MB/s eta 0:00:00\n",
      "Requirement already satisfied: numpy>=1.13.3 in d:\\soft\\python312\\lib\\site-packages (from numexpr) (1.26.4)\n",
      "Installing collected packages: numexpr\n",
      "Successfully installed numexpr-2.9.0\n",
      "Note: you may need to restart the kernel to use updated packages.\n"
     ]
    }
   ],
   "source": [
    "pip install numexpr"
   ],
   "metadata": {
    "collapsed": false,
    "ExecuteTime": {
     "end_time": "2024-03-29T11:48:39.002740800Z",
     "start_time": "2024-03-29T11:48:33.036875100Z"
    }
   },
   "id": "82e339dbb3363e2e",
   "execution_count": 6
  },
  {
   "cell_type": "code",
   "outputs": [
    {
     "name": "stderr",
     "output_type": "stream",
     "text": [
      "D:\\soft\\Python312\\Lib\\site-packages\\langchain_core\\_api\\deprecation.py:117: LangChainDeprecationWarning: The function `initialize_agent` was deprecated in LangChain 0.1.0 and will be removed in 0.2.0. Use Use new agent constructor methods like create_react_agent, create_json_agent, create_structured_chat_agent, etc. instead.\n",
      "  warn_deprecated(\n"
     ]
    }
   ],
   "source": [
    "agent = initialize_agent(tools, llm, agent=AgentType.ZERO_SHOT_REACT_DESCRIPTION, verbose=True)"
   ],
   "metadata": {
    "collapsed": false,
    "ExecuteTime": {
     "end_time": "2024-03-29T11:49:42.587337300Z",
     "start_time": "2024-03-29T11:49:42.544704200Z"
    }
   },
   "id": "c7752fb2880e1f50",
   "execution_count": 8
  },
  {
   "cell_type": "code",
   "outputs": [
    {
     "name": "stderr",
     "output_type": "stream",
     "text": [
      "D:\\soft\\Python312\\Lib\\site-packages\\langchain_core\\_api\\deprecation.py:117: LangChainDeprecationWarning: The function `run` was deprecated in LangChain 0.1.0 and will be removed in 0.2.0. Use invoke instead.\n",
      "  warn_deprecated(\n"
     ]
    },
    {
     "name": "stdout",
     "output_type": "stream",
     "text": [
      "\n",
      "\n",
      "\u001B[1m> Entering new AgentExecutor chain...\u001B[0m\n",
      "\u001B[32;1m\u001B[1;3m I should use a search engine to find information about Leonardo DiCaprio's girlfriend and then use a calculator to calculate her age.\n",
      "Action: Search\n",
      "Action Input: \"Leonardo DiCaprio girlfriend\"\u001B[0m\n",
      "Observation: \u001B[36;1m\u001B[1;3m[{'title': 'Is Leonardo DiCaprio Engaged to Vittoria Ceretti?', 'link': 'https://www.thecut.com/article/leonardo-dicaprio-vittoria-ceretti-engagement-ring.html', 'source': 'The Cut', 'date': '1 day ago', 'thumbnail': 'https://serpapi.com/searches/6606ab095f2203b7ae8d7f5b/images/7db95bf161919ea5f1437993aeba4501fe9fba0acebd51c0.jpeg'}, {'title': 'Leonardo DiCaprio, 49, gets cozy again with model Vittoria Ceretti, 25, and she even flashes a ring on THAT fi', 'link': 'https://www.dailymail.co.uk/tvshowbiz/article-13243303/Leonardo-DiCaprios-girlfriend-Vittoria-Ceretti-wearing-ring.html', 'source': 'Daily Mail', 'date': '2 days ago', 'thumbnail': 'https://serpapi.com/searches/6606ab095f2203b7ae8d7f5b/images/7db95bf161919ea5cc24078b67e8880b2a2065d86299c6fa.jpeg'}, {'title': 'Leonardo DiCaprio, 49, and Vittoria Ceretti, 25, spark engagement rumors as she flaunts new ring', 'link': 'https://pagesix.com/2024/03/27/entertainment/leonardo-dicaprio-vittoria-ceretti-spark-engagement-rumors/', 'source': 'Page Six', 'date': '1 day ago', 'thumbnail': 'https://serpapi.com/searches/6606ab095f2203b7ae8d7f5b/images/7db95bf161919ea541824bea9924d255b388ee4b94430297.jpeg'}, {'title': 'Leonardo DiCaprio sparks engagement rumors as girlfriend Vittoria Ceretti wears ring', 'link': 'https://www.marca.com/en/lifestyle/celebrities/2024/03/27/66047769ca47418c0e8b4586.html', 'source': 'Marca.com', 'date': '1 day ago', 'thumbnail': 'https://serpapi.com/searches/6606ab095f2203b7ae8d7f5b/images/7db95bf161919ea53904a654108da52820108789c1eba021.jpeg'}, {'title': 'Leonardo DiCaprio Sparks Engagement Rumors As Girlfriend Flaunts New NDA', 'link': 'https://www.theonion.com/leonardo-dicaprio-sparks-engagement-rumors-as-girlfrien-1851372103', 'source': 'The Onion', 'date': '17 hours ago', 'thumbnail': 'https://serpapi.com/searches/6606ab095f2203b7ae8d7f5b/images/7db95bf161919ea527cbadd3e3a65364753b1fe0e1644e19.jpeg'}]\u001B[0m\n",
      "Thought:\u001B[32;1m\u001B[1;3m Based on the search results, it seems like Leonardo DiCaprio's current girlfriend is model Vittoria Ceretti.\n",
      "Action: Calculator\n",
      "Action Input: 25^0.43\u001B[0m\n",
      "Observation: \u001B[33;1m\u001B[1;3mAnswer: 3.991298452658078\u001B[0m\n",
      "Thought:\u001B[32;1m\u001B[1;3m This is the age of Vittoria Ceretti, Leonardo DiCaprio's girlfriend.\n",
      "Final Answer: 3.991298452658078\u001B[0m\n",
      "\n",
      "\u001B[1m> Finished chain.\u001B[0m\n"
     ]
    },
    {
     "data": {
      "text/plain": "'3.991298452658078'"
     },
     "execution_count": 9,
     "metadata": {},
     "output_type": "execute_result"
    }
   ],
   "source": [
    "agent.run(\"谁是莱昂纳多·迪卡普里奥的女朋友？她现在年龄的0.43次方是多少?\")"
   ],
   "metadata": {
    "collapsed": false,
    "ExecuteTime": {
     "end_time": "2024-03-29T11:50:59.530688400Z",
     "start_time": "2024-03-29T11:50:30.210495300Z"
    }
   },
   "id": "52c7fd4ebdf9f425",
   "execution_count": 9
  },
  {
   "cell_type": "code",
   "outputs": [],
   "source": [],
   "metadata": {
    "collapsed": false
   },
   "id": "bad1d32af38c87fc"
  },
  {
   "cell_type": "markdown",
   "source": [
    "使用聊天模型(GPT-4)"
   ],
   "metadata": {
    "collapsed": false
   },
   "id": "e503b910460133d1"
  },
  {
   "cell_type": "code",
   "outputs": [
    {
     "name": "stdout",
     "output_type": "stream",
     "text": [
      "\n",
      "\n",
      "\u001B[1m> Entering new AgentExecutor chain...\u001B[0m\n",
      "\u001B[32;1m\u001B[1;3mThought: The first part of the question is about Leonardo DiCaprio's girlfriend, which I can search for. The second part involves a mathematical calculation that I can perform using a calculator.\n",
      "\n",
      "Action:\n",
      "```\n",
      "{\n",
      "  \"action\": \"Search\",\n",
      "  \"action_input\": \"Leonardo DiCaprio current girlfriend\"\n",
      "}\n",
      "```\u001B[0m\n",
      "Observation: \u001B[36;1m\u001B[1;3mVittoria Ceretti\u001B[0m\n",
      "Thought:\u001B[32;1m\u001B[1;3m```\n",
      "{\n",
      "  \"action\": \"Calculator\",\n",
      "  \"action_input\": \"0.43 ^ 2\"\n",
      "}\n",
      "```\u001B[0m\n",
      "Observation: \u001B[33;1m\u001B[1;3mAnswer: 0.18489999999999998\u001B[0m\n",
      "Thought:\u001B[32;1m\u001B[1;3mFinal Answer: Vittoria Ceretti, 0.1849\u001B[0m\n",
      "\n",
      "\u001B[1m> Finished chain.\u001B[0m\n"
     ]
    },
    {
     "data": {
      "text/plain": "'Vittoria Ceretti, 0.1849'"
     },
     "execution_count": 10,
     "metadata": {},
     "output_type": "execute_result"
    }
   ],
   "source": [
    "from langchain_openai import ChatOpenAI\n",
    "\n",
    "chat_model = ChatOpenAI(model=\"gpt-3.5-turbo\", temperature=0)\n",
    "agent = initialize_agent(tools, chat_model, agent=AgentType.CHAT_ZERO_SHOT_REACT_DESCRIPTION, verbose=True)\n",
    "agent.run(\"谁是莱昂纳多·迪卡普里奥的女朋友？她现在年龄的0.43次方是多少?\")"
   ],
   "metadata": {
    "collapsed": false,
    "ExecuteTime": {
     "end_time": "2024-03-29T11:55:04.054776900Z",
     "start_time": "2024-03-29T11:54:52.682394100Z"
    }
   },
   "id": "f8e5f3fdde98c5e2",
   "execution_count": 10
  }
 ],
 "metadata": {
  "kernelspec": {
   "display_name": "Python 3",
   "language": "python",
   "name": "python3"
  },
  "language_info": {
   "codemirror_mode": {
    "name": "ipython",
    "version": 2
   },
   "file_extension": ".py",
   "mimetype": "text/x-python",
   "name": "python",
   "nbconvert_exporter": "python",
   "pygments_lexer": "ipython2",
   "version": "2.7.6"
  }
 },
 "nbformat": 4,
 "nbformat_minor": 5
}
