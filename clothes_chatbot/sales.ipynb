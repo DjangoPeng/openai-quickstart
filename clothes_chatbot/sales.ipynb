{
 "cells": [
  {
   "cell_type": "markdown",
   "id": "69032b4b-b031-4020-beb0-e8dfd22b660e",
   "metadata": {},
   "source": [
    "# LangChain 实战：服装销售聊天机器人"
   ]
  },
  {
   "cell_type": "markdown",
   "id": "0f3e2d5a-c2ff-4faf-b153-d1751c25fae0",
   "metadata": {
    "tags": []
   },
   "source": [
    "## 使用 GPT-3.5-turbo 构造销售话术数据\n",
    "\n",
    "ChatGPT 分享链接：https://chat.openai.com/share/a990d5d9-bad6-4329-b7b7-a90219d39e6c\n",
    "\n",
    "\n",
    "使用 ChatGPT 构造销售数据的 Prompt 示例：\n",
    "\n",
    "```\n",
    "你是中国顶级的服装销售，现在培训职场新人，请给出100条实用的销售话术。\n",
    "\n",
    "每条销售话术以如下格式给出：\n",
    "[客户问题]\n",
    "[销售回答]\n",
    "\n",
    "```\n",
    "\n",
    "GPT-3.5-turbo 回复结果：\n",
    "\n",
    "```\n",
    "1. [客户问题] “这件衬衫看起来不错，但我不确定适不适合我。”\n",
    "   [销售回答] “我完全理解您的担忧。我们提供免费试穿服务，您可以试试这款衬衫，确保它与您的体型和风格完美匹配。”\n",
    "\n",
    "2. [客户问题] “这条裤子的价格有点高，你们能不能给个折扣？”\n",
    "   [销售回答] “我明白您关注价格的考量。但是考虑到我们的产品质量和设计，这个价格实际上是非常合理的。不过，如果您对其他款式感兴趣，我可以帮您找到一些更优惠的选择。”\n",
    "\n",
    "3. [客户问题] “我担心这件外套的质量不够好。”\n",
    "   [销售回答] “我们的外套采用了优质的材料，经过严格的质量控制。此外，我们还提供了一年的质量保证，如果您在使用过程中有任何问题，我们都会为您提供全额退款或换货。”\n",
    "\n",
    "4. [客户问题] “我对这款服装不是很了解，你能帮我介绍一下吗？”\n",
    "   [销售回答] “当然！这款服装是我们最畅销的产品之一。它采用了流行的设计和舒适的面料，非常适合各种场合穿着。让我向您详细介绍一下它的特点和穿着方式。”\n",
    "\n",
    "5. [客户问题] “我想要一套适合商务场合穿着的西装。”\n",
    "   [销售回答] “绝对没问题！我们有各种款式和颜色的西装供您选择。您想要传统的款式还是更时尚的设计？您的身形和偏好是什么？让我们一起找到最适合您的那一款。”\n",
    "\n",
    "6. [客户问题] “我对您们的退换货政策有些疑问。”\n",
    "   [销售回答] “我们有非常灵活的退换货政策，您可以放心购买。如果您对商品不满意或尺码不合适，我们接受无条件退货并提供全额退款。如果您更换其他商品，我们也会尽力满足您的需求。”\n",
    "\n",
    "7. [客户问题] “我对这款衣服的尺码是否准确有所疑问。”\n",
    "   [销售回答] “我们的尺码通常很准确，但每个品牌的尺码标准可能略有不同。为了确保您选择的尺码合适，我建议您测量一下自己的身体尺寸，或者您也可以在试穿时请我们的专业顾问为您提供帮助。”\n",
    "\n",
    "8. [客户问题] “我在其他地方看到了类似的产品价格更低，你们能否匹价？”\n",
    "   [销售回答] “我们真诚地感谢您对我们产品的关注，并理解您对价格的考量。尽管我们竭尽所能确保提供最具竞争力的价格，但我们也重视产品质量和服务。我们会尽最大努力为您提供更好的购物体验，包括提供专业的服务和优质的售后支持。”\n",
    "\n",
    "9. [客户问题] “我不太确定这件衣服的颜色是否适合我。”\n",
    "   [销售回答] “颜色是非常个人化的选择，我完全理解您的顾虑。如果您愿意，我可以为您提供一些搭配建议，或者您也可以试穿这件衣服，看看它在不同光线下的效果如何。”\n",
    "\n",
    "10. [客户问题] “我希望购买一套适合夏季运动的运动服。”\n",
    "    [销售回答] “夏季运动服需要轻薄透气，同时具备良好的排汗性能。我们有多种款式和材质的运动服可供选择，您可以根据您的喜好和运动类型来挑选。此外，我们的运动服还有防紫外线和快干功能，确保您在运动中保持舒适。”\n",
    "```\n",
    "\n",
    "\n",
    "## 使用 Document Transformers 模块来处理原始数据\n",
    "\n",
    "\n",
    "将 ChatGPT 生成的结果保存到 [real_estate_sales_data.txt](real_estate_sales_data.txt) 文件中"
   ]
  },
  {
   "cell_type": "code",
   "execution_count": 1,
   "id": "efcee928-b9f4-4e4a-b9fb-f6cbee21b642",
   "metadata": {},
   "outputs": [],
   "source": [
    "with open(\"real_estate_sales_data.txt\",encoding = 'utf-8') as f:\n",
    "    real_estate_sales = f.read()"
   ]
  },
  {
   "cell_type": "markdown",
   "id": "a9119556-d2e3-4edf-be16-15837da156f1",
   "metadata": {
    "tags": []
   },
   "source": [
    "### 使用 CharacterTextSplitter 来进行文本分割\n",
    "\n",
    "- 基于单字符来进行文本分割（separator）\n",
    "- 基于字符数来决定文本块长度（chunk_size）\n",
    "\n",
    "参考示例：\n",
    "\n",
    "```python\n",
    "from langchain.text_splitter import CharacterTextSplitter\n",
    "text_splitter = CharacterTextSplitter(        \n",
    "    separator = \"\\n\\n\",\n",
    "    chunk_size = 1000,\n",
    "    chunk_overlap  = 200,\n",
    "    length_function = len,\n",
    "    is_separator_regex = False,\n",
    ")\n",
    "```\n"
   ]
  },
  {
   "cell_type": "code",
   "execution_count": 2,
   "id": "dbe535b8-2bd8-4c31-91d7-eba8aa61b3ef",
   "metadata": {},
   "outputs": [],
   "source": [
    "from langchain.text_splitter import CharacterTextSplitter"
   ]
  },
  {
   "cell_type": "code",
   "execution_count": 3,
   "id": "a4f30d9b-9fc6-4860-a497-0aa8220b9284",
   "metadata": {},
   "outputs": [],
   "source": [
    "text_splitter = CharacterTextSplitter(        \n",
    "    separator = r'\\d+\\.',\n",
    "    chunk_size = 200,\n",
    "    chunk_overlap  = 0,\n",
    "    length_function = len,\n",
    "    is_separator_regex = True,\n",
    ")"
   ]
  },
  {
   "cell_type": "code",
   "execution_count": 4,
   "id": "530f3172-17a5-4924-ad17-284fbca422ae",
   "metadata": {},
   "outputs": [],
   "source": [
    "docs = text_splitter.create_documents([real_estate_sales])"
   ]
  },
  {
   "cell_type": "code",
   "execution_count": 5,
   "id": "3956ec36-706e-4f43-88fc-d704f2984290",
   "metadata": {},
   "outputs": [
    {
     "data": {
      "text/plain": [
       "Document(page_content='[客户问题] “这件衬衫看起来不错，但我不确定适不适合我。”\\n   [销售回答] “我完全理解您的担忧。我们提供免费试穿服务，您可以试试这款衬衫，确保它与您的体型和风格完美匹配。”')"
      ]
     },
     "execution_count": 5,
     "metadata": {},
     "output_type": "execute_result"
    }
   ],
   "source": [
    "docs[0]"
   ]
  },
  {
   "cell_type": "code",
   "execution_count": 6,
   "id": "73b2d47a-27ae-4cd4-a72a-3809b4c22bff",
   "metadata": {},
   "outputs": [
    {
     "data": {
      "text/plain": [
       "100"
      ]
     },
     "execution_count": 6,
     "metadata": {},
     "output_type": "execute_result"
    }
   ],
   "source": [
    "len(docs)"
   ]
  },
  {
   "cell_type": "markdown",
   "id": "e4617858-ad9c-42eb-a4c3-6bfb7108cdd2",
   "metadata": {},
   "source": [
    "### 使用 Faiss 作为向量数据库，持久化存储房产销售 问答对（QA-Pair）"
   ]
  },
  {
   "cell_type": "code",
   "execution_count": 7,
   "id": "508c2ab2-e187-424f-a43c-ca3d3b1a0550",
   "metadata": {},
   "outputs": [
    {
     "name": "stderr",
     "output_type": "stream",
     "text": [
      "C:\\Users\\ckc\\.conda\\envs\\langchain\\Lib\\site-packages\\langchain_core\\_api\\deprecation.py:117: LangChainDeprecationWarning: The class `langchain_community.embeddings.openai.OpenAIEmbeddings` was deprecated in langchain-community 0.0.9 and will be removed in 0.2.0. An updated version of the class exists in the langchain-openai package and should be used instead. To use it run `pip install -U langchain-openai` and import as `from langchain_openai import OpenAIEmbeddings`.\n",
      "  warn_deprecated(\n"
     ]
    }
   ],
   "source": [
    "from langchain.embeddings.openai import OpenAIEmbeddings\n",
    "from langchain.text_splitter import CharacterTextSplitter\n",
    "from langchain.vectorstores import FAISS\n",
    "\n",
    "db = FAISS.from_documents(docs, OpenAIEmbeddings())"
   ]
  },
  {
   "cell_type": "code",
   "execution_count": 8,
   "id": "250e0873-95e2-4372-98a5-68c0feb304bb",
   "metadata": {},
   "outputs": [],
   "source": [
    "query = \"外套质量怎么样\""
   ]
  },
  {
   "cell_type": "code",
   "execution_count": 9,
   "id": "0d18fcc6-c2be-434b-b8de-9648ac6f83f4",
   "metadata": {},
   "outputs": [],
   "source": [
    "answer_list = db.similarity_search(query)"
   ]
  },
  {
   "cell_type": "code",
   "execution_count": 10,
   "id": "e689667e-7a45-40d6-9eae-4e52cbc7daab",
   "metadata": {},
   "outputs": [
    {
     "name": "stdout",
     "output_type": "stream",
     "text": [
      "[客户问题] “我担心这件外套的质量不够好。”\n",
      "   [销售回答] “我们的外套采用了优质的材料，经过严格的质量控制。此外，我们还提供了一年的质量保证，如果您在使用过程中有任何问题，我们都会为您提供全额退款或换货。”\n",
      "\n",
      "[客户问题] “我对这个款式的外套的保暖性有些疑问，你能介绍一下吗？”\n",
      "    [销售回答] “这款外套采用了保暖性能较好的面料，内部可能还有保暖填充物，确保在寒冷的天气中保持温暖。您也可以选择适合的内衬来增加保暖效果，让您在冬季穿着更加舒适。”\n",
      "\n",
      "[客户问题] “我对这个款式的衣服的质地有些担心，你能介绍一下吗？”\n",
      "    [销售回答] “这款衣服采用了优质的面料，手感柔软舒适，具有良好的透气性和吸湿排汗性能，穿着舒适且质地优良。我们也提供了清洗说明，让您更好地保养衣服。”\n",
      "\n",
      "[客户问题] “我对这种款式的外套的适用季节有些不确定，你能给我介绍一下吗？”\n",
      "    [销售回答] “这款外套通常适合春秋季穿着，具有保暖和防风的功能，适合温度稍微凉爽的季节。如果您对适用季节有特殊要求，我们也可以为您推荐适合的款式。”\n",
      "\n"
     ]
    }
   ],
   "source": [
    "for ans in answer_list:\n",
    "    print(ans.page_content + \"\\n\")"
   ]
  },
  {
   "cell_type": "code",
   "execution_count": 11,
   "id": "a6cc47bf-1566-472f-84d2-a46bd634907c",
   "metadata": {},
   "outputs": [],
   "source": [
    "db.save_local(\"real_estates_sale\")"
   ]
  },
  {
   "cell_type": "markdown",
   "id": "0d5323e5-03fa-4c1c-b896-3ccc28af1857",
   "metadata": {},
   "source": [
    "### 使用 retriever 从向量数据库中获取结果\n",
    "\n",
    "#### 使用参数 `k` 指定返回结果数量\n"
   ]
  },
  {
   "cell_type": "code",
   "execution_count": 12,
   "id": "17f051c9-8676-48d1-a9a4-e69b52630faf",
   "metadata": {},
   "outputs": [],
   "source": [
    "# 实例化一个 TopK Retriever\n",
    "topK_retriever = db.as_retriever(search_kwargs={\"k\": 3})"
   ]
  },
  {
   "cell_type": "code",
   "execution_count": 13,
   "id": "e33024db-ca7b-4d68-9b0e-c31c15ded57d",
   "metadata": {},
   "outputs": [
    {
     "data": {
      "text/plain": [
       "VectorStoreRetriever(tags=['FAISS', 'OpenAIEmbeddings'], vectorstore=<langchain_community.vectorstores.faiss.FAISS object at 0x000002793D4BC210>, search_kwargs={'k': 3})"
      ]
     },
     "execution_count": 13,
     "metadata": {},
     "output_type": "execute_result"
    }
   ],
   "source": [
    "topK_retriever"
   ]
  },
  {
   "cell_type": "code",
   "execution_count": 14,
   "id": "7efb1414-859f-4818-bacd-e1e2edf34b95",
   "metadata": {},
   "outputs": [
    {
     "name": "stdout",
     "output_type": "stream",
     "text": [
      "[客户问题] “我担心这件外套的质量不够好。”\n",
      "   [销售回答] “我们的外套采用了优质的材料，经过严格的质量控制。此外，我们还提供了一年的质量保证，如果您在使用过程中有任何问题，我们都会为您提供全额退款或换货。”\n",
      "\n",
      "[客户问题] “我对这个款式的外套的保暖性有些疑问，你能介绍一下吗？”\n",
      "    [销售回答] “这款外套采用了保暖性能较好的面料，内部可能还有保暖填充物，确保在寒冷的天气中保持温暖。您也可以选择适合的内衬来增加保暖效果，让您在冬季穿着更加舒适。”\n",
      "\n",
      "[客户问题] “我对这个款式的衣服的质地有些担心，你能介绍一下吗？”\n",
      "    [销售回答] “这款衣服采用了优质的面料，手感柔软舒适，具有良好的透气性和吸湿排汗性能，穿着舒适且质地优良。我们也提供了清洗说明，让您更好地保养衣服。”\n",
      "\n"
     ]
    }
   ],
   "source": [
    "docs = topK_retriever.get_relevant_documents(query)\n",
    "for doc in docs:\n",
    "    print(doc.page_content + \"\\n\")"
   ]
  },
  {
   "cell_type": "code",
   "execution_count": 15,
   "id": "a3c4b62d-6f8f-461b-a4fb-41c8a404b831",
   "metadata": {},
   "outputs": [],
   "source": [
    "docs = topK_retriever.get_relevant_documents(\"有没有适合约会的连衣裙\")"
   ]
  },
  {
   "cell_type": "code",
   "execution_count": 16,
   "id": "04cca3d7-23d9-491f-8350-faeb19861dec",
   "metadata": {},
   "outputs": [
    {
     "name": "stdout",
     "output_type": "stream",
     "text": [
      "[客户问题] “我想要购买一些适合约会穿着的服装，你有什么推荐吗？”\n",
      "    [销售回答] “约会穿着需要既有个性又具有魅力，我们有多款适合约会穿着的服装，如性感连衣裙、时尚牛仔裤、迷人裙装等，让您在约会中散发迷人魅力。”\n",
      "\n",
      "[客户问题] “我是个经常参加社交活动的人，需要一些适合社交场合穿着的服装。”\n",
      "    [销售回答] “社交场合需要着装得体且引人注目，我们有多款适合社交场合穿着的服装，无论是晚礼服、派对装还是优雅连衣裙，都能让您在社交活动中脱颖而出。”\n",
      "\n",
      "[客户问题] “我希望购买一些适合参加婚礼穿着的礼服，有什么推荐吗？”\n",
      "    [销售回答] “参加婚礼需要庄重得体的礼服，我们有多款适合参加婚礼穿着的礼服，如优雅晚礼服、精致长裙、高贵连衣裙等，让您在婚礼上成为焦点。”\n",
      "\n"
     ]
    }
   ],
   "source": [
    "for doc in docs:\n",
    "    print(doc.page_content + \"\\n\")"
   ]
  },
  {
   "cell_type": "markdown",
   "id": "b335c9e5-bc01-4a47-916c-03bec0e7a839",
   "metadata": {},
   "source": [
    "#### 使用 similarity_score_threshold 设置阈值，提升结果的相关性质量"
   ]
  },
  {
   "cell_type": "code",
   "execution_count": 17,
   "id": "b1298956-6cf3-4a68-a3c2-a3149f64f156",
   "metadata": {},
   "outputs": [],
   "source": [
    "# 实例化一个 similarity_score_threshold Retriever\n",
    "retriever = db.as_retriever(\n",
    "    search_type=\"similarity_score_threshold\",\n",
    "    search_kwargs={\"score_threshold\": 0.8}\n",
    ")"
   ]
  },
  {
   "cell_type": "code",
   "execution_count": 18,
   "id": "d61167de-72ed-4618-a2e1-5df04784a3bc",
   "metadata": {
    "tags": []
   },
   "outputs": [
    {
     "name": "stdout",
     "output_type": "stream",
     "text": [
      "[客户问题] “我担心这件外套的质量不够好。”\n",
      "   [销售回答] “我们的外套采用了优质的材料，经过严格的质量控制。此外，我们还提供了一年的质量保证，如果您在使用过程中有任何问题，我们都会为您提供全额退款或换货。”\n",
      "\n",
      "[客户问题] “我对这个款式的外套的保暖性有些疑问，你能介绍一下吗？”\n",
      "    [销售回答] “这款外套采用了保暖性能较好的面料，内部可能还有保暖填充物，确保在寒冷的天气中保持温暖。您也可以选择适合的内衬来增加保暖效果，让您在冬季穿着更加舒适。”\n",
      "\n"
     ]
    }
   ],
   "source": [
    "docs = retriever.get_relevant_documents(query)\n",
    "for doc in docs:\n",
    "    print(doc.page_content + \"\\n\")"
   ]
  },
  {
   "cell_type": "code",
   "execution_count": null,
   "id": "548d1b52-6fa2-46d6-9218-908db572f380",
   "metadata": {},
   "outputs": [],
   "source": []
  },
  {
   "cell_type": "markdown",
   "id": "c31344ce-f952-4604-b700-fdbb34da1e28",
   "metadata": {},
   "source": [
    "### 提取向量数据库中的`销售回答`"
   ]
  },
  {
   "cell_type": "code",
   "execution_count": 19,
   "id": "25768463-da65-4762-978d-51c0c3a9c24b",
   "metadata": {},
   "outputs": [],
   "source": [
    "docs = retriever.get_relevant_documents(query)"
   ]
  },
  {
   "cell_type": "code",
   "execution_count": 20,
   "id": "4838d3da-dca3-4c31-80da-cec75760a833",
   "metadata": {},
   "outputs": [
    {
     "data": {
      "text/plain": [
       "'[客户问题] “我担心这件外套的质量不够好。”\\n   [销售回答] “我们的外套采用了优质的材料，经过严格的质量控制。此外，我们还提供了一年的质量保证，如果您在使用过程中有任何问题，我们都会为您提供全额退款或换货。”'"
      ]
     },
     "execution_count": 20,
     "metadata": {},
     "output_type": "execute_result"
    }
   ],
   "source": [
    "docs[0].page_content"
   ]
  },
  {
   "cell_type": "code",
   "execution_count": 21,
   "id": "1ba30232-f468-4102-b70c-02c8b74da43d",
   "metadata": {},
   "outputs": [
    {
     "data": {
      "text/plain": [
       "['[客户问题] “我担心这件外套的质量不够好。”\\n   ',\n",
       " '“我们的外套采用了优质的材料，经过严格的质量控制。此外，我们还提供了一年的质量保证，如果您在使用过程中有任何问题，我们都会为您提供全额退款或换货。”']"
      ]
     },
     "execution_count": 21,
     "metadata": {},
     "output_type": "execute_result"
    }
   ],
   "source": [
    "docs[0].page_content.split(\"[销售回答] \")"
   ]
  },
  {
   "cell_type": "code",
   "execution_count": 22,
   "id": "bda8eb0c-eb1f-47b2-91ab-4c94ff71c3db",
   "metadata": {},
   "outputs": [],
   "source": [
    "ans = docs[0].page_content.split(\"[销售回答] \")[-1]"
   ]
  },
  {
   "cell_type": "code",
   "execution_count": 23,
   "id": "917a3b6c-3149-42e2-b7b6-abebd94b7f72",
   "metadata": {},
   "outputs": [
    {
     "data": {
      "text/plain": [
       "'“我们的外套采用了优质的材料，经过严格的质量控制。此外，我们还提供了一年的质量保证，如果您在使用过程中有任何问题，我们都会为您提供全额退款或换货。”'"
      ]
     },
     "execution_count": 23,
     "metadata": {},
     "output_type": "execute_result"
    }
   ],
   "source": [
    "ans"
   ]
  },
  {
   "cell_type": "markdown",
   "id": "b36b61a5-156d-4546-bbd1-8a983e94676b",
   "metadata": {},
   "source": [
    "#### 尝试各种问题"
   ]
  },
  {
   "cell_type": "code",
   "execution_count": 24,
   "id": "c311a656-e571-45d6-8690-88e4be2c2a65",
   "metadata": {},
   "outputs": [],
   "source": [
    "from typing import List\n",
    "\n",
    "def sales(query: str, score_threshold: float=0.8) -> List[str]:\n",
    "    retriever = db.as_retriever(search_type=\"similarity_score_threshold\", search_kwargs={\"score_threshold\": score_threshold})    \n",
    "    docs = retriever.get_relevant_documents(query)\n",
    "    ans_list = [doc.page_content.split(\"[销售回答] \")[-1] for doc in docs]\n",
    "\n",
    "    return ans_list"
   ]
  },
  {
   "cell_type": "code",
   "execution_count": 25,
   "id": "2f4c6c08-b97c-4727-9aa1-a474d85a11e4",
   "metadata": {},
   "outputs": [
    {
     "name": "stdout",
     "output_type": "stream",
     "text": [
      "['“运动健身需要舒适透气且具有弹性的服装，我们有多款适合运动健身穿着的服装，如运动上衣、运动裤、运动内衣等，让您在运动中保持舒适和自由。”', '“运动健身需要舒适透气的服装，同时具备良好的伸缩性和吸汗排湿功能。我们有各种款式的运动服装，包括运动T恤、运动裤、运动文胸等，保证您在运动中保持舒适和自信。”', '“我们有多款适合运动休闲穿着的服装，如运动T恤、休闲裤、运动套装等，舒适透气，让您在运动和休闲时都能保持时尚和舒适。”', '“夏季运动服需要轻薄透气，同时具备良好的排汗性能。我们有多种款式和材质的运动服可供选择，您可以根据您的喜好和运动类型来挑选。此外，我们的运动服还有防紫外线和快干功能，确保您在运动中保持舒适。”']\n"
     ]
    }
   ],
   "source": [
    "query = \"我想要运动套装\"\n",
    "\n",
    "print(sales(query))"
   ]
  },
  {
   "cell_type": "code",
   "execution_count": 26,
   "id": "11e3d8b6-839f-4b2f-b519-841e0271f95b",
   "metadata": {},
   "outputs": [
    {
     "name": "stdout",
     "output_type": "stream",
     "text": [
      "['“运动健身需要舒适透气且具有弹性的服装，我们有多款适合运动健身穿着的服装，如运动上衣、运动裤、运动内衣等，让您在运动中保持舒适和自由。”', '“运动健身需要舒适透气的服装，同时具备良好的伸缩性和吸汗排湿功能。我们有各种款式的运动服装，包括运动T恤、运动裤、运动文胸等，保证您在运动中保持舒适和自信。”', '“我们有多款适合运动休闲穿着的服装，如运动T恤、休闲裤、运动套装等，舒适透气，让您在运动和休闲时都能保持时尚和舒适。”', '“夏季运动服需要轻薄透气，同时具备良好的排汗性能。我们有多种款式和材质的运动服可供选择，您可以根据您的喜好和运动类型来挑选。此外，我们的运动服还有防紫外线和快干功能，确保您在运动中保持舒适。”']\n"
     ]
    }
   ],
   "source": [
    "print(sales(query, 0.75))"
   ]
  },
  {
   "cell_type": "code",
   "execution_count": 27,
   "id": "fc5b030a-ae6f-4d42-9577-1420c78aecb1",
   "metadata": {},
   "outputs": [
    {
     "name": "stderr",
     "output_type": "stream",
     "text": [
      "C:\\Users\\ckc\\.conda\\envs\\langchain\\Lib\\site-packages\\langchain_core\\vectorstores.py:342: UserWarning: No relevant docs were retrieved using the relevance score threshold 0.8\n",
      "  warnings.warn(\n"
     ]
    },
    {
     "name": "stdout",
     "output_type": "stream",
     "text": [
      "score:0.8 ans: []\n",
      "\n"
     ]
    },
    {
     "name": "stderr",
     "output_type": "stream",
     "text": [
      "C:\\Users\\ckc\\.conda\\envs\\langchain\\Lib\\site-packages\\langchain_core\\vectorstores.py:342: UserWarning: No relevant docs were retrieved using the relevance score threshold 0.75\n",
      "  warnings.warn(\n"
     ]
    },
    {
     "name": "stdout",
     "output_type": "stream",
     "text": [
      "score:0.75 ans: []\n",
      "\n",
      "score:0.5 ans: ['“我们真诚地感谢您对我们产品的关注，并理解您对价格的考量。尽管我们竭尽所能确保提供最具竞争力的价格，但我们也重视产品质量和服务。我们会尽最大努力为您提供更好的购物体验，包括提供专业的服务和优质的售后支持。”', '“我们的产品价格根据款式和材质的不同而有所差异，价格范围也比较灵活。我们有适合不同消费水平的产品线，您可以根据自己的需求和预算选择适合的产品。”', '“我明白您关注价格的考量。但是考虑到我们的产品质量和设计，这个价格实际上是非常合理的。不过，如果您对其他款式感兴趣，我可以帮您找到一些更优惠的选择。”', '“我们的外套采用了优质的材料，经过严格的质量控制。此外，我们还提供了一年的质量保证，如果您在使用过程中有任何问题，我们都会为您提供全额退款或换货。”']\n",
      "\n"
     ]
    }
   ],
   "source": [
    "query = \"价格200万以内\"\n",
    "\n",
    "print(f\"score:0.8 ans: {sales(query)}\\n\")\n",
    "print(f\"score:0.75 ans: {sales(query, 0.75)}\\n\")\n",
    "print(f\"score:0.5 ans: {sales(query, 0.5)}\\n\")"
   ]
  },
  {
   "cell_type": "markdown",
   "id": "9e26e6d7-259b-4ecf-9c72-027befba4e3b",
   "metadata": {},
   "source": [
    "#### 当向量数据库中没有合适答案时，使用大语言模型能力"
   ]
  },
  {
   "cell_type": "code",
   "execution_count": 28,
   "id": "9142feb4-980a-4142-b367-1401021dceef",
   "metadata": {},
   "outputs": [],
   "source": [
    "from langchain.chains import RetrievalQA\n",
    "from langchain_openai import ChatOpenAI\n",
    "\n",
    "llm = ChatOpenAI(model_name=\"gpt-3.5-turbo\", temperature=0.5)\n",
    "qa_chain = RetrievalQA.from_chain_type(llm,\n",
    "                                       retriever=db.as_retriever(search_type=\"similarity_score_threshold\",\n",
    "                                                                 search_kwargs={\"score_threshold\": 0.8}))"
   ]
  },
  {
   "cell_type": "code",
   "execution_count": 29,
   "id": "d281b560-54bb-4a25-a1dc-b23874361654",
   "metadata": {},
   "outputs": [
    {
     "name": "stderr",
     "output_type": "stream",
     "text": [
      "C:\\Users\\ckc\\.conda\\envs\\langchain\\Lib\\site-packages\\langchain_core\\_api\\deprecation.py:117: LangChainDeprecationWarning: The function `__call__` was deprecated in LangChain 0.1.0 and will be removed in 0.2.0. Use invoke instead.\n",
      "  warn_deprecated(\n"
     ]
    },
    {
     "data": {
      "text/plain": [
       "{'query': '你们的衣服舒适吗',\n",
       " 'result': '是的，我们有多款舒适度较高的服装，如棉质T恤、羊毛衫、弹力裤等，面料柔软舒适，剪裁合身，让您在穿着时感到舒适自在。'}"
      ]
     },
     "execution_count": 29,
     "metadata": {},
     "output_type": "execute_result"
    }
   ],
   "source": [
    "qa_chain({\"query\": \"你们的衣服舒适吗\"})"
   ]
  },
  {
   "cell_type": "code",
   "execution_count": 30,
   "id": "c6a30dcc-fa6b-4282-935c-b07902746e19",
   "metadata": {},
   "outputs": [
    {
     "name": "stderr",
     "output_type": "stream",
     "text": [
      "C:\\Users\\ckc\\.conda\\envs\\langchain\\Lib\\site-packages\\langchain_core\\vectorstores.py:342: UserWarning: No relevant docs were retrieved using the relevance score threshold 0.8\n",
      "  warnings.warn(\n"
     ]
    },
    {
     "data": {
      "text/plain": [
       "{'query': '你们的西装怎么样', 'result': '很抱歉，我不清楚你在问哪家公司的西装。你可以提供更多细节吗？'}"
      ]
     },
     "execution_count": 30,
     "metadata": {},
     "output_type": "execute_result"
    }
   ],
   "source": [
    "qa_chain({\"query\": \"你们的西装怎么样\"})"
   ]
  },
  {
   "cell_type": "code",
   "execution_count": 31,
   "id": "9da44bd6-02ef-4fb6-8e9e-7c99aeba483a",
   "metadata": {},
   "outputs": [
    {
     "name": "stdout",
     "output_type": "stream",
     "text": [
      "['“我们有非常灵活的退换货政策，您可以放心购买。如果您对商品不满意或尺码不合适，我们接受无条件退货并提供全额退款。如果您更换其他商品，我们也会尽力满足您的需求。”']\n"
     ]
    }
   ],
   "source": [
    "print(sales(\"你们的退货服务怎么样\"))"
   ]
  },
  {
   "cell_type": "code",
   "execution_count": null,
   "id": "9764bb10-44ed-47c9-a351-a68f4f7d4f44",
   "metadata": {},
   "outputs": [],
   "source": []
  },
  {
   "cell_type": "markdown",
   "id": "0a0647e8-5b41-4c93-87c2-3240ec558717",
   "metadata": {},
   "source": [
    "## 加载 FAISS 向量数据库已有结果"
   ]
  },
  {
   "cell_type": "code",
   "execution_count": 32,
   "id": "913edd04-37ea-4c3f-9346-086aeb0ab447",
   "metadata": {},
   "outputs": [],
   "source": [
    "from langchain_openai import OpenAIEmbeddings\n",
    "from langchain.vectorstores import FAISS\n",
    "\n",
    "db = FAISS.load_local(\"real_estates_sale\", OpenAIEmbeddings(),allow_dangerous_deserialization = True)"
   ]
  },
  {
   "cell_type": "code",
   "execution_count": 33,
   "id": "77d8eee4-6383-4b4a-9737-95ea9fc53b87",
   "metadata": {},
   "outputs": [
    {
     "name": "stderr",
     "output_type": "stream",
     "text": [
      "C:\\Users\\ckc\\.conda\\envs\\langchain\\Lib\\site-packages\\langchain_core\\_api\\deprecation.py:117: LangChainDeprecationWarning: The class `langchain_community.chat_models.openai.ChatOpenAI` was deprecated in langchain-community 0.0.10 and will be removed in 0.2.0. An updated version of the class exists in the langchain-openai package and should be used instead. To use it run `pip install -U langchain-openai` and import as `from langchain_openai import ChatOpenAI`.\n",
      "  warn_deprecated(\n"
     ]
    }
   ],
   "source": [
    "from langchain.chains import RetrievalQA\n",
    "from langchain.chat_models import ChatOpenAI\n",
    "\n",
    "llm = ChatOpenAI(model_name=\"gpt-3.5-turbo\", temperature=0.5)\n",
    "qa_chain = RetrievalQA.from_chain_type(llm,\n",
    "                                       retriever=db.as_retriever(search_type=\"similarity_score_threshold\",\n",
    "                                                                 search_kwargs={\"score_threshold\": 0.8}))"
   ]
  },
  {
   "cell_type": "code",
   "execution_count": 34,
   "id": "5dfac197-cadb-47d7-8cbe-1b07a83fc8e1",
   "metadata": {},
   "outputs": [
    {
     "data": {
      "text/plain": [
       "{'query': '你们的运动装舒适吗',\n",
       " 'result': '根据提供的信息，我们的运动装设计舒适透气，具有良好的伸缩性和吸汗排湿功能，让您在运动中保持舒适和自由。'}"
      ]
     },
     "execution_count": 34,
     "metadata": {},
     "output_type": "execute_result"
    }
   ],
   "source": [
    "qa_chain({\"query\": \"你们的运动装舒适吗\"})"
   ]
  },
  {
   "cell_type": "code",
   "execution_count": 35,
   "id": "fc393afc-06d3-4483-bd24-efe000ef5f2a",
   "metadata": {},
   "outputs": [],
   "source": [
    "# 输出内部 Chain 的日志\n",
    "qa_chain.combine_documents_chain.verbose = True"
   ]
  },
  {
   "cell_type": "code",
   "execution_count": 36,
   "id": "013c313a-5e7c-48d1-8ed4-eee96e50a99c",
   "metadata": {},
   "outputs": [
    {
     "name": "stdout",
     "output_type": "stream",
     "text": [
      "\n",
      "\n",
      "\u001b[1m> Entering new StuffDocumentsChain chain...\u001b[0m\n",
      "\n",
      "\u001b[1m> Finished chain.\u001b[0m\n"
     ]
    },
    {
     "data": {
      "text/plain": [
       "{'query': '你们的运动装舒适吗',\n",
       " 'result': '根据提供的上下文，销售员强调他们的运动装舒适透气、具有弹性和吸汗排湿功能，因此可以说他们的运动装应该是舒适的。'}"
      ]
     },
     "execution_count": 36,
     "metadata": {},
     "output_type": "execute_result"
    }
   ],
   "source": [
    "qa_chain({\"query\": \"你们的运动装舒适吗\"})"
   ]
  },
  {
   "cell_type": "code",
   "execution_count": 37,
   "id": "e5fb0943-ffe9-4270-8dbe-f5f5314e6042",
   "metadata": {},
   "outputs": [],
   "source": [
    "# 返回向量数据库的检索结果\n",
    "qa_chain.return_source_documents = True"
   ]
  },
  {
   "cell_type": "code",
   "execution_count": 38,
   "id": "fbc1741e-d34f-4df5-874b-02b78e8cd67a",
   "metadata": {},
   "outputs": [
    {
     "name": "stdout",
     "output_type": "stream",
     "text": [
      "\n",
      "\n",
      "\u001b[1m> Entering new StuffDocumentsChain chain...\u001b[0m\n",
      "\n",
      "\u001b[1m> Finished chain.\u001b[0m\n"
     ]
    }
   ],
   "source": [
    "result = qa_chain({\"query\": \"你们的运动装舒适吗\"})"
   ]
  },
  {
   "cell_type": "code",
   "execution_count": 39,
   "id": "fac8309c-033c-4144-ada0-08e74fa9bf2d",
   "metadata": {},
   "outputs": [
    {
     "data": {
      "text/plain": [
       "{'query': '你们的运动装舒适吗',\n",
       " 'result': '根据提供的信息，我们的运动装设计为舒适透气、具有弹性和吸汗排湿功能，以确保您在运动中感到舒适和自由。',\n",
       " 'source_documents': [Document(page_content='[客户问题] “我希望购买一些适合运动健身穿着的服装，有什么推荐吗？”\\n    [销售回答] “运动健身需要舒适透气且具有弹性的服装，我们有多款适合运动健身穿着的服装，如运动上衣、运动裤、运动内衣等，让您在运动中保持舒适和自由。”'),\n",
       "  Document(page_content='[客户问题] “我想购买一些适合运动健身穿着的服装。”\\n    [销售回答] “运动健身需要舒适透气的服装，同时具备良好的伸缩性和吸汗排湿功能。我们有各种款式的运动服装，包括运动T恤、运动裤、运动文胸等，保证您在运动中保持舒适和自信。”')]}"
      ]
     },
     "execution_count": 39,
     "metadata": {},
     "output_type": "execute_result"
    }
   ],
   "source": [
    "result"
   ]
  },
  {
   "cell_type": "code",
   "execution_count": null,
   "id": "37de84df-999f-4469-9bbe-de9c95c6f6b3",
   "metadata": {},
   "outputs": [],
   "source": []
  }
 ],
 "metadata": {
  "kernelspec": {
   "display_name": "langchain",
   "language": "python",
   "name": "langchain"
  },
  "language_info": {
   "codemirror_mode": {
    "name": "ipython",
    "version": 3
   },
   "file_extension": ".py",
   "mimetype": "text/x-python",
   "name": "python",
   "nbconvert_exporter": "python",
   "pygments_lexer": "ipython3",
   "version": "3.11.8"
  }
 },
 "nbformat": 4,
 "nbformat_minor": 5
}
